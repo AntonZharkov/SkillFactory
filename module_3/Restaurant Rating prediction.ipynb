{
 "cells": [
  {
   "cell_type": "code",
   "execution_count": 1,
   "id": "developing-fitness",
   "metadata": {},
   "outputs": [],
   "source": [
    "import pandas as pd\n",
    "import numpy as np\n",
    "import re\n",
    "import seaborn as sns\n",
    "from collections import Counter\n",
    "from matplotlib import pyplot as plt\n",
    "\n",
    "# Загружаем специальный инструмент для разбивки:\n",
    "from sklearn.model_selection import train_test_split\n",
    "\n",
    "# Импортируем необходимые библиотеки:\n",
    "# инструмент для создания и обучения модели\n",
    "from sklearn.ensemble import RandomForestRegressor\n",
    "from sklearn import metrics  # инструменты для оценки точности модели"
   ]
  },
  {
   "cell_type": "code",
   "execution_count": 2,
   "id": "secure-vertical",
   "metadata": {},
   "outputs": [],
   "source": [
    "# всегда фиксируйте RANDOM_SEED, чтобы ваши эксперименты были воспроизводимы!\n",
    "RANDOM_SEED = 42"
   ]
  },
  {
   "cell_type": "code",
   "execution_count": 3,
   "id": "fabulous-three",
   "metadata": {},
   "outputs": [],
   "source": [
    "# зафиксируем версию пакетов, чтобы эксперименты были воспроизводимы:\n",
    "!pip freeze > requirements.txt"
   ]
  },
  {
   "cell_type": "code",
   "execution_count": 4,
   "id": "active-medication",
   "metadata": {},
   "outputs": [],
   "source": [
    "df_train = pd.read_csv('main_task.csv')\n",
    "df_test = pd.read_csv('kaggle_task.csv')\n",
    "sample_submission = pd.read_csv('sample_submission.csv')\n",
    "pd.set_option('display.max_columns', 200)"
   ]
  },
  {
   "cell_type": "code",
   "execution_count": 5,
   "id": "rental-authentication",
   "metadata": {},
   "outputs": [],
   "source": [
    "# Для корректной обработки признаков объединяем трейн и тест в один датасет:\n",
    "df_train['sample'] = 1 # помечаем где у нас тренировочные данные\n",
    "df_test['sample'] = 0 # помечаем где у нас тестовые данные\n",
    "df_test['Rating'] = 0 # в тестовых у нас нет значения Rating, мы его должны предсказать, по этому пока просто заполняем нулями\n",
    "\n",
    "df = df_test.append(df_train, sort=False).reset_index(drop=True) # объединяем"
   ]
  },
  {
   "cell_type": "code",
   "execution_count": 6,
   "id": "rational-database",
   "metadata": {
    "scrolled": true
   },
   "outputs": [],
   "source": [
    "# переименуем столбцы чтобы было проще к ним обращаться\n",
    "df.rename(columns={'Restaurant_id': 'restaurant_id', 'City': 'city', 'Cuisine Style': 'cuisine_style',\n",
    "                   'Ranking': 'ranking', 'Rating': 'rating', 'Price Range': 'price_range',\n",
    "                   'Number of Reviews': 'number_reviews', 'Reviews': 'reviews', 'URL_TA': 'url_ta', 'ID_TA': 'id_ta'},\n",
    "          inplace=True)"
   ]
  },
  {
   "cell_type": "code",
   "execution_count": 7,
   "id": "metric-philip",
   "metadata": {},
   "outputs": [],
   "source": [
    "# Теперь выделим тестовую часть\n",
    "train_data = df.query('sample == 1').drop(['sample'], axis=1)\n",
    "test_data = df.query('sample == 0').drop(['sample'], axis=1)\n",
    "\n",
    "y = train_data.rating.values            # наш таргет\n",
    "X = train_data.drop(['rating', 'restaurant_id', 'city', 'cuisine_style', 'price_range', 'reviews',\n",
    "                     'url_ta', 'id_ta', ], axis=1).fillna(0)\n",
    "\n",
    "# Воспользуемся специальной функцие train_test_split для разбивки тестовых данных\n",
    "# выделим 20% данных на валидацию (параметр test_size)\n",
    "X_train, X_test, y_train, y_test = train_test_split(\n",
    "    X, y, test_size=0.2, random_state=RANDOM_SEED)"
   ]
  },
  {
   "cell_type": "code",
   "execution_count": 8,
   "id": "medium-queens",
   "metadata": {},
   "outputs": [
    {
     "data": {
      "text/plain": [
       "((10000, 10), (40000, 10), (40000, 2), (32000, 2), (8000, 2))"
      ]
     },
     "execution_count": 8,
     "metadata": {},
     "output_type": "execute_result"
    }
   ],
   "source": [
    "# проверяем\n",
    "test_data.shape, train_data.shape, X.shape, X_train.shape, X_test.shape"
   ]
  },
  {
   "cell_type": "code",
   "execution_count": 9,
   "id": "duplicate-principal",
   "metadata": {},
   "outputs": [],
   "source": [
    "# Создаём модель (НАСТРОЙКИ НЕ ТРОГАЕМ)\n",
    "model = RandomForestRegressor(n_estimators=100, verbose=1, n_jobs=-1, random_state=RANDOM_SEED)"
   ]
  },
  {
   "cell_type": "code",
   "execution_count": 10,
   "id": "cutting-navigator",
   "metadata": {},
   "outputs": [
    {
     "name": "stderr",
     "output_type": "stream",
     "text": [
      "[Parallel(n_jobs=-1)]: Using backend ThreadingBackend with 8 concurrent workers.\n",
      "[Parallel(n_jobs=-1)]: Done  34 tasks      | elapsed:    0.5s\n",
      "[Parallel(n_jobs=-1)]: Done 100 out of 100 | elapsed:    1.1s finished\n",
      "[Parallel(n_jobs=8)]: Using backend ThreadingBackend with 8 concurrent workers.\n",
      "[Parallel(n_jobs=8)]: Done  34 tasks      | elapsed:    0.0s\n",
      "[Parallel(n_jobs=8)]: Done 100 out of 100 | elapsed:    0.0s finished\n"
     ]
    }
   ],
   "source": [
    "# Обучаем модель на тестовом наборе данных\n",
    "model.fit(X_train, y_train)\n",
    "\n",
    "# Используем обученную модель для предсказания рейтинга ресторанов в тестовой выборке.\n",
    "# Предсказанные значения записываем в переменную y_pred\n",
    "y_pred = model.predict(X_test)"
   ]
  },
  {
   "cell_type": "code",
   "execution_count": 11,
   "id": "christian-offense",
   "metadata": {},
   "outputs": [
    {
     "name": "stdout",
     "output_type": "stream",
     "text": [
      "MAE: 0.42548655925324674\n",
      "MSE: 0.35918503279774255\n",
      "RMSE: 0.5993204758705835\n"
     ]
    }
   ],
   "source": [
    "# Сравниваем предсказанные значения (y_pred) с реальными (y_test), и смотрим насколько они в среднем отличаются\n",
    "# Метрика называется Mean Absolute Error (MAE) и показывает среднее отклонение предсказанных значений от фактических.\n",
    "print('MAE:', metrics.mean_absolute_error(y_test, y_pred))\n",
    "print('MSE:', np.square(np.subtract(y_test, y_pred)).mean())\n",
    "MSE = np.square(np.subtract(y_test, y_pred)).mean()\n",
    "print('RMSE:', np.sqrt(MSE))\n",
    "MAE = metrics.mean_absolute_error(y_test, y_pred)"
   ]
  },
  {
   "cell_type": "markdown",
   "id": "reflected-google",
   "metadata": {},
   "source": [
    "# Функции для обработки"
   ]
  },
  {
   "cell_type": "code",
   "execution_count": 12,
   "id": "streaming-overall",
   "metadata": {},
   "outputs": [],
   "source": [
    "def boxplot(col):\n",
    "    '''Выводит для столбца боксплот'''\n",
    "    fig, ax = plt.subplots(figsize=(14, 4))\n",
    "    sns.boxplot(x=col, y='rating', data=df,\n",
    "                ax=ax)\n",
    "    plt.xticks(rotation=45)\n",
    "    ax.set_title('Boxplot for ' + col)\n",
    "    plt.show()\n",
    "\n",
    "\n",
    "def search_outliers(col):\n",
    "    '''Считает для каждого стобца границы выбросов'''\n",
    "    IQR = df[col].quantile(0.75) - df[col].quantile(0.25)\n",
    "    print(\n",
    "        f'Границы выбросов в столбце {col} - [{df[col].quantile(0.25)-1.5*IQR}; {df[col].quantile(0.75)+1.5*IQR}]')\n",
    "\n",
    "\n",
    "def missing_values(col):\n",
    "    '''Показывает кол-во и процент пропущенных значений'''\n",
    "    missing_value_percent = round(df[col].isnull().mean()*100, 2)\n",
    "    print(\n",
    "        f'Процент пропущенных значений в столбце {col} - {missing_value_percent}%')\n",
    "    print(\n",
    "        f'Всего пропущенных значений в столбце {col} - {df[col].isnull().sum()}')\n",
    "\n",
    "\n",
    "def info_col(col):\n",
    "    '''Показывает количество уникальных значений, колличество для каждого значения, информацию о столбце'''\n",
    "    display(df[col].unique())\n",
    "    display(pd.DataFrame(df[col].value_counts()))\n",
    "    display(df.loc[:, [col]].describe())\n",
    "\n",
    "\n",
    "def replace_symbols(text):\n",
    "    '''Удалит все не нужные символы в строке'''\n",
    "    for ch in ['[', ']', \"'\", '\"', ' ']:\n",
    "        if ch in text:\n",
    "            text = text.replace(ch, '')\n",
    "    return text"
   ]
  },
  {
   "cell_type": "code",
   "execution_count": 13,
   "id": "awful-pulse",
   "metadata": {
    "scrolled": false
   },
   "outputs": [
    {
     "data": {
      "image/png": "[encoded data removed]",
      "text/plain": [
       "<Figure size 1440x576 with 2 Axes>"
      ]
     },
     "metadata": {
      "needs_background": "light"
     },
     "output_type": "display_data"
    },
    {
     "name": "stdout",
     "output_type": "stream",
     "text": [
      "Процент пропущенных значений в столбце restaurant_id - 0.0%\n",
      "Процент пропущенных значений в столбце city - 0.0%\n",
      "Процент пропущенных значений в столбце cuisine_style - 23.18%\n",
      "Процент пропущенных значений в столбце ranking - 0.0%\n",
      "Процент пропущенных значений в столбце price_range - 34.72%\n",
      "Процент пропущенных значений в столбце number_reviews - 6.4%\n",
      "Процент пропущенных значений в столбце reviews - 0.0%\n",
      "Процент пропущенных значений в столбце url_ta - 0.0%\n",
      "Процент пропущенных значений в столбце id_ta - 0.0%\n",
      "Процент пропущенных значений в столбце sample - 0.0%\n",
      "Процент пропущенных значений в столбце rating - 0.0%\n"
     ]
    }
   ],
   "source": [
    "fig, ax = plt.subplots(figsize=(20, 8))\n",
    "sns.heatmap(df.isnull(), ax=ax)\n",
    "ax.set_title('Тепловая карта пропущенных значений')\n",
    "plt.show()\n",
    "\n",
    "\n",
    "for i in df.columns:\n",
    "    missing_value_percent = round(df[i].isnull().mean()*100, 2)\n",
    "    print(\n",
    "        f'Процент пропущенных значений в столбце {i} - {missing_value_percent}%')"
   ]
  },
  {
   "cell_type": "markdown",
   "id": "acceptable-adams",
   "metadata": {},
   "source": [
    "# Проведем предварительный анализ для каждого столбца¶\n"
   ]
  },
  {
   "cell_type": "code",
   "execution_count": 14,
   "id": "clear-warner",
   "metadata": {
    "scrolled": true
   },
   "outputs": [
    {
     "data": {
      "text/plain": [
       "array(['id_0', 'id_1', 'id_2', ..., 'id_15736', 'id_12774', 'id_11658'],\n",
       "      dtype=object)"
      ]
     },
     "metadata": {},
     "output_type": "display_data"
    },
    {
     "data": {
      "text/html": [
       "<div>\n",
       "<style scoped>\n",
       "    .dataframe tbody tr th:only-of-type {\n",
       "        vertical-align: middle;\n",
       "    }\n",
       "\n",
       "    .dataframe tbody tr th {\n",
       "        vertical-align: top;\n",
       "    }\n",
       "\n",
       "    .dataframe thead th {\n",
       "        text-align: right;\n",
       "    }\n",
       "</style>\n",
       "<table border=\"1\" class=\"dataframe\">\n",
       "  <thead>\n",
       "    <tr style=\"text-align: right;\">\n",
       "      <th></th>\n",
       "      <th>restaurant_id</th>\n",
       "    </tr>\n",
       "  </thead>\n",
       "  <tbody>\n",
       "    <tr>\n",
       "      <th>id_633</th>\n",
       "      <td>19</td>\n",
       "    </tr>\n",
       "    <tr>\n",
       "      <th>id_436</th>\n",
       "      <td>19</td>\n",
       "    </tr>\n",
       "    <tr>\n",
       "      <th>id_227</th>\n",
       "      <td>19</td>\n",
       "    </tr>\n",
       "    <tr>\n",
       "      <th>id_871</th>\n",
       "      <td>19</td>\n",
       "    </tr>\n",
       "    <tr>\n",
       "      <th>id_344</th>\n",
       "      <td>18</td>\n",
       "    </tr>\n",
       "    <tr>\n",
       "      <th>...</th>\n",
       "      <td>...</td>\n",
       "    </tr>\n",
       "    <tr>\n",
       "      <th>id_14221</th>\n",
       "      <td>1</td>\n",
       "    </tr>\n",
       "    <tr>\n",
       "      <th>id_12494</th>\n",
       "      <td>1</td>\n",
       "    </tr>\n",
       "    <tr>\n",
       "      <th>id_12144</th>\n",
       "      <td>1</td>\n",
       "    </tr>\n",
       "    <tr>\n",
       "      <th>id_6402</th>\n",
       "      <td>1</td>\n",
       "    </tr>\n",
       "    <tr>\n",
       "      <th>id_7754</th>\n",
       "      <td>1</td>\n",
       "    </tr>\n",
       "  </tbody>\n",
       "</table>\n",
       "<p>13094 rows × 1 columns</p>\n",
       "</div>"
      ],
      "text/plain": [
       "          restaurant_id\n",
       "id_633               19\n",
       "id_436               19\n",
       "id_227               19\n",
       "id_871               19\n",
       "id_344               18\n",
       "...                 ...\n",
       "id_14221              1\n",
       "id_12494              1\n",
       "id_12144              1\n",
       "id_6402               1\n",
       "id_7754               1\n",
       "\n",
       "[13094 rows x 1 columns]"
      ]
     },
     "metadata": {},
     "output_type": "display_data"
    },
    {
     "data": {
      "text/html": [
       "<div>\n",
       "<style scoped>\n",
       "    .dataframe tbody tr th:only-of-type {\n",
       "        vertical-align: middle;\n",
       "    }\n",
       "\n",
       "    .dataframe tbody tr th {\n",
       "        vertical-align: top;\n",
       "    }\n",
       "\n",
       "    .dataframe thead th {\n",
       "        text-align: right;\n",
       "    }\n",
       "</style>\n",
       "<table border=\"1\" class=\"dataframe\">\n",
       "  <thead>\n",
       "    <tr style=\"text-align: right;\">\n",
       "      <th></th>\n",
       "      <th>restaurant_id</th>\n",
       "    </tr>\n",
       "  </thead>\n",
       "  <tbody>\n",
       "    <tr>\n",
       "      <th>count</th>\n",
       "      <td>50000</td>\n",
       "    </tr>\n",
       "    <tr>\n",
       "      <th>unique</th>\n",
       "      <td>13094</td>\n",
       "    </tr>\n",
       "    <tr>\n",
       "      <th>top</th>\n",
       "      <td>id_633</td>\n",
       "    </tr>\n",
       "    <tr>\n",
       "      <th>freq</th>\n",
       "      <td>19</td>\n",
       "    </tr>\n",
       "  </tbody>\n",
       "</table>\n",
       "</div>"
      ],
      "text/plain": [
       "       restaurant_id\n",
       "count          50000\n",
       "unique         13094\n",
       "top           id_633\n",
       "freq              19"
      ]
     },
     "metadata": {},
     "output_type": "display_data"
    },
    {
     "name": "stdout",
     "output_type": "stream",
     "text": [
      "\t\n",
      "Процент пропущенных значений в столбце restaurant_id - 0.0%\n",
      "Всего пропущенных значений в столбце restaurant_id - 0\n"
     ]
    }
   ],
   "source": [
    "col = 'restaurant_id'\n",
    "info_col(col)\n",
    "print('\\t')\n",
    "missing_values(col)"
   ]
  },
  {
   "cell_type": "code",
   "execution_count": 15,
   "id": "tender-pastor",
   "metadata": {
    "scrolled": true
   },
   "outputs": [],
   "source": [
    "df.restaurant_id = df.restaurant_id.str.replace('id_', '')"
   ]
  },
  {
   "cell_type": "code",
   "execution_count": 16,
   "id": "structural-african",
   "metadata": {},
   "outputs": [],
   "source": [
    "df.restaurant_id = df.restaurant_id.apply(lambda x: int(x))"
   ]
  },
  {
   "cell_type": "code",
   "execution_count": 17,
   "id": "necessary-foster",
   "metadata": {},
   "outputs": [],
   "source": [
    "count_restaraunt_id = df.restaurant_id.value_counts()\n",
    "# если в сеть рестаранов входит больше 3 заведений то отмечаем что это сеть\n",
    "df['restaraunt_chain'] = df.restaurant_id.apply(lambda x: 1 if count_restaraunt_id.loc[x]>3 else 0)"
   ]
  },
  {
   "cell_type": "code",
   "execution_count": 18,
   "id": "solved-salon",
   "metadata": {},
   "outputs": [
    {
     "data": {
      "image/png": "[encoded data removed]",
      "text/plain": [
       "<Figure size 1800x720 with 1 Axes>"
      ]
     },
     "metadata": {
      "needs_background": "light"
     },
     "output_type": "display_data"
    }
   ],
   "source": [
    "plt.figure(figsize=[25,10])\n",
    "for x in (df.query('sample==1').city.value_counts())[0:10].index:\n",
    "    df.query('sample==1').restaurant_id[df.query('sample==1').city == x].hist(bins=100)\n",
    "plt.show()"
   ]
  },
  {
   "cell_type": "markdown",
   "id": "stretch-latex",
   "metadata": {},
   "source": [
    "restaraunt_id очень похож на ranking, думаю что в дальнейшем его можно будет удалить, если подтвердится корреляция"
   ]
  },
  {
   "cell_type": "markdown",
   "id": "identical-stevens",
   "metadata": {},
   "source": [
    "ИТОГ:\n",
    "1. restaurant_id - удалили id_ и перевели в int\n",
    "2. restaraunt_chain - входит ли ресторан в сеть или нет (сеть от 3 ресторанов)"
   ]
  },
  {
   "cell_type": "code",
   "execution_count": 19,
   "id": "sixth-classics",
   "metadata": {},
   "outputs": [
    {
     "data": {
      "text/plain": [
       "array(['Paris', 'Helsinki', 'Edinburgh', 'London', 'Bratislava', 'Lisbon',\n",
       "       'Budapest', 'Stockholm', 'Rome', 'Milan', 'Munich', 'Hamburg',\n",
       "       'Prague', 'Vienna', 'Dublin', 'Barcelona', 'Brussels', 'Madrid',\n",
       "       'Oslo', 'Amsterdam', 'Berlin', 'Lyon', 'Athens', 'Warsaw',\n",
       "       'Oporto', 'Krakow', 'Copenhagen', 'Luxembourg', 'Zurich', 'Geneva',\n",
       "       'Ljubljana'], dtype=object)"
      ]
     },
     "metadata": {},
     "output_type": "display_data"
    },
    {
     "data": {
      "text/html": [
       "<div>\n",
       "<style scoped>\n",
       "    .dataframe tbody tr th:only-of-type {\n",
       "        vertical-align: middle;\n",
       "    }\n",
       "\n",
       "    .dataframe tbody tr th {\n",
       "        vertical-align: top;\n",
       "    }\n",
       "\n",
       "    .dataframe thead th {\n",
       "        text-align: right;\n",
       "    }\n",
       "</style>\n",
       "<table border=\"1\" class=\"dataframe\">\n",
       "  <thead>\n",
       "    <tr style=\"text-align: right;\">\n",
       "      <th></th>\n",
       "      <th>city</th>\n",
       "    </tr>\n",
       "  </thead>\n",
       "  <tbody>\n",
       "    <tr>\n",
       "      <th>London</th>\n",
       "      <td>7193</td>\n",
       "    </tr>\n",
       "    <tr>\n",
       "      <th>Paris</th>\n",
       "      <td>6108</td>\n",
       "    </tr>\n",
       "    <tr>\n",
       "      <th>Madrid</th>\n",
       "      <td>3813</td>\n",
       "    </tr>\n",
       "    <tr>\n",
       "      <th>Barcelona</th>\n",
       "      <td>3395</td>\n",
       "    </tr>\n",
       "    <tr>\n",
       "      <th>Berlin</th>\n",
       "      <td>2705</td>\n",
       "    </tr>\n",
       "    <tr>\n",
       "      <th>Milan</th>\n",
       "      <td>2694</td>\n",
       "    </tr>\n",
       "    <tr>\n",
       "      <th>Rome</th>\n",
       "      <td>2589</td>\n",
       "    </tr>\n",
       "    <tr>\n",
       "      <th>Prague</th>\n",
       "      <td>1816</td>\n",
       "    </tr>\n",
       "    <tr>\n",
       "      <th>Lisbon</th>\n",
       "      <td>1647</td>\n",
       "    </tr>\n",
       "    <tr>\n",
       "      <th>Vienna</th>\n",
       "      <td>1443</td>\n",
       "    </tr>\n",
       "    <tr>\n",
       "      <th>Amsterdam</th>\n",
       "      <td>1372</td>\n",
       "    </tr>\n",
       "    <tr>\n",
       "      <th>Brussels</th>\n",
       "      <td>1314</td>\n",
       "    </tr>\n",
       "    <tr>\n",
       "      <th>Hamburg</th>\n",
       "      <td>1186</td>\n",
       "    </tr>\n",
       "    <tr>\n",
       "      <th>Munich</th>\n",
       "      <td>1145</td>\n",
       "    </tr>\n",
       "    <tr>\n",
       "      <th>Lyon</th>\n",
       "      <td>1126</td>\n",
       "    </tr>\n",
       "    <tr>\n",
       "      <th>Stockholm</th>\n",
       "      <td>1033</td>\n",
       "    </tr>\n",
       "    <tr>\n",
       "      <th>Budapest</th>\n",
       "      <td>1021</td>\n",
       "    </tr>\n",
       "    <tr>\n",
       "      <th>Warsaw</th>\n",
       "      <td>925</td>\n",
       "    </tr>\n",
       "    <tr>\n",
       "      <th>Dublin</th>\n",
       "      <td>836</td>\n",
       "    </tr>\n",
       "    <tr>\n",
       "      <th>Copenhagen</th>\n",
       "      <td>819</td>\n",
       "    </tr>\n",
       "    <tr>\n",
       "      <th>Athens</th>\n",
       "      <td>776</td>\n",
       "    </tr>\n",
       "    <tr>\n",
       "      <th>Edinburgh</th>\n",
       "      <td>745</td>\n",
       "    </tr>\n",
       "    <tr>\n",
       "      <th>Zurich</th>\n",
       "      <td>685</td>\n",
       "    </tr>\n",
       "    <tr>\n",
       "      <th>Oporto</th>\n",
       "      <td>642</td>\n",
       "    </tr>\n",
       "    <tr>\n",
       "      <th>Geneva</th>\n",
       "      <td>590</td>\n",
       "    </tr>\n",
       "    <tr>\n",
       "      <th>Krakow</th>\n",
       "      <td>554</td>\n",
       "    </tr>\n",
       "    <tr>\n",
       "      <th>Oslo</th>\n",
       "      <td>488</td>\n",
       "    </tr>\n",
       "    <tr>\n",
       "      <th>Helsinki</th>\n",
       "      <td>475</td>\n",
       "    </tr>\n",
       "    <tr>\n",
       "      <th>Bratislava</th>\n",
       "      <td>380</td>\n",
       "    </tr>\n",
       "    <tr>\n",
       "      <th>Luxembourg</th>\n",
       "      <td>263</td>\n",
       "    </tr>\n",
       "    <tr>\n",
       "      <th>Ljubljana</th>\n",
       "      <td>222</td>\n",
       "    </tr>\n",
       "  </tbody>\n",
       "</table>\n",
       "</div>"
      ],
      "text/plain": [
       "            city\n",
       "London      7193\n",
       "Paris       6108\n",
       "Madrid      3813\n",
       "Barcelona   3395\n",
       "Berlin      2705\n",
       "Milan       2694\n",
       "Rome        2589\n",
       "Prague      1816\n",
       "Lisbon      1647\n",
       "Vienna      1443\n",
       "Amsterdam   1372\n",
       "Brussels    1314\n",
       "Hamburg     1186\n",
       "Munich      1145\n",
       "Lyon        1126\n",
       "Stockholm   1033\n",
       "Budapest    1021\n",
       "Warsaw       925\n",
       "Dublin       836\n",
       "Copenhagen   819\n",
       "Athens       776\n",
       "Edinburgh    745\n",
       "Zurich       685\n",
       "Oporto       642\n",
       "Geneva       590\n",
       "Krakow       554\n",
       "Oslo         488\n",
       "Helsinki     475\n",
       "Bratislava   380\n",
       "Luxembourg   263\n",
       "Ljubljana    222"
      ]
     },
     "metadata": {},
     "output_type": "display_data"
    },
    {
     "data": {
      "text/html": [
       "<div>\n",
       "<style scoped>\n",
       "    .dataframe tbody tr th:only-of-type {\n",
       "        vertical-align: middle;\n",
       "    }\n",
       "\n",
       "    .dataframe tbody tr th {\n",
       "        vertical-align: top;\n",
       "    }\n",
       "\n",
       "    .dataframe thead th {\n",
       "        text-align: right;\n",
       "    }\n",
       "</style>\n",
       "<table border=\"1\" class=\"dataframe\">\n",
       "  <thead>\n",
       "    <tr style=\"text-align: right;\">\n",
       "      <th></th>\n",
       "      <th>city</th>\n",
       "    </tr>\n",
       "  </thead>\n",
       "  <tbody>\n",
       "    <tr>\n",
       "      <th>count</th>\n",
       "      <td>50000</td>\n",
       "    </tr>\n",
       "    <tr>\n",
       "      <th>unique</th>\n",
       "      <td>31</td>\n",
       "    </tr>\n",
       "    <tr>\n",
       "      <th>top</th>\n",
       "      <td>London</td>\n",
       "    </tr>\n",
       "    <tr>\n",
       "      <th>freq</th>\n",
       "      <td>7193</td>\n",
       "    </tr>\n",
       "  </tbody>\n",
       "</table>\n",
       "</div>"
      ],
      "text/plain": [
       "          city\n",
       "count    50000\n",
       "unique      31\n",
       "top     London\n",
       "freq      7193"
      ]
     },
     "metadata": {},
     "output_type": "display_data"
    },
    {
     "name": "stdout",
     "output_type": "stream",
     "text": [
      "\t\n",
      "Процент пропущенных значений в столбце city - 0.0%\n",
      "Всего пропущенных значений в столбце city - 0\n"
     ]
    }
   ],
   "source": [
    "col = 'city'\n",
    "info_col(col)\n",
    "print('\\t')\n",
    "missing_values(col)"
   ]
  },
  {
   "cell_type": "code",
   "execution_count": 20,
   "id": "single-touch",
   "metadata": {},
   "outputs": [
    {
     "name": "stdout",
     "output_type": "stream",
     "text": [
      "Процент пропущенных значений в столбце cuisine_style - 23.18%\n",
      "Всего пропущенных значений в столбце cuisine_style - 11590\n"
     ]
    }
   ],
   "source": [
    "col = 'cuisine_style'\n",
    "missing_values(col)"
   ]
  },
  {
   "cell_type": "markdown",
   "id": "figured-yacht",
   "metadata": {},
   "source": [
    "В столбце данные записаны в неудобном формате, приведем их к удобному виду"
   ]
  },
  {
   "cell_type": "code",
   "execution_count": 21,
   "id": "comparative-buying",
   "metadata": {},
   "outputs": [],
   "source": [
    "# удалил лишние символы\n",
    "df.cuisine_style = df.cuisine_style.apply(lambda x: replace_symbols(x) if pd.notna(x) else x)"
   ]
  },
  {
   "cell_type": "code",
   "execution_count": 22,
   "id": "blind-convergence",
   "metadata": {},
   "outputs": [],
   "source": [
    "df['cuisine_style_isNAN'] = pd.isna(df.cuisine_style).astype('uint8')"
   ]
  },
  {
   "cell_type": "code",
   "execution_count": 23,
   "id": "horizontal-words",
   "metadata": {},
   "outputs": [],
   "source": [
    "df.cuisine_style = df.cuisine_style.str.split(',')"
   ]
  },
  {
   "cell_type": "code",
   "execution_count": 24,
   "id": "alternate-fossil",
   "metadata": {
    "scrolled": true
   },
   "outputs": [],
   "source": [
    "# пока заменим все пропуски наиболее часто встречающимся видом кухни\n",
    "df.cuisine_style.fillna('Unknown', inplace=True)"
   ]
  },
  {
   "cell_type": "code",
   "execution_count": 25,
   "id": "challenging-distributor",
   "metadata": {},
   "outputs": [
    {
     "data": {
      "text/plain": [
       "VegetarianFriendly    14021\n",
       "European              12561\n",
       "Unknown               11590\n",
       "Mediterranean          7820\n",
       "Italian                7433\n",
       "                      ...  \n",
       "Polynesian                2\n",
       "Xinjiang                  1\n",
       "Burmese                   1\n",
       "Latvian                   1\n",
       "Salvadoran                1\n",
       "Name: cuisine_style, Length: 126, dtype: int64"
      ]
     },
     "execution_count": 25,
     "metadata": {},
     "output_type": "execute_result"
    }
   ],
   "source": [
    "# получили наиболее часто встречающийся вид кухни\n",
    "top_cuisine_style = df.explode('cuisine_style').cuisine_style.value_counts()\n",
    "top_cuisine_style"
   ]
  },
  {
   "cell_type": "code",
   "execution_count": 26,
   "id": "dying-creek",
   "metadata": {},
   "outputs": [],
   "source": [
    "# сколько видов кухни в ресторане\n",
    "df['cuisine_in_rest'] = df.cuisine_style.apply(lambda x: len(x))"
   ]
  },
  {
   "cell_type": "code",
   "execution_count": 27,
   "id": "robust-ready",
   "metadata": {},
   "outputs": [],
   "source": [
    "mean_cuisine_in_rest_by_city = df.groupby('city')['cuisine_in_rest'].mean()"
   ]
  },
  {
   "cell_type": "code",
   "execution_count": 28,
   "id": "humanitarian-bristol",
   "metadata": {},
   "outputs": [],
   "source": [
    "# сколько видов кухни в ресторане в среднем по городу\n",
    "df['mean_cuisine_in_rest_by_city'] = df.city.apply(lambda x: mean_cuisine_in_rest_by_city.loc[x] )"
   ]
  },
  {
   "cell_type": "markdown",
   "id": "amateur-maximum",
   "metadata": {},
   "source": [
    "ИТОГ:\n",
    "1. df.cuisine_style_isNAN - пропущенные значения по кухням\n",
    "2. df.cuisine_in_rest - сколько видов кухни в ресторане\n",
    "3. df.mean_cuisine_in_rest_by_city - сколько видов кухни в ресторане в среднем по городу"
   ]
  },
  {
   "cell_type": "code",
   "execution_count": 29,
   "id": "ethical-protocol",
   "metadata": {
    "scrolled": true
   },
   "outputs": [
    {
     "name": "stdout",
     "output_type": "stream",
     "text": [
      "Процент пропущенных значений в столбце ranking - 0.0%\n",
      "Всего пропущенных значений в столбце ranking - 0\n"
     ]
    }
   ],
   "source": [
    "col = 'ranking'\n",
    "missing_values(col)"
   ]
  },
  {
   "cell_type": "code",
   "execution_count": 30,
   "id": "4e1dee88",
   "metadata": {},
   "outputs": [
    {
     "data": {
      "image/png": "[encoded data removed]",
      "text/plain": [
       "<Figure size 1800x720 with 1 Axes>"
      ]
     },
     "metadata": {
      "needs_background": "light"
     },
     "output_type": "display_data"
    }
   ],
   "source": [
    "# посмотрим на топ 10 городов\n",
    "plt.figure(figsize=[25,10])\n",
    "for x in (df.query('sample==1').city.value_counts())[0:10].index:\n",
    "    df.query('sample==1').ranking[df.query('sample==1').city == x].hist(bins=100)\n",
    "plt.show()"
   ]
  },
  {
   "cell_type": "code",
   "execution_count": 31,
   "id": "virtual-courtesy",
   "metadata": {},
   "outputs": [],
   "source": [
    "# максимальный ранг по городу\n",
    "max_ranking_on_city = df.groupby(['city'])['ranking'].max()\n",
    "df['max_ranking_on_city'] = df.city.apply(lambda x: max_ranking_on_city[x])\n",
    "min_ranking_on_city = df.groupby(['city'])['ranking'].min()\n",
    "df['min_ranking_on_city'] = df.city.apply(lambda x: min_ranking_on_city[x])"
   ]
  },
  {
   "cell_type": "code",
   "execution_count": 32,
   "id": "interstate-unknown",
   "metadata": {},
   "outputs": [],
   "source": [
    "# нормированный ранг по каждому городу\n",
    "df['norm_ranking_on_MAX_MINRank'] = (\n",
    "    df.ranking - df.min_ranking_on_city) / (df.max_ranking_on_city - df.min_ranking_on_city)"
   ]
  },
  {
   "cell_type": "code",
   "execution_count": 33,
   "id": "323d8794",
   "metadata": {},
   "outputs": [
    {
     "data": {
      "image/png": "[encoded data removed]",
      "text/plain": [
       "<Figure size 1800x720 with 1 Axes>"
      ]
     },
     "metadata": {
      "needs_background": "light"
     },
     "output_type": "display_data"
    }
   ],
   "source": [
    "# посмотрим на топ 10 городов после нормализации\n",
    "plt.figure(figsize=[25,10])\n",
    "for x in (df.query('sample==1').city.value_counts())[0:10].index:\n",
    "    df.query('sample==1').norm_ranking_on_MAX_MINRank[df.query('sample==1').city == x].hist(bins=100)\n",
    "plt.show()"
   ]
  },
  {
   "cell_type": "markdown",
   "id": "6f4a5230",
   "metadata": {},
   "source": [
    "ИТОГ:\n",
    "1. df.max_ranking_on_city - максимальный ранг по городу\n",
    "2. df.min_ranking_on_city - минимальный ранг по городу\n",
    "3. df.norm_ranking_on_MAX_MINRank - нормированный ранг по каждому городу"
   ]
  },
  {
   "cell_type": "code",
   "execution_count": 34,
   "id": "prostate-sweden",
   "metadata": {
    "scrolled": true
   },
   "outputs": [
    {
     "data": {
      "text/plain": [
       "array([0. , 3.5, 4. , 4.5, 5. , 3. , 2.5, 2. , 1. , 1.5])"
      ]
     },
     "metadata": {},
     "output_type": "display_data"
    },
    {
     "data": {
      "text/html": [
       "<div>\n",
       "<style scoped>\n",
       "    .dataframe tbody tr th:only-of-type {\n",
       "        vertical-align: middle;\n",
       "    }\n",
       "\n",
       "    .dataframe tbody tr th {\n",
       "        vertical-align: top;\n",
       "    }\n",
       "\n",
       "    .dataframe thead th {\n",
       "        text-align: right;\n",
       "    }\n",
       "</style>\n",
       "<table border=\"1\" class=\"dataframe\">\n",
       "  <thead>\n",
       "    <tr style=\"text-align: right;\">\n",
       "      <th></th>\n",
       "      <th>rating</th>\n",
       "    </tr>\n",
       "  </thead>\n",
       "  <tbody>\n",
       "    <tr>\n",
       "      <th>4.0</th>\n",
       "      <td>13692</td>\n",
       "    </tr>\n",
       "    <tr>\n",
       "      <th>4.5</th>\n",
       "      <td>10929</td>\n",
       "    </tr>\n",
       "    <tr>\n",
       "      <th>0.0</th>\n",
       "      <td>10000</td>\n",
       "    </tr>\n",
       "    <tr>\n",
       "      <th>3.5</th>\n",
       "      <td>6824</td>\n",
       "    </tr>\n",
       "    <tr>\n",
       "      <th>5.0</th>\n",
       "      <td>3879</td>\n",
       "    </tr>\n",
       "    <tr>\n",
       "      <th>3.0</th>\n",
       "      <td>2955</td>\n",
       "    </tr>\n",
       "    <tr>\n",
       "      <th>2.5</th>\n",
       "      <td>915</td>\n",
       "    </tr>\n",
       "    <tr>\n",
       "      <th>2.0</th>\n",
       "      <td>466</td>\n",
       "    </tr>\n",
       "    <tr>\n",
       "      <th>1.0</th>\n",
       "      <td>201</td>\n",
       "    </tr>\n",
       "    <tr>\n",
       "      <th>1.5</th>\n",
       "      <td>139</td>\n",
       "    </tr>\n",
       "  </tbody>\n",
       "</table>\n",
       "</div>"
      ],
      "text/plain": [
       "     rating\n",
       "4.0   13692\n",
       "4.5   10929\n",
       "0.0   10000\n",
       "3.5    6824\n",
       "5.0    3879\n",
       "3.0    2955\n",
       "2.5     915\n",
       "2.0     466\n",
       "1.0     201\n",
       "1.5     139"
      ]
     },
     "metadata": {},
     "output_type": "display_data"
    },
    {
     "data": {
      "text/html": [
       "<div>\n",
       "<style scoped>\n",
       "    .dataframe tbody tr th:only-of-type {\n",
       "        vertical-align: middle;\n",
       "    }\n",
       "\n",
       "    .dataframe tbody tr th {\n",
       "        vertical-align: top;\n",
       "    }\n",
       "\n",
       "    .dataframe thead th {\n",
       "        text-align: right;\n",
       "    }\n",
       "</style>\n",
       "<table border=\"1\" class=\"dataframe\">\n",
       "  <thead>\n",
       "    <tr style=\"text-align: right;\">\n",
       "      <th></th>\n",
       "      <th>rating</th>\n",
       "    </tr>\n",
       "  </thead>\n",
       "  <tbody>\n",
       "    <tr>\n",
       "      <th>count</th>\n",
       "      <td>50000.000000</td>\n",
       "    </tr>\n",
       "    <tr>\n",
       "      <th>mean</th>\n",
       "      <td>3.194430</td>\n",
       "    </tr>\n",
       "    <tr>\n",
       "      <th>std</th>\n",
       "      <td>1.705453</td>\n",
       "    </tr>\n",
       "    <tr>\n",
       "      <th>min</th>\n",
       "      <td>0.000000</td>\n",
       "    </tr>\n",
       "    <tr>\n",
       "      <th>25%</th>\n",
       "      <td>3.000000</td>\n",
       "    </tr>\n",
       "    <tr>\n",
       "      <th>50%</th>\n",
       "      <td>4.000000</td>\n",
       "    </tr>\n",
       "    <tr>\n",
       "      <th>75%</th>\n",
       "      <td>4.500000</td>\n",
       "    </tr>\n",
       "    <tr>\n",
       "      <th>max</th>\n",
       "      <td>5.000000</td>\n",
       "    </tr>\n",
       "  </tbody>\n",
       "</table>\n",
       "</div>"
      ],
      "text/plain": [
       "             rating\n",
       "count  50000.000000\n",
       "mean       3.194430\n",
       "std        1.705453\n",
       "min        0.000000\n",
       "25%        3.000000\n",
       "50%        4.000000\n",
       "75%        4.500000\n",
       "max        5.000000"
      ]
     },
     "metadata": {},
     "output_type": "display_data"
    },
    {
     "name": "stdout",
     "output_type": "stream",
     "text": [
      "\t\n",
      "Процент пропущенных значений в столбце rating - 0.0%\n",
      "Всего пропущенных значений в столбце rating - 0\n"
     ]
    }
   ],
   "source": [
    "col = 'rating'\n",
    "info_col(col)\n",
    "print('\\t')\n",
    "missing_values(col)"
   ]
  },
  {
   "cell_type": "code",
   "execution_count": 35,
   "id": "received-district",
   "metadata": {
    "scrolled": false
   },
   "outputs": [
    {
     "data": {
      "text/plain": [
       "array(['$$ - $$$', '$$$$', '$', nan], dtype=object)"
      ]
     },
     "metadata": {},
     "output_type": "display_data"
    },
    {
     "data": {
      "text/html": [
       "<div>\n",
       "<style scoped>\n",
       "    .dataframe tbody tr th:only-of-type {\n",
       "        vertical-align: middle;\n",
       "    }\n",
       "\n",
       "    .dataframe tbody tr th {\n",
       "        vertical-align: top;\n",
       "    }\n",
       "\n",
       "    .dataframe thead th {\n",
       "        text-align: right;\n",
       "    }\n",
       "</style>\n",
       "<table border=\"1\" class=\"dataframe\">\n",
       "  <thead>\n",
       "    <tr style=\"text-align: right;\">\n",
       "      <th></th>\n",
       "      <th>price_range</th>\n",
       "    </tr>\n",
       "  </thead>\n",
       "  <tbody>\n",
       "    <tr>\n",
       "      <th>$$ - $$$</th>\n",
       "      <td>23041</td>\n",
       "    </tr>\n",
       "    <tr>\n",
       "      <th>$</th>\n",
       "      <td>7816</td>\n",
       "    </tr>\n",
       "    <tr>\n",
       "      <th>$$$$</th>\n",
       "      <td>1782</td>\n",
       "    </tr>\n",
       "  </tbody>\n",
       "</table>\n",
       "</div>"
      ],
      "text/plain": [
       "          price_range\n",
       "$$ - $$$        23041\n",
       "$                7816\n",
       "$$$$             1782"
      ]
     },
     "metadata": {},
     "output_type": "display_data"
    },
    {
     "data": {
      "text/html": [
       "<div>\n",
       "<style scoped>\n",
       "    .dataframe tbody tr th:only-of-type {\n",
       "        vertical-align: middle;\n",
       "    }\n",
       "\n",
       "    .dataframe tbody tr th {\n",
       "        vertical-align: top;\n",
       "    }\n",
       "\n",
       "    .dataframe thead th {\n",
       "        text-align: right;\n",
       "    }\n",
       "</style>\n",
       "<table border=\"1\" class=\"dataframe\">\n",
       "  <thead>\n",
       "    <tr style=\"text-align: right;\">\n",
       "      <th></th>\n",
       "      <th>price_range</th>\n",
       "    </tr>\n",
       "  </thead>\n",
       "  <tbody>\n",
       "    <tr>\n",
       "      <th>count</th>\n",
       "      <td>32639</td>\n",
       "    </tr>\n",
       "    <tr>\n",
       "      <th>unique</th>\n",
       "      <td>3</td>\n",
       "    </tr>\n",
       "    <tr>\n",
       "      <th>top</th>\n",
       "      <td>$$ - $$$</td>\n",
       "    </tr>\n",
       "    <tr>\n",
       "      <th>freq</th>\n",
       "      <td>23041</td>\n",
       "    </tr>\n",
       "  </tbody>\n",
       "</table>\n",
       "</div>"
      ],
      "text/plain": [
       "       price_range\n",
       "count        32639\n",
       "unique           3\n",
       "top       $$ - $$$\n",
       "freq         23041"
      ]
     },
     "metadata": {},
     "output_type": "display_data"
    },
    {
     "name": "stdout",
     "output_type": "stream",
     "text": [
      "\t\n",
      "Процент пропущенных значений в столбце price_range - 34.72%\n",
      "Всего пропущенных значений в столбце price_range - 17361\n"
     ]
    }
   ],
   "source": [
    "col = 'price_range'\n",
    "info_col(col)\n",
    "print('\\t')\n",
    "missing_values(col)"
   ]
  },
  {
   "cell_type": "code",
   "execution_count": 36,
   "id": "provincial-glossary",
   "metadata": {
    "scrolled": true
   },
   "outputs": [
    {
     "data": {
      "text/plain": [
       "$$ - $$$    23041\n",
       "$            7816\n",
       "$$$$         1782\n",
       "Name: price_range, dtype: int64"
      ]
     },
     "execution_count": 36,
     "metadata": {},
     "output_type": "execute_result"
    }
   ],
   "source": [
    "df.price_range.value_counts()"
   ]
  },
  {
   "cell_type": "code",
   "execution_count": 37,
   "id": "invisible-darkness",
   "metadata": {},
   "outputs": [],
   "source": [
    "df['price_range_isNAN'] = pd.isna(df.price_range).astype('uint8')"
   ]
  },
  {
   "cell_type": "code",
   "execution_count": 38,
   "id": "lesbian-checkout",
   "metadata": {},
   "outputs": [],
   "source": [
    "# переименовал $ в слова так как значки плохо отображаются\n",
    "df.price_range = df.price_range.apply(lambda x: x if pd.isna(x) else(\n",
    "    'cheaply' if x == '$' else ('average' if x == '$$ - $$$' else ('expensive'))))"
   ]
  },
  {
   "cell_type": "code",
   "execution_count": 39,
   "id": "bored-cathedral",
   "metadata": {},
   "outputs": [],
   "source": [
    "# такой вид заполнения давал чуть более лучший результат\n",
    "df.price_range.fillna(method='bfill', inplace=True)"
   ]
  },
  {
   "cell_type": "code",
   "execution_count": 40,
   "id": "owned-thong",
   "metadata": {
    "scrolled": false
   },
   "outputs": [
    {
     "data": {
      "image/png": "[encoded data removed]",
      "text/plain": [
       "<Figure size 1800x1080 with 1 Axes>"
      ]
     },
     "metadata": {
      "needs_background": "light"
     },
     "output_type": "display_data"
    }
   ],
   "source": [
    "plt.figure(figsize=[25, 15])\n",
    "sns.boxplot(x=df.query('sample==1').city, y=df.rating)\n",
    "plt.xticks(rotation=45)\n",
    "plt.show()"
   ]
  },
  {
   "cell_type": "markdown",
   "id": "united-hanging",
   "metadata": {},
   "source": [
    "Думаю, что признак price_range не особо улучшит нашу модель."
   ]
  },
  {
   "cell_type": "code",
   "execution_count": 41,
   "id": "dutch-share",
   "metadata": {
    "scrolled": true
   },
   "outputs": [
    {
     "data": {
      "text/plain": [
       "array(['average', 'expensive', 'cheaply'], dtype=object)"
      ]
     },
     "metadata": {},
     "output_type": "display_data"
    },
    {
     "data": {
      "text/html": [
       "<div>\n",
       "<style scoped>\n",
       "    .dataframe tbody tr th:only-of-type {\n",
       "        vertical-align: middle;\n",
       "    }\n",
       "\n",
       "    .dataframe tbody tr th {\n",
       "        vertical-align: top;\n",
       "    }\n",
       "\n",
       "    .dataframe thead th {\n",
       "        text-align: right;\n",
       "    }\n",
       "</style>\n",
       "<table border=\"1\" class=\"dataframe\">\n",
       "  <thead>\n",
       "    <tr style=\"text-align: right;\">\n",
       "      <th></th>\n",
       "      <th>price_range</th>\n",
       "    </tr>\n",
       "  </thead>\n",
       "  <tbody>\n",
       "    <tr>\n",
       "      <th>average</th>\n",
       "      <td>35297</td>\n",
       "    </tr>\n",
       "    <tr>\n",
       "      <th>cheaply</th>\n",
       "      <td>12019</td>\n",
       "    </tr>\n",
       "    <tr>\n",
       "      <th>expensive</th>\n",
       "      <td>2684</td>\n",
       "    </tr>\n",
       "  </tbody>\n",
       "</table>\n",
       "</div>"
      ],
      "text/plain": [
       "           price_range\n",
       "average          35297\n",
       "cheaply          12019\n",
       "expensive         2684"
      ]
     },
     "metadata": {},
     "output_type": "display_data"
    },
    {
     "data": {
      "text/html": [
       "<div>\n",
       "<style scoped>\n",
       "    .dataframe tbody tr th:only-of-type {\n",
       "        vertical-align: middle;\n",
       "    }\n",
       "\n",
       "    .dataframe tbody tr th {\n",
       "        vertical-align: top;\n",
       "    }\n",
       "\n",
       "    .dataframe thead th {\n",
       "        text-align: right;\n",
       "    }\n",
       "</style>\n",
       "<table border=\"1\" class=\"dataframe\">\n",
       "  <thead>\n",
       "    <tr style=\"text-align: right;\">\n",
       "      <th></th>\n",
       "      <th>price_range</th>\n",
       "    </tr>\n",
       "  </thead>\n",
       "  <tbody>\n",
       "    <tr>\n",
       "      <th>count</th>\n",
       "      <td>50000</td>\n",
       "    </tr>\n",
       "    <tr>\n",
       "      <th>unique</th>\n",
       "      <td>3</td>\n",
       "    </tr>\n",
       "    <tr>\n",
       "      <th>top</th>\n",
       "      <td>average</td>\n",
       "    </tr>\n",
       "    <tr>\n",
       "      <th>freq</th>\n",
       "      <td>35297</td>\n",
       "    </tr>\n",
       "  </tbody>\n",
       "</table>\n",
       "</div>"
      ],
      "text/plain": [
       "       price_range\n",
       "count        50000\n",
       "unique           3\n",
       "top        average\n",
       "freq         35297"
      ]
     },
     "metadata": {},
     "output_type": "display_data"
    },
    {
     "name": "stdout",
     "output_type": "stream",
     "text": [
      "\t\n",
      "Процент пропущенных значений в столбце price_range - 0.0%\n",
      "Всего пропущенных значений в столбце price_range - 0\n"
     ]
    }
   ],
   "source": [
    "info_col(col)\n",
    "print('\\t')\n",
    "missing_values(col)"
   ]
  },
  {
   "cell_type": "markdown",
   "id": "linear-county",
   "metadata": {},
   "source": [
    "ИТОГ:\n",
    "1. Заменили значки долларов на cheaply, average, expensive\n",
    "2. Пропуски заполнили методом bfill\n",
    "3. df.price_range_isNAN - пропущенные значения price_range"
   ]
  },
  {
   "cell_type": "code",
   "execution_count": 42,
   "id": "fifty-nicaragua",
   "metadata": {},
   "outputs": [
    {
     "data": {
      "text/plain": [
       "array([   4.,   97.,   28., ...,  765., 2272., 2297.])"
      ]
     },
     "metadata": {},
     "output_type": "display_data"
    },
    {
     "data": {
      "text/html": [
       "<div>\n",
       "<style scoped>\n",
       "    .dataframe tbody tr th:only-of-type {\n",
       "        vertical-align: middle;\n",
       "    }\n",
       "\n",
       "    .dataframe tbody tr th {\n",
       "        vertical-align: top;\n",
       "    }\n",
       "\n",
       "    .dataframe thead th {\n",
       "        text-align: right;\n",
       "    }\n",
       "</style>\n",
       "<table border=\"1\" class=\"dataframe\">\n",
       "  <thead>\n",
       "    <tr style=\"text-align: right;\">\n",
       "      <th></th>\n",
       "      <th>number_reviews</th>\n",
       "    </tr>\n",
       "  </thead>\n",
       "  <tbody>\n",
       "    <tr>\n",
       "      <th>2.0</th>\n",
       "      <td>2403</td>\n",
       "    </tr>\n",
       "    <tr>\n",
       "      <th>3.0</th>\n",
       "      <td>2042</td>\n",
       "    </tr>\n",
       "    <tr>\n",
       "      <th>4.0</th>\n",
       "      <td>1707</td>\n",
       "    </tr>\n",
       "    <tr>\n",
       "      <th>5.0</th>\n",
       "      <td>1471</td>\n",
       "    </tr>\n",
       "    <tr>\n",
       "      <th>6.0</th>\n",
       "      <td>1258</td>\n",
       "    </tr>\n",
       "    <tr>\n",
       "      <th>...</th>\n",
       "      <td>...</td>\n",
       "    </tr>\n",
       "    <tr>\n",
       "      <th>1330.0</th>\n",
       "      <td>1</td>\n",
       "    </tr>\n",
       "    <tr>\n",
       "      <th>1169.0</th>\n",
       "      <td>1</td>\n",
       "    </tr>\n",
       "    <tr>\n",
       "      <th>2148.0</th>\n",
       "      <td>1</td>\n",
       "    </tr>\n",
       "    <tr>\n",
       "      <th>8927.0</th>\n",
       "      <td>1</td>\n",
       "    </tr>\n",
       "    <tr>\n",
       "      <th>995.0</th>\n",
       "      <td>1</td>\n",
       "    </tr>\n",
       "  </tbody>\n",
       "</table>\n",
       "<p>1573 rows × 1 columns</p>\n",
       "</div>"
      ],
      "text/plain": [
       "        number_reviews\n",
       "2.0               2403\n",
       "3.0               2042\n",
       "4.0               1707\n",
       "5.0               1471\n",
       "6.0               1258\n",
       "...                ...\n",
       "1330.0               1\n",
       "1169.0               1\n",
       "2148.0               1\n",
       "8927.0               1\n",
       "995.0                1\n",
       "\n",
       "[1573 rows x 1 columns]"
      ]
     },
     "metadata": {},
     "output_type": "display_data"
    },
    {
     "data": {
      "text/html": [
       "<div>\n",
       "<style scoped>\n",
       "    .dataframe tbody tr th:only-of-type {\n",
       "        vertical-align: middle;\n",
       "    }\n",
       "\n",
       "    .dataframe tbody tr th {\n",
       "        vertical-align: top;\n",
       "    }\n",
       "\n",
       "    .dataframe thead th {\n",
       "        text-align: right;\n",
       "    }\n",
       "</style>\n",
       "<table border=\"1\" class=\"dataframe\">\n",
       "  <thead>\n",
       "    <tr style=\"text-align: right;\">\n",
       "      <th></th>\n",
       "      <th>number_reviews</th>\n",
       "    </tr>\n",
       "  </thead>\n",
       "  <tbody>\n",
       "    <tr>\n",
       "      <th>count</th>\n",
       "      <td>46800.000000</td>\n",
       "    </tr>\n",
       "    <tr>\n",
       "      <th>mean</th>\n",
       "      <td>124.471197</td>\n",
       "    </tr>\n",
       "    <tr>\n",
       "      <th>std</th>\n",
       "      <td>294.114345</td>\n",
       "    </tr>\n",
       "    <tr>\n",
       "      <th>min</th>\n",
       "      <td>2.000000</td>\n",
       "    </tr>\n",
       "    <tr>\n",
       "      <th>25%</th>\n",
       "      <td>9.000000</td>\n",
       "    </tr>\n",
       "    <tr>\n",
       "      <th>50%</th>\n",
       "      <td>33.000000</td>\n",
       "    </tr>\n",
       "    <tr>\n",
       "      <th>75%</th>\n",
       "      <td>115.000000</td>\n",
       "    </tr>\n",
       "    <tr>\n",
       "      <th>max</th>\n",
       "      <td>9660.000000</td>\n",
       "    </tr>\n",
       "  </tbody>\n",
       "</table>\n",
       "</div>"
      ],
      "text/plain": [
       "       number_reviews\n",
       "count    46800.000000\n",
       "mean       124.471197\n",
       "std        294.114345\n",
       "min          2.000000\n",
       "25%          9.000000\n",
       "50%         33.000000\n",
       "75%        115.000000\n",
       "max       9660.000000"
      ]
     },
     "metadata": {},
     "output_type": "display_data"
    },
    {
     "name": "stdout",
     "output_type": "stream",
     "text": [
      "\t\n",
      "Процент пропущенных значений в столбце number_reviews - 6.4%\n",
      "Всего пропущенных значений в столбце number_reviews - 3200\n",
      "\t\n",
      "Границы выбросов в столбце number_reviews - [-150.0; 274.0]\n"
     ]
    }
   ],
   "source": [
    "col = 'number_reviews'\n",
    "info_col(col)\n",
    "print('\\t')\n",
    "missing_values(col)\n",
    "print('\\t')\n",
    "search_outliers(col)"
   ]
  },
  {
   "cell_type": "code",
   "execution_count": 43,
   "id": "temporal-marble",
   "metadata": {},
   "outputs": [],
   "source": [
    "df['number_of_reviews_isNAN'] = pd.isna(df.number_reviews).astype('uint8')"
   ]
  },
  {
   "cell_type": "code",
   "execution_count": 44,
   "id": "standing-network",
   "metadata": {},
   "outputs": [],
   "source": [
    "min_review_on_city = df.groupby(['city'])['number_reviews'].min()\n",
    "df['min_review_on_city'] = df.city.apply(lambda x: min_review_on_city[x])"
   ]
  },
  {
   "cell_type": "code",
   "execution_count": 45,
   "id": "optimum-sound",
   "metadata": {},
   "outputs": [],
   "source": [
    "max_review_on_city = df.groupby(['city'])['number_reviews'].max()\n",
    "df['max_review_on_city'] = df.city.apply(lambda x: max_review_on_city[x])"
   ]
  },
  {
   "cell_type": "code",
   "execution_count": 46,
   "id": "confidential-savage",
   "metadata": {},
   "outputs": [],
   "source": [
    "# заполним пропуски 0, чтобы не было ошибки\n",
    "df.number_reviews.fillna(0, inplace=True)"
   ]
  },
  {
   "cell_type": "code",
   "execution_count": 47,
   "id": "introductory-nebraska",
   "metadata": {},
   "outputs": [],
   "source": [
    "df['norm_number_review'] = (df.number_reviews - df.min_review_on_city) / \\\n",
    "    (df.max_review_on_city - df.min_review_on_city)"
   ]
  },
  {
   "cell_type": "code",
   "execution_count": 48,
   "id": "decreased-thomas",
   "metadata": {},
   "outputs": [],
   "source": [
    "# отрицательные значения заменим на 0\n",
    "df.norm_number_review = df.norm_number_review.apply(lambda x: 0 if x<0 else x)"
   ]
  },
  {
   "cell_type": "markdown",
   "id": "average-perfume",
   "metadata": {},
   "source": [
    "ИТОГО:\n",
    "1. df.number_of_reviews_isNAN - пропуски в number_of_reviews\n",
    "2. df.min_review_on_city - минимальный колличество отзывов ресторане по городу\n",
    "3. df.max_review_on_city - максимальное колличество отзывов ресторане по городу\n",
    "4. df.norm_number_review - нормированное число отзывов по каждому городу (Max_Min)"
   ]
  },
  {
   "cell_type": "code",
   "execution_count": 49,
   "id": "dominican-constitution",
   "metadata": {},
   "outputs": [
    {
     "data": {
      "text/plain": [
       "array(['[[], []]',\n",
       "       \"[['Very good reviews!', 'Fine dining in Hakaniemi'], ['12/05/2017', '10/29/2017']]\",\n",
       "       \"[['Better than the Links', 'Ivy Black'], ['12/28/2017', '12/06/2017']]\",\n",
       "       ...,\n",
       "       \"[['Good by swedish standards', 'A hidden jewel in the middle of Västertorp...'], ['11/03/2016', '04/12/2008']]\",\n",
       "       \"[['Underground restaurant', 'Oldest Restaurant in Warsaw'], ['07/11/2017', '06/18/2017']]\",\n",
       "       \"[['Average', 'Nice an informal'], ['01/31/2016', '07/04/2012']]\"],\n",
       "      dtype=object)"
      ]
     },
     "metadata": {},
     "output_type": "display_data"
    },
    {
     "data": {
      "text/html": [
       "<div>\n",
       "<style scoped>\n",
       "    .dataframe tbody tr th:only-of-type {\n",
       "        vertical-align: middle;\n",
       "    }\n",
       "\n",
       "    .dataframe tbody tr th {\n",
       "        vertical-align: top;\n",
       "    }\n",
       "\n",
       "    .dataframe thead th {\n",
       "        text-align: right;\n",
       "    }\n",
       "</style>\n",
       "<table border=\"1\" class=\"dataframe\">\n",
       "  <thead>\n",
       "    <tr style=\"text-align: right;\">\n",
       "      <th></th>\n",
       "      <th>reviews</th>\n",
       "    </tr>\n",
       "  </thead>\n",
       "  <tbody>\n",
       "    <tr>\n",
       "      <th>[[], []]</th>\n",
       "      <td>8112</td>\n",
       "    </tr>\n",
       "    <tr>\n",
       "      <th>[['Great Asian Option', 'Wow'], ['10/16/2017', '09/07/2016']]</th>\n",
       "      <td>2</td>\n",
       "    </tr>\n",
       "    <tr>\n",
       "      <th>[['Excellent cuisine, friendly and helpful se...', 'Not tasty'], ['12/25/2016', '06/05/2016']]</th>\n",
       "      <td>2</td>\n",
       "    </tr>\n",
       "    <tr>\n",
       "      <th>[['ok for beer, not for dinner'], ['12/20/2017']]</th>\n",
       "      <td>2</td>\n",
       "    </tr>\n",
       "    <tr>\n",
       "      <th>[['Excellent'], ['09/03/2015']]</th>\n",
       "      <td>2</td>\n",
       "    </tr>\n",
       "    <tr>\n",
       "      <th>...</th>\n",
       "      <td>...</td>\n",
       "    </tr>\n",
       "    <tr>\n",
       "      <th>[['Quality kebabs', 'Enjoying friendly dinner'], ['10/02/2017', '09/18/2017']]</th>\n",
       "      <td>1</td>\n",
       "    </tr>\n",
       "    <tr>\n",
       "      <th>[['Nice Place', 'Watch Paris go by...'], ['10/14/2017', '09/05/2017']]</th>\n",
       "      <td>1</td>\n",
       "    </tr>\n",
       "    <tr>\n",
       "      <th>[['Go for the view, not for the food', 'Sun kissed roof'], ['07/16/2016', '06/03/2016']]</th>\n",
       "      <td>1</td>\n",
       "    </tr>\n",
       "    <tr>\n",
       "      <th>[['Absolutely authentic Polish restaurant', 'Raw Chicken!!!!!!!! (Photos attached)'], ['12/03/2017', '11/22/2017']]</th>\n",
       "      <td>1</td>\n",
       "    </tr>\n",
       "    <tr>\n",
       "      <th>[['A classy rock bar!', 'Good location'], ['03/18/2017', '09/17/2016']]</th>\n",
       "      <td>1</td>\n",
       "    </tr>\n",
       "  </tbody>\n",
       "</table>\n",
       "<p>41857 rows × 1 columns</p>\n",
       "</div>"
      ],
      "text/plain": [
       "                                                    reviews\n",
       "[[], []]                                               8112\n",
       "[['Great Asian Option', 'Wow'], ['10/16/2017', ...        2\n",
       "[['Excellent cuisine, friendly and helpful se.....        2\n",
       "[['ok for beer, not for dinner'], ['12/20/2017']]         2\n",
       "[['Excellent'], ['09/03/2015']]                           2\n",
       "...                                                     ...\n",
       "[['Quality kebabs', 'Enjoying friendly dinner']...        1\n",
       "[['Nice Place', 'Watch Paris go by...'], ['10/1...        1\n",
       "[['Go for the view, not for the food', 'Sun kis...        1\n",
       "[['Absolutely authentic Polish restaurant', 'Ra...        1\n",
       "[['A classy rock bar!', 'Good location'], ['03/...        1\n",
       "\n",
       "[41857 rows x 1 columns]"
      ]
     },
     "metadata": {},
     "output_type": "display_data"
    },
    {
     "data": {
      "text/html": [
       "<div>\n",
       "<style scoped>\n",
       "    .dataframe tbody tr th:only-of-type {\n",
       "        vertical-align: middle;\n",
       "    }\n",
       "\n",
       "    .dataframe tbody tr th {\n",
       "        vertical-align: top;\n",
       "    }\n",
       "\n",
       "    .dataframe thead th {\n",
       "        text-align: right;\n",
       "    }\n",
       "</style>\n",
       "<table border=\"1\" class=\"dataframe\">\n",
       "  <thead>\n",
       "    <tr style=\"text-align: right;\">\n",
       "      <th></th>\n",
       "      <th>reviews</th>\n",
       "    </tr>\n",
       "  </thead>\n",
       "  <tbody>\n",
       "    <tr>\n",
       "      <th>count</th>\n",
       "      <td>49998</td>\n",
       "    </tr>\n",
       "    <tr>\n",
       "      <th>unique</th>\n",
       "      <td>41857</td>\n",
       "    </tr>\n",
       "    <tr>\n",
       "      <th>top</th>\n",
       "      <td>[[], []]</td>\n",
       "    </tr>\n",
       "    <tr>\n",
       "      <th>freq</th>\n",
       "      <td>8112</td>\n",
       "    </tr>\n",
       "  </tbody>\n",
       "</table>\n",
       "</div>"
      ],
      "text/plain": [
       "         reviews\n",
       "count      49998\n",
       "unique     41857\n",
       "top     [[], []]\n",
       "freq        8112"
      ]
     },
     "metadata": {},
     "output_type": "display_data"
    },
    {
     "name": "stdout",
     "output_type": "stream",
     "text": [
      "\t\n",
      "Процент пропущенных значений в столбце reviews - 0.0%\n",
      "Всего пропущенных значений в столбце reviews - 2\n"
     ]
    }
   ],
   "source": [
    "col = 'reviews'\n",
    "info_col(col)\n",
    "print('\\t')\n",
    "missing_values(col)"
   ]
  },
  {
   "cell_type": "code",
   "execution_count": 50,
   "id": "norwegian-component",
   "metadata": {},
   "outputs": [],
   "source": [
    "df.reviews = df.reviews.fillna('[[], []]')"
   ]
  },
  {
   "cell_type": "code",
   "execution_count": 51,
   "id": "natural-victim",
   "metadata": {},
   "outputs": [],
   "source": [
    "df['reviews_isNAN'] = (df.reviews == '[[], []]').astype('uint8')"
   ]
  },
  {
   "cell_type": "code",
   "execution_count": 52,
   "id": "muslim-official",
   "metadata": {},
   "outputs": [
    {
     "data": {
      "text/plain": [
       "0                              []\n",
       "1        [12/05/2017, 10/29/2017]\n",
       "2        [12/28/2017, 12/06/2017]\n",
       "3        [12/06/2017, 11/22/2017]\n",
       "4        [02/08/2018, 01/24/2018]\n",
       "                   ...           \n",
       "49995    [12/16/2017, 11/12/2017]\n",
       "49996    [12/21/2017, 12/12/2017]\n",
       "49997    [11/03/2016, 04/12/2008]\n",
       "49998    [07/11/2017, 06/18/2017]\n",
       "49999    [01/31/2016, 07/04/2012]\n",
       "Name: date_review, Length: 50000, dtype: object"
      ]
     },
     "execution_count": 52,
     "metadata": {},
     "output_type": "execute_result"
    }
   ],
   "source": [
    "df['date_review'] = df.reviews.str.findall('\\d+/\\d+/\\d+')\n",
    "df.date_review"
   ]
  },
  {
   "cell_type": "code",
   "execution_count": 53,
   "id": "naked-spanish",
   "metadata": {},
   "outputs": [
    {
     "data": {
      "text/plain": [
       "array([0, 2, 1, 3])"
      ]
     },
     "execution_count": 53,
     "metadata": {},
     "output_type": "execute_result"
    }
   ],
   "source": [
    "df.date_review.str.len().unique()"
   ]
  },
  {
   "cell_type": "markdown",
   "id": "dietary-hearts",
   "metadata": {},
   "source": [
    "Видим, что есть значения с тремя датами. Посмотрим, что это за значения."
   ]
  },
  {
   "cell_type": "code",
   "execution_count": 54,
   "id": "informed-anaheim",
   "metadata": {
    "scrolled": true
   },
   "outputs": [
    {
     "data": {
      "text/plain": [
       "\"[['We visited 21/10/17', 'Best Kebab in London'], ['12/22/2017', '10/19/2017']]\""
      ]
     },
     "execution_count": 54,
     "metadata": {},
     "output_type": "execute_result"
    }
   ],
   "source": [
    "# видим, что пользователи указывали в отзывах дату когда они были\n",
    "df.reviews[df.date_review.str.len() > 2].iloc[0]"
   ]
  },
  {
   "cell_type": "code",
   "execution_count": 55,
   "id": "organic-defensive",
   "metadata": {},
   "outputs": [],
   "source": [
    "# удалим эту дату\n",
    "df.date_review = df.date_review.apply(lambda x: x if len(x) <= 2 else x[1:])"
   ]
  },
  {
   "cell_type": "code",
   "execution_count": 56,
   "id": "framed-probability",
   "metadata": {},
   "outputs": [],
   "source": [
    "date_of_fresh_review = pd.to_datetime(df.explode('date_review').date_review).max()"
   ]
  },
  {
   "cell_type": "code",
   "execution_count": 57,
   "id": "helpful-challenge",
   "metadata": {},
   "outputs": [],
   "source": [
    "df['len_date'] = df.date_review.apply(lambda x: len(x))"
   ]
  },
  {
   "cell_type": "code",
   "execution_count": 58,
   "id": "particular-address",
   "metadata": {},
   "outputs": [],
   "source": [
    "def time_to_now(x):\n",
    "    '''Считает разницу во времени между датой самого свежего \n",
    "    отзыва по всему датасету и датой самого свежего отзыва для каждого ресторана '''\n",
    "    if x == []:\n",
    "        return None\n",
    "    return date_of_fresh_review - pd.to_datetime(x).max()\n",
    "\n",
    "\n",
    "def time_between_Reviews(x):\n",
    "    '''Считает разницу во времени между датой самого свежего \n",
    "    отзыва для каждого ресторана и датой предыдущего отзыва для каждого ресторана'''\n",
    "    if x == []:\n",
    "        return None\n",
    "    return pd.to_datetime(x).max() - pd.to_datetime(x).min()\n",
    "\n",
    "\n",
    "df['diff_day_to_fresh_review'] = df.date_review.apply(time_to_now).dt.days\n",
    "df['diff_day_last_penultimate_comment'] = df[df['len_date']\n",
    "                                             == 2].date_review.apply(time_between_Reviews).dt.days"
   ]
  },
  {
   "cell_type": "code",
   "execution_count": 59,
   "id": "accessible-question",
   "metadata": {},
   "outputs": [],
   "source": [
    "df.diff_day_last_penultimate_comment.fillna(0, inplace=True)\n",
    "df.diff_day_to_fresh_review.fillna(0, inplace=True)"
   ]
  },
  {
   "cell_type": "code",
   "execution_count": 60,
   "id": "improving-pasta",
   "metadata": {},
   "outputs": [],
   "source": [
    "df['norm_rank_ON_norm_review'] = df.norm_ranking_on_MAX_MINRank * \\\n",
    "    df.norm_number_review"
   ]
  },
  {
   "cell_type": "code",
   "execution_count": 61,
   "id": "regular-bouquet",
   "metadata": {},
   "outputs": [],
   "source": [
    "df['ranking_ON_num_reviews'] = df.ranking * df.number_reviews"
   ]
  },
  {
   "cell_type": "markdown",
   "id": "criminal-literacy",
   "metadata": {},
   "source": [
    "ИТОГО:\n",
    "1. df.len_date - количество дат\n",
    "2. df.diff_day_to_fresh_review - разница во времени между датой самого свежего отзыва по всему датасету и датой самого свежего отзыва для каждого ресторана\n",
    "3. df.diff_day_last_penultimate_comment - разница во времени между датой самого свежего отзыва для каждого ресторана и датой предыдущего отзыва для каждого ресторана\n",
    "4. df.norm_rank_ON_norm_review - перемножим нормированый ранг на нормированый отзыв\n",
    "5. df.ranking_ON_num_reviews - перемножим ранг на количество отзывов"
   ]
  },
  {
   "cell_type": "code",
   "execution_count": 62,
   "id": "swedish-rebound",
   "metadata": {},
   "outputs": [
    {
     "data": {
      "text/plain": [
       "array(['/Restaurant_Review-g187147-d10746918-Reviews-Le_Perchoir-Paris_Ile_de_France.html',\n",
       "       '/Restaurant_Review-g189934-d6674944-Reviews-Ravintola_Kolmon3n-Helsinki_Uusimaa.html',\n",
       "       '/Restaurant_Review-g186525-d13129638-Reviews-Black_Ivy-Edinburgh_Scotland.html',\n",
       "       ...,\n",
       "       '/Restaurant_Review-g189852-d947615-Reviews-Sushi_Bar_Anu-Stockholm.html',\n",
       "       '/Restaurant_Review-g274856-d1100838-Reviews-Honoratka_dawna_Oberza_na_Miodowej-Warsaw_Mazovia_Province_Central_Poland.html',\n",
       "       '/Restaurant_Review-g187849-d1109020-Reviews-Taberna_Vasca-Milan_Lombardy.html'],\n",
       "      dtype=object)"
      ]
     },
     "metadata": {},
     "output_type": "display_data"
    },
    {
     "data": {
      "text/html": [
       "<div>\n",
       "<style scoped>\n",
       "    .dataframe tbody tr th:only-of-type {\n",
       "        vertical-align: middle;\n",
       "    }\n",
       "\n",
       "    .dataframe tbody tr th {\n",
       "        vertical-align: top;\n",
       "    }\n",
       "\n",
       "    .dataframe thead th {\n",
       "        text-align: right;\n",
       "    }\n",
       "</style>\n",
       "<table border=\"1\" class=\"dataframe\">\n",
       "  <thead>\n",
       "    <tr style=\"text-align: right;\">\n",
       "      <th></th>\n",
       "      <th>url_ta</th>\n",
       "    </tr>\n",
       "  </thead>\n",
       "  <tbody>\n",
       "    <tr>\n",
       "      <th>/Restaurant_Review-g187514-d7337366-Reviews-Lady_Madonna-Madrid.html</th>\n",
       "      <td>2</td>\n",
       "    </tr>\n",
       "    <tr>\n",
       "      <th>/Restaurant_Review-g187514-d7342803-Reviews-Los_Hierros-Madrid.html</th>\n",
       "      <td>2</td>\n",
       "    </tr>\n",
       "    <tr>\n",
       "      <th>/Restaurant_Review-g187514-d2010743-Reviews-Restaurant_Furusato-Madrid.html</th>\n",
       "      <td>2</td>\n",
       "    </tr>\n",
       "    <tr>\n",
       "      <th>/Restaurant_Review-g187514-d2669414-Reviews-Vips-Madrid.html</th>\n",
       "      <td>2</td>\n",
       "    </tr>\n",
       "    <tr>\n",
       "      <th>/Restaurant_Review-g187514-d10047799-Reviews-Entrepuntos-Madrid.html</th>\n",
       "      <td>2</td>\n",
       "    </tr>\n",
       "    <tr>\n",
       "      <th>...</th>\n",
       "      <td>...</td>\n",
       "    </tr>\n",
       "    <tr>\n",
       "      <th>/Restaurant_Review-g186338-d6524613-Reviews-La_Casa_Del_Burrito-London_England.html</th>\n",
       "      <td>1</td>\n",
       "    </tr>\n",
       "    <tr>\n",
       "      <th>/Restaurant_Review-g187147-d8777888-Reviews-Le_Gevaudan-Paris_Ile_de_France.html</th>\n",
       "      <td>1</td>\n",
       "    </tr>\n",
       "    <tr>\n",
       "      <th>/Restaurant_Review-g187309-d1873176-Reviews-China_Moon_Roof_Terrace-Munich_Upper_Bavaria_Bavaria.html</th>\n",
       "      <td>1</td>\n",
       "    </tr>\n",
       "    <tr>\n",
       "      <th>/Restaurant_Review-g187849-d1097509-Reviews-Don_Carlos_Restaurant-Milan_Lombardy.html</th>\n",
       "      <td>1</td>\n",
       "    </tr>\n",
       "    <tr>\n",
       "      <th>/Restaurant_Review-g187265-d1010441-Reviews-La_perle_noire-Lyon_Rhone_Auvergne_Rhone_Alpes.html</th>\n",
       "      <td>1</td>\n",
       "    </tr>\n",
       "  </tbody>\n",
       "</table>\n",
       "<p>49963 rows × 1 columns</p>\n",
       "</div>"
      ],
      "text/plain": [
       "                                                    url_ta\n",
       "/Restaurant_Review-g187514-d7337366-Reviews-Lad...       2\n",
       "/Restaurant_Review-g187514-d7342803-Reviews-Los...       2\n",
       "/Restaurant_Review-g187514-d2010743-Reviews-Res...       2\n",
       "/Restaurant_Review-g187514-d2669414-Reviews-Vip...       2\n",
       "/Restaurant_Review-g187514-d10047799-Reviews-En...       2\n",
       "...                                                    ...\n",
       "/Restaurant_Review-g186338-d6524613-Reviews-La_...       1\n",
       "/Restaurant_Review-g187147-d8777888-Reviews-Le_...       1\n",
       "/Restaurant_Review-g187309-d1873176-Reviews-Chi...       1\n",
       "/Restaurant_Review-g187849-d1097509-Reviews-Don...       1\n",
       "/Restaurant_Review-g187265-d1010441-Reviews-La_...       1\n",
       "\n",
       "[49963 rows x 1 columns]"
      ]
     },
     "metadata": {},
     "output_type": "display_data"
    },
    {
     "data": {
      "text/html": [
       "<div>\n",
       "<style scoped>\n",
       "    .dataframe tbody tr th:only-of-type {\n",
       "        vertical-align: middle;\n",
       "    }\n",
       "\n",
       "    .dataframe tbody tr th {\n",
       "        vertical-align: top;\n",
       "    }\n",
       "\n",
       "    .dataframe thead th {\n",
       "        text-align: right;\n",
       "    }\n",
       "</style>\n",
       "<table border=\"1\" class=\"dataframe\">\n",
       "  <thead>\n",
       "    <tr style=\"text-align: right;\">\n",
       "      <th></th>\n",
       "      <th>url_ta</th>\n",
       "    </tr>\n",
       "  </thead>\n",
       "  <tbody>\n",
       "    <tr>\n",
       "      <th>count</th>\n",
       "      <td>50000</td>\n",
       "    </tr>\n",
       "    <tr>\n",
       "      <th>unique</th>\n",
       "      <td>49963</td>\n",
       "    </tr>\n",
       "    <tr>\n",
       "      <th>top</th>\n",
       "      <td>/Restaurant_Review-g187514-d7337366-Reviews-La...</td>\n",
       "    </tr>\n",
       "    <tr>\n",
       "      <th>freq</th>\n",
       "      <td>2</td>\n",
       "    </tr>\n",
       "  </tbody>\n",
       "</table>\n",
       "</div>"
      ],
      "text/plain": [
       "                                                   url_ta\n",
       "count                                               50000\n",
       "unique                                              49963\n",
       "top     /Restaurant_Review-g187514-d7337366-Reviews-La...\n",
       "freq                                                    2"
      ]
     },
     "metadata": {},
     "output_type": "display_data"
    },
    {
     "name": "stdout",
     "output_type": "stream",
     "text": [
      "\t\n",
      "Процент пропущенных значений в столбце url_ta - 0.0%\n",
      "Всего пропущенных значений в столбце url_ta - 0\n"
     ]
    }
   ],
   "source": [
    "col = 'url_ta'\n",
    "info_col(col)\n",
    "print('\\t')\n",
    "missing_values(col)"
   ]
  },
  {
   "cell_type": "code",
   "execution_count": 63,
   "id": "protective-harrison",
   "metadata": {},
   "outputs": [
    {
     "data": {
      "text/plain": [
       "array(['d10746918', 'd6674944', 'd13129638', ..., 'd947615', 'd1100838',\n",
       "       'd1109020'], dtype=object)"
      ]
     },
     "metadata": {},
     "output_type": "display_data"
    },
    {
     "data": {
      "text/html": [
       "<div>\n",
       "<style scoped>\n",
       "    .dataframe tbody tr th:only-of-type {\n",
       "        vertical-align: middle;\n",
       "    }\n",
       "\n",
       "    .dataframe tbody tr th {\n",
       "        vertical-align: top;\n",
       "    }\n",
       "\n",
       "    .dataframe thead th {\n",
       "        text-align: right;\n",
       "    }\n",
       "</style>\n",
       "<table border=\"1\" class=\"dataframe\">\n",
       "  <thead>\n",
       "    <tr style=\"text-align: right;\">\n",
       "      <th></th>\n",
       "      <th>id_ta</th>\n",
       "    </tr>\n",
       "  </thead>\n",
       "  <tbody>\n",
       "    <tr>\n",
       "      <th>d9877640</th>\n",
       "      <td>2</td>\n",
       "    </tr>\n",
       "    <tr>\n",
       "      <th>d4914988</th>\n",
       "      <td>2</td>\n",
       "    </tr>\n",
       "    <tr>\n",
       "      <th>d1568045</th>\n",
       "      <td>2</td>\n",
       "    </tr>\n",
       "    <tr>\n",
       "      <th>d10316215</th>\n",
       "      <td>2</td>\n",
       "    </tr>\n",
       "    <tr>\n",
       "      <th>d2360290</th>\n",
       "      <td>2</td>\n",
       "    </tr>\n",
       "    <tr>\n",
       "      <th>...</th>\n",
       "      <td>...</td>\n",
       "    </tr>\n",
       "    <tr>\n",
       "      <th>d2363637</th>\n",
       "      <td>1</td>\n",
       "    </tr>\n",
       "    <tr>\n",
       "      <th>d10127452</th>\n",
       "      <td>1</td>\n",
       "    </tr>\n",
       "    <tr>\n",
       "      <th>d11929432</th>\n",
       "      <td>1</td>\n",
       "    </tr>\n",
       "    <tr>\n",
       "      <th>d10934451</th>\n",
       "      <td>1</td>\n",
       "    </tr>\n",
       "    <tr>\n",
       "      <th>d1918300</th>\n",
       "      <td>1</td>\n",
       "    </tr>\n",
       "  </tbody>\n",
       "</table>\n",
       "<p>49963 rows × 1 columns</p>\n",
       "</div>"
      ],
      "text/plain": [
       "           id_ta\n",
       "d9877640       2\n",
       "d4914988       2\n",
       "d1568045       2\n",
       "d10316215      2\n",
       "d2360290       2\n",
       "...          ...\n",
       "d2363637       1\n",
       "d10127452      1\n",
       "d11929432      1\n",
       "d10934451      1\n",
       "d1918300       1\n",
       "\n",
       "[49963 rows x 1 columns]"
      ]
     },
     "metadata": {},
     "output_type": "display_data"
    },
    {
     "data": {
      "text/html": [
       "<div>\n",
       "<style scoped>\n",
       "    .dataframe tbody tr th:only-of-type {\n",
       "        vertical-align: middle;\n",
       "    }\n",
       "\n",
       "    .dataframe tbody tr th {\n",
       "        vertical-align: top;\n",
       "    }\n",
       "\n",
       "    .dataframe thead th {\n",
       "        text-align: right;\n",
       "    }\n",
       "</style>\n",
       "<table border=\"1\" class=\"dataframe\">\n",
       "  <thead>\n",
       "    <tr style=\"text-align: right;\">\n",
       "      <th></th>\n",
       "      <th>id_ta</th>\n",
       "    </tr>\n",
       "  </thead>\n",
       "  <tbody>\n",
       "    <tr>\n",
       "      <th>count</th>\n",
       "      <td>50000</td>\n",
       "    </tr>\n",
       "    <tr>\n",
       "      <th>unique</th>\n",
       "      <td>49963</td>\n",
       "    </tr>\n",
       "    <tr>\n",
       "      <th>top</th>\n",
       "      <td>d9877640</td>\n",
       "    </tr>\n",
       "    <tr>\n",
       "      <th>freq</th>\n",
       "      <td>2</td>\n",
       "    </tr>\n",
       "  </tbody>\n",
       "</table>\n",
       "</div>"
      ],
      "text/plain": [
       "           id_ta\n",
       "count      50000\n",
       "unique     49963\n",
       "top     d9877640\n",
       "freq           2"
      ]
     },
     "metadata": {},
     "output_type": "display_data"
    },
    {
     "name": "stdout",
     "output_type": "stream",
     "text": [
      "\t\n",
      "Процент пропущенных значений в столбце id_ta - 0.0%\n",
      "Всего пропущенных значений в столбце id_ta - 0\n"
     ]
    }
   ],
   "source": [
    "col = 'id_ta'\n",
    "info_col(col)\n",
    "print('\\t')\n",
    "missing_values(col)"
   ]
  },
  {
   "cell_type": "code",
   "execution_count": 64,
   "id": "cloudy-recruitment",
   "metadata": {},
   "outputs": [],
   "source": [
    "df.id_ta = df.id_ta.apply(lambda x: int(x[1:]))"
   ]
  },
  {
   "cell_type": "code",
   "execution_count": 65,
   "id": "deadly-dietary",
   "metadata": {},
   "outputs": [
    {
     "data": {
      "image/png": "[encoded data removed]",
      "text/plain": [
       "<Figure size 2160x1080 with 1 Axes>"
      ]
     },
     "metadata": {
      "needs_background": "light"
     },
     "output_type": "display_data"
    }
   ],
   "source": [
    "plt.figure(figsize=[30,15])\n",
    "for x in (df.query('sample==1').city.value_counts())[0:3].index:\n",
    "    df.query('sample==1').id_ta[df.query('sample==1').city == x].hist(bins=300)\n",
    "plt.show()"
   ]
  },
  {
   "cell_type": "markdown",
   "id": "median-pattern",
   "metadata": {},
   "source": [
    "Видим, что на графике формируются группы. Не похоже на id."
   ]
  },
  {
   "cell_type": "code",
   "execution_count": 66,
   "id": "opening-specialist",
   "metadata": {
    "scrolled": true
   },
   "outputs": [],
   "source": [
    "df = pd.get_dummies(df, columns=['price_range', 'city'])"
   ]
  },
  {
   "cell_type": "markdown",
   "id": "988cff0b",
   "metadata": {},
   "source": [
    "# Модель"
   ]
  },
  {
   "cell_type": "code",
   "execution_count": 67,
   "id": "persistent-traffic",
   "metadata": {
    "scrolled": false
   },
   "outputs": [
    {
     "name": "stderr",
     "output_type": "stream",
     "text": [
      "[Parallel(n_jobs=-1)]: Using backend ThreadingBackend with 8 concurrent workers.\n",
      "[Parallel(n_jobs=-1)]: Done  34 tasks      | elapsed:    2.1s\n",
      "[Parallel(n_jobs=-1)]: Done 100 out of 100 | elapsed:    5.3s finished\n",
      "[Parallel(n_jobs=8)]: Using backend ThreadingBackend with 8 concurrent workers.\n",
      "[Parallel(n_jobs=8)]: Done  34 tasks      | elapsed:    0.0s\n",
      "[Parallel(n_jobs=8)]: Done 100 out of 100 | elapsed:    0.0s finished\n"
     ]
    }
   ],
   "source": [
    "# Теперь выделим тестовую часть\n",
    "train_data = df.query('sample == 1').drop(['sample'], axis=1)\n",
    "test_data = df.query('sample == 0').drop(['sample'], axis=1)\n",
    "\n",
    "\n",
    "y = train_data.rating.values            # наш таргет\n",
    "X = train_data.drop(['rating', 'ranking', 'len_date', 'restaurant_id',\n",
    "                     'cuisine_style', 'reviews', 'url_ta', 'date_review'], axis=1)\n",
    "\n",
    "# Воспользуемся специальной функцие train_test_split для разбивки тестовых данных\n",
    "# выделим 20% данных на валидацию (параметр test_size)\n",
    "X_train, X_test, y_train, y_test = train_test_split(X, y, test_size=0.2, random_state=RANDOM_SEED)\n",
    "\n",
    "# Создаём модель (НАСТРОЙКИ НЕ ТРОГАЕМ)\n",
    "model = RandomForestRegressor(n_estimators=100, verbose=1, n_jobs=-1, random_state=RANDOM_SEED)\n",
    "\n",
    "# Обучаем модель на тестовом наборе данных\n",
    "model.fit(X_train, y_train)\n",
    "\n",
    "# Используем обученную модель для предсказания рейтинга ресторанов в тестовой выборке.\n",
    "# Предсказанные значения записываем в переменную y_pred\n",
    "y_pred = model.predict(X_test)"
   ]
  },
  {
   "cell_type": "code",
   "execution_count": 68,
   "id": "ceramic-crowd",
   "metadata": {},
   "outputs": [],
   "source": [
    "def round_(x):\n",
    "    a = x-x//1\n",
    "    if 0.25 <= round(a, 1) < 0.75:\n",
    "        return x//1+0.5\n",
    "    elif round(a, 1) < 0.25:\n",
    "        return x//1\n",
    "    return x//1+1\n",
    "\n",
    "\n",
    "my_vec_round = np.vectorize(round_)"
   ]
  },
  {
   "cell_type": "code",
   "execution_count": 69,
   "id": "configured-boutique",
   "metadata": {},
   "outputs": [],
   "source": [
    "y_pred = my_vec_round(y_pred)"
   ]
  },
  {
   "cell_type": "code",
   "execution_count": 70,
   "id": "strong-dispute",
   "metadata": {},
   "outputs": [
    {
     "name": "stdout",
     "output_type": "stream",
     "text": [
      "MAE: 0.160125\n"
     ]
    }
   ],
   "source": [
    "# Сравниваем предсказанные значения (y_pred) с реальными (y_test), и смотрим насколько они в среднем отличаются  \n",
    "    # Метрика называется Mean Absolute Error (MAE) и показывает среднее отклонение предсказанных значений от фактических.  \n",
    "print('MAE:', metrics.mean_absolute_error(y_test, y_pred))  "
   ]
  },
  {
   "cell_type": "code",
   "execution_count": 71,
   "id": "republican-fantasy",
   "metadata": {},
   "outputs": [
    {
     "data": {
      "text/plain": [
       "<AxesSubplot:>"
      ]
     },
     "execution_count": 71,
     "metadata": {},
     "output_type": "execute_result"
    },
    {
     "data": {
      "image/png": "[encoded data removed]",
      "text/plain": [
       "<Figure size 720x720 with 1 Axes>"
      ]
     },
     "metadata": {
      "needs_background": "light"
     },
     "output_type": "display_data"
    }
   ],
   "source": [
    "# в RandomForestRegressor есть возможность вывести самые важные признаки для модели\n",
    "plt.rcParams['figure.figsize'] = (10, 10)\n",
    "feat_importances = pd.Series(model.feature_importances_, index=X.columns)\n",
    "feat_importances.nlargest(30).plot(kind='barh')"
   ]
  },
  {
   "cell_type": "code",
   "execution_count": 72,
   "id": "minimal-ambassador",
   "metadata": {},
   "outputs": [
    {
     "data": {
      "image/png": "[encoded data removed]",
      "text/plain": [
       "<Figure size 1152x720 with 1 Axes>"
      ]
     },
     "metadata": {
      "needs_background": "light"
     },
     "output_type": "display_data"
    }
   ],
   "source": [
    "from scipy import stats\n",
    "from scipy.cluster import hierarchy as hc\n",
    "corr = np.round(stats.spearmanr(train_data.drop(\n",
    "    ['rating', 'min_review_on_city', 'ranking', 'cuisine_style', 'reviews', 'url_ta', 'date_review', ], axis=1)).correlation, 4)\n",
    "corr_condensed = hc.distance.squareform(1-corr)\n",
    "z = hc.linkage(corr_condensed, method='average')\n",
    "fig = plt.figure(figsize=(16, 10))\n",
    "dendrogram = hc.dendrogram(z, labels=train_data.drop(['rating', 'min_review_on_city', 'ranking', 'cuisine_style', 'reviews', 'url_ta', 'date_review', ], axis=1).columns,\n",
    "                           orientation='left', leaf_font_size=16)\n",
    "plt.show()"
   ]
  },
  {
   "cell_type": "code",
   "execution_count": 73,
   "id": "mexican-cricket",
   "metadata": {},
   "outputs": [
    {
     "data": {
      "text/plain": [
       "norm_ranking_on_MAX_MINRank          0.591213\n",
       "norm_rank_ON_norm_review             0.137683\n",
       "city_Rome                            0.048637\n",
       "ranking_ON_num_reviews               0.043591\n",
       "id_ta                                0.030592\n",
       "diff_day_to_fresh_review             0.021337\n",
       "number_reviews                       0.017181\n",
       "diff_day_last_penultimate_comment    0.015974\n",
       "max_ranking_on_city                  0.012862\n",
       "norm_number_review                   0.012513\n",
       "mean_cuisine_in_rest_by_city         0.011538\n",
       "max_review_on_city                   0.008409\n",
       "city_Madrid                          0.007336\n",
       "cuisine_in_rest                      0.006973\n",
       "price_range_isNAN                    0.004318\n",
       "min_ranking_on_city                  0.003057\n",
       "city_Amsterdam                       0.002243\n",
       "price_range_average                  0.001885\n",
       "city_Athens                          0.001821\n",
       "price_range_cheaply                  0.001792\n",
       "restaraunt_chain                     0.001342\n",
       "price_range_expensive                0.001321\n",
       "cuisine_style_isNAN                  0.001173\n",
       "city_Oporto                          0.001013\n",
       "city_Milan                           0.000976\n",
       "city_Brussels                        0.000931\n",
       "number_of_reviews_isNAN              0.000866\n",
       "city_Bratislava                      0.000848\n",
       "reviews_isNAN                        0.000769\n",
       "city_Stockholm                       0.000767\n",
       "city_Edinburgh                       0.000758\n",
       "city_Prague                          0.000750\n",
       "city_Vienna                          0.000747\n",
       "city_Berlin                          0.000736\n",
       "city_Barcelona                       0.000652\n",
       "city_Warsaw                          0.000641\n",
       "city_Lisbon                          0.000614\n",
       "city_Zurich                          0.000477\n",
       "city_Paris                           0.000462\n",
       "city_Copenhagen                      0.000445\n",
       "city_Munich                          0.000427\n",
       "city_Budapest                        0.000369\n",
       "city_Dublin                          0.000354\n",
       "city_Lyon                            0.000255\n",
       "city_London                          0.000252\n",
       "city_Geneva                          0.000215\n",
       "city_Krakow                          0.000214\n",
       "city_Helsinki                        0.000193\n",
       "city_Ljubljana                       0.000159\n",
       "city_Oslo                            0.000155\n",
       "city_Hamburg                         0.000094\n",
       "city_Luxembourg                      0.000070\n",
       "min_review_on_city                   0.000000\n",
       "dtype: float64"
      ]
     },
     "execution_count": 73,
     "metadata": {},
     "output_type": "execute_result"
    }
   ],
   "source": [
    "feat_importances.sort_values(ascending=False)"
   ]
  },
  {
   "cell_type": "markdown",
   "id": "correct-sunday",
   "metadata": {},
   "source": [
    "# Submission"
   ]
  },
  {
   "cell_type": "code",
   "execution_count": 74,
   "id": "reported-point",
   "metadata": {},
   "outputs": [
    {
     "data": {
      "text/html": [
       "<div>\n",
       "<style scoped>\n",
       "    .dataframe tbody tr th:only-of-type {\n",
       "        vertical-align: middle;\n",
       "    }\n",
       "\n",
       "    .dataframe tbody tr th {\n",
       "        vertical-align: top;\n",
       "    }\n",
       "\n",
       "    .dataframe thead th {\n",
       "        text-align: right;\n",
       "    }\n",
       "</style>\n",
       "<table border=\"1\" class=\"dataframe\">\n",
       "  <thead>\n",
       "    <tr style=\"text-align: right;\">\n",
       "      <th></th>\n",
       "      <th>restaurant_id</th>\n",
       "      <th>cuisine_style</th>\n",
       "      <th>ranking</th>\n",
       "      <th>number_reviews</th>\n",
       "      <th>reviews</th>\n",
       "      <th>url_ta</th>\n",
       "      <th>id_ta</th>\n",
       "      <th>rating</th>\n",
       "      <th>restaraunt_chain</th>\n",
       "      <th>cuisine_style_isNAN</th>\n",
       "      <th>cuisine_in_rest</th>\n",
       "      <th>mean_cuisine_in_rest_by_city</th>\n",
       "      <th>max_ranking_on_city</th>\n",
       "      <th>min_ranking_on_city</th>\n",
       "      <th>norm_ranking_on_MAX_MINRank</th>\n",
       "      <th>price_range_isNAN</th>\n",
       "      <th>number_of_reviews_isNAN</th>\n",
       "      <th>min_review_on_city</th>\n",
       "      <th>max_review_on_city</th>\n",
       "      <th>norm_number_review</th>\n",
       "      <th>reviews_isNAN</th>\n",
       "      <th>date_review</th>\n",
       "      <th>len_date</th>\n",
       "      <th>diff_day_to_fresh_review</th>\n",
       "      <th>diff_day_last_penultimate_comment</th>\n",
       "      <th>norm_rank_ON_norm_review</th>\n",
       "      <th>ranking_ON_num_reviews</th>\n",
       "      <th>price_range_average</th>\n",
       "      <th>price_range_cheaply</th>\n",
       "      <th>price_range_expensive</th>\n",
       "      <th>city_Amsterdam</th>\n",
       "      <th>city_Athens</th>\n",
       "      <th>city_Barcelona</th>\n",
       "      <th>city_Berlin</th>\n",
       "      <th>city_Bratislava</th>\n",
       "      <th>city_Brussels</th>\n",
       "      <th>city_Budapest</th>\n",
       "      <th>city_Copenhagen</th>\n",
       "      <th>city_Dublin</th>\n",
       "      <th>city_Edinburgh</th>\n",
       "      <th>city_Geneva</th>\n",
       "      <th>city_Hamburg</th>\n",
       "      <th>city_Helsinki</th>\n",
       "      <th>city_Krakow</th>\n",
       "      <th>city_Lisbon</th>\n",
       "      <th>city_Ljubljana</th>\n",
       "      <th>city_London</th>\n",
       "      <th>city_Luxembourg</th>\n",
       "      <th>city_Lyon</th>\n",
       "      <th>city_Madrid</th>\n",
       "      <th>city_Milan</th>\n",
       "      <th>city_Munich</th>\n",
       "      <th>city_Oporto</th>\n",
       "      <th>city_Oslo</th>\n",
       "      <th>city_Paris</th>\n",
       "      <th>city_Prague</th>\n",
       "      <th>city_Rome</th>\n",
       "      <th>city_Stockholm</th>\n",
       "      <th>city_Vienna</th>\n",
       "      <th>city_Warsaw</th>\n",
       "      <th>city_Zurich</th>\n",
       "    </tr>\n",
       "  </thead>\n",
       "  <tbody>\n",
       "    <tr>\n",
       "      <th>3397</th>\n",
       "      <td>3397</td>\n",
       "      <td>[Italian, Pizza, Seafood, Mediterranean, Europ...</td>\n",
       "      <td>2693.0</td>\n",
       "      <td>245.0</td>\n",
       "      <td>[['Decent restaurant, nice cheese platter and....</td>\n",
       "      <td>/Restaurant_Review-g187849-d1635089-Reviews-Al...</td>\n",
       "      <td>1635089</td>\n",
       "      <td>0.0</td>\n",
       "      <td>0</td>\n",
       "      <td>0</td>\n",
       "      <td>6</td>\n",
       "      <td>4.054566</td>\n",
       "      <td>6275.0</td>\n",
       "      <td>1.0</td>\n",
       "      <td>0.429072</td>\n",
       "      <td>0</td>\n",
       "      <td>0</td>\n",
       "      <td>2.0</td>\n",
       "      <td>6360.0</td>\n",
       "      <td>0.038220</td>\n",
       "      <td>0</td>\n",
       "      <td>[12/14/2017, 09/12/2017]</td>\n",
       "      <td>2</td>\n",
       "      <td>74.0</td>\n",
       "      <td>93.0</td>\n",
       "      <td>0.016399</td>\n",
       "      <td>659785.0</td>\n",
       "      <td>1</td>\n",
       "      <td>0</td>\n",
       "      <td>0</td>\n",
       "      <td>0</td>\n",
       "      <td>0</td>\n",
       "      <td>0</td>\n",
       "      <td>0</td>\n",
       "      <td>0</td>\n",
       "      <td>0</td>\n",
       "      <td>0</td>\n",
       "      <td>0</td>\n",
       "      <td>0</td>\n",
       "      <td>0</td>\n",
       "      <td>0</td>\n",
       "      <td>0</td>\n",
       "      <td>0</td>\n",
       "      <td>0</td>\n",
       "      <td>0</td>\n",
       "      <td>0</td>\n",
       "      <td>0</td>\n",
       "      <td>0</td>\n",
       "      <td>0</td>\n",
       "      <td>0</td>\n",
       "      <td>1</td>\n",
       "      <td>0</td>\n",
       "      <td>0</td>\n",
       "      <td>0</td>\n",
       "      <td>0</td>\n",
       "      <td>0</td>\n",
       "      <td>0</td>\n",
       "      <td>0</td>\n",
       "      <td>0</td>\n",
       "      <td>0</td>\n",
       "      <td>0</td>\n",
       "    </tr>\n",
       "    <tr>\n",
       "      <th>8664</th>\n",
       "      <td>8664</td>\n",
       "      <td>[Italian, Mediterranean, European, VegetarianF...</td>\n",
       "      <td>2028.0</td>\n",
       "      <td>71.0</td>\n",
       "      <td>[['Carpaccio, Pizza and Squid', 'Italian the p...</td>\n",
       "      <td>/Restaurant_Review-g187309-d958013-Reviews-La_...</td>\n",
       "      <td>958013</td>\n",
       "      <td>0.0</td>\n",
       "      <td>0</td>\n",
       "      <td>0</td>\n",
       "      <td>4</td>\n",
       "      <td>4.183406</td>\n",
       "      <td>2763.0</td>\n",
       "      <td>3.0</td>\n",
       "      <td>0.733696</td>\n",
       "      <td>0</td>\n",
       "      <td>0</td>\n",
       "      <td>2.0</td>\n",
       "      <td>4694.0</td>\n",
       "      <td>0.014706</td>\n",
       "      <td>0</td>\n",
       "      <td>[11/30/2017, 09/20/2017]</td>\n",
       "      <td>2</td>\n",
       "      <td>88.0</td>\n",
       "      <td>71.0</td>\n",
       "      <td>0.010790</td>\n",
       "      <td>143988.0</td>\n",
       "      <td>1</td>\n",
       "      <td>0</td>\n",
       "      <td>0</td>\n",
       "      <td>0</td>\n",
       "      <td>0</td>\n",
       "      <td>0</td>\n",
       "      <td>0</td>\n",
       "      <td>0</td>\n",
       "      <td>0</td>\n",
       "      <td>0</td>\n",
       "      <td>0</td>\n",
       "      <td>0</td>\n",
       "      <td>0</td>\n",
       "      <td>0</td>\n",
       "      <td>0</td>\n",
       "      <td>0</td>\n",
       "      <td>0</td>\n",
       "      <td>0</td>\n",
       "      <td>0</td>\n",
       "      <td>0</td>\n",
       "      <td>0</td>\n",
       "      <td>0</td>\n",
       "      <td>0</td>\n",
       "      <td>0</td>\n",
       "      <td>1</td>\n",
       "      <td>0</td>\n",
       "      <td>0</td>\n",
       "      <td>0</td>\n",
       "      <td>0</td>\n",
       "      <td>0</td>\n",
       "      <td>0</td>\n",
       "      <td>0</td>\n",
       "      <td>0</td>\n",
       "      <td>0</td>\n",
       "    </tr>\n",
       "    <tr>\n",
       "      <th>5232</th>\n",
       "      <td>5232</td>\n",
       "      <td>Unknown</td>\n",
       "      <td>3074.0</td>\n",
       "      <td>13.0</td>\n",
       "      <td>[['Excellent staff and location', 'not bad for...</td>\n",
       "      <td>/Restaurant_Review-g187514-d8462251-Reviews-Ho...</td>\n",
       "      <td>8462251</td>\n",
       "      <td>0.0</td>\n",
       "      <td>1</td>\n",
       "      <td>1</td>\n",
       "      <td>7</td>\n",
       "      <td>3.961972</td>\n",
       "      <td>8809.0</td>\n",
       "      <td>1.0</td>\n",
       "      <td>0.348887</td>\n",
       "      <td>1</td>\n",
       "      <td>0</td>\n",
       "      <td>2.0</td>\n",
       "      <td>6013.0</td>\n",
       "      <td>0.001830</td>\n",
       "      <td>0</td>\n",
       "      <td>[07/25/2016, 07/17/2016]</td>\n",
       "      <td>2</td>\n",
       "      <td>581.0</td>\n",
       "      <td>8.0</td>\n",
       "      <td>0.000638</td>\n",
       "      <td>39962.0</td>\n",
       "      <td>1</td>\n",
       "      <td>0</td>\n",
       "      <td>0</td>\n",
       "      <td>0</td>\n",
       "      <td>0</td>\n",
       "      <td>0</td>\n",
       "      <td>0</td>\n",
       "      <td>0</td>\n",
       "      <td>0</td>\n",
       "      <td>0</td>\n",
       "      <td>0</td>\n",
       "      <td>0</td>\n",
       "      <td>0</td>\n",
       "      <td>0</td>\n",
       "      <td>0</td>\n",
       "      <td>0</td>\n",
       "      <td>0</td>\n",
       "      <td>0</td>\n",
       "      <td>0</td>\n",
       "      <td>0</td>\n",
       "      <td>0</td>\n",
       "      <td>0</td>\n",
       "      <td>1</td>\n",
       "      <td>0</td>\n",
       "      <td>0</td>\n",
       "      <td>0</td>\n",
       "      <td>0</td>\n",
       "      <td>0</td>\n",
       "      <td>0</td>\n",
       "      <td>0</td>\n",
       "      <td>0</td>\n",
       "      <td>0</td>\n",
       "      <td>0</td>\n",
       "      <td>0</td>\n",
       "    </tr>\n",
       "    <tr>\n",
       "      <th>680</th>\n",
       "      <td>680</td>\n",
       "      <td>[Cafe, British, VegetarianFriendly, GlutenFree...</td>\n",
       "      <td>14189.0</td>\n",
       "      <td>56.0</td>\n",
       "      <td>[['Friendly place for Coffee and Cake', 'Nice ...</td>\n",
       "      <td>/Restaurant_Review-g186338-d5443514-Reviews-Ca...</td>\n",
       "      <td>5443514</td>\n",
       "      <td>0.0</td>\n",
       "      <td>1</td>\n",
       "      <td>0</td>\n",
       "      <td>4</td>\n",
       "      <td>3.978451</td>\n",
       "      <td>16444.0</td>\n",
       "      <td>1.0</td>\n",
       "      <td>0.862860</td>\n",
       "      <td>0</td>\n",
       "      <td>0</td>\n",
       "      <td>2.0</td>\n",
       "      <td>9660.0</td>\n",
       "      <td>0.005591</td>\n",
       "      <td>0</td>\n",
       "      <td>[11/22/2017, 11/20/2017]</td>\n",
       "      <td>2</td>\n",
       "      <td>96.0</td>\n",
       "      <td>2.0</td>\n",
       "      <td>0.004824</td>\n",
       "      <td>794584.0</td>\n",
       "      <td>0</td>\n",
       "      <td>1</td>\n",
       "      <td>0</td>\n",
       "      <td>0</td>\n",
       "      <td>0</td>\n",
       "      <td>0</td>\n",
       "      <td>0</td>\n",
       "      <td>0</td>\n",
       "      <td>0</td>\n",
       "      <td>0</td>\n",
       "      <td>0</td>\n",
       "      <td>0</td>\n",
       "      <td>0</td>\n",
       "      <td>0</td>\n",
       "      <td>0</td>\n",
       "      <td>0</td>\n",
       "      <td>0</td>\n",
       "      <td>0</td>\n",
       "      <td>0</td>\n",
       "      <td>1</td>\n",
       "      <td>0</td>\n",
       "      <td>0</td>\n",
       "      <td>0</td>\n",
       "      <td>0</td>\n",
       "      <td>0</td>\n",
       "      <td>0</td>\n",
       "      <td>0</td>\n",
       "      <td>0</td>\n",
       "      <td>0</td>\n",
       "      <td>0</td>\n",
       "      <td>0</td>\n",
       "      <td>0</td>\n",
       "      <td>0</td>\n",
       "      <td>0</td>\n",
       "    </tr>\n",
       "    <tr>\n",
       "      <th>2672</th>\n",
       "      <td>2672</td>\n",
       "      <td>Unknown</td>\n",
       "      <td>3260.0</td>\n",
       "      <td>7.0</td>\n",
       "      <td>[['Open late!'], ['05/25/2016']]</td>\n",
       "      <td>/Restaurant_Review-g190454-d5986431-Reviews-Bi...</td>\n",
       "      <td>5986431</td>\n",
       "      <td>0.0</td>\n",
       "      <td>0</td>\n",
       "      <td>1</td>\n",
       "      <td>7</td>\n",
       "      <td>4.414414</td>\n",
       "      <td>3444.0</td>\n",
       "      <td>1.0</td>\n",
       "      <td>0.946558</td>\n",
       "      <td>1</td>\n",
       "      <td>0</td>\n",
       "      <td>2.0</td>\n",
       "      <td>4937.0</td>\n",
       "      <td>0.001013</td>\n",
       "      <td>0</td>\n",
       "      <td>[05/25/2016]</td>\n",
       "      <td>1</td>\n",
       "      <td>642.0</td>\n",
       "      <td>0.0</td>\n",
       "      <td>0.000959</td>\n",
       "      <td>22820.0</td>\n",
       "      <td>0</td>\n",
       "      <td>1</td>\n",
       "      <td>0</td>\n",
       "      <td>0</td>\n",
       "      <td>0</td>\n",
       "      <td>0</td>\n",
       "      <td>0</td>\n",
       "      <td>0</td>\n",
       "      <td>0</td>\n",
       "      <td>0</td>\n",
       "      <td>0</td>\n",
       "      <td>0</td>\n",
       "      <td>0</td>\n",
       "      <td>0</td>\n",
       "      <td>0</td>\n",
       "      <td>0</td>\n",
       "      <td>0</td>\n",
       "      <td>0</td>\n",
       "      <td>0</td>\n",
       "      <td>0</td>\n",
       "      <td>0</td>\n",
       "      <td>0</td>\n",
       "      <td>0</td>\n",
       "      <td>0</td>\n",
       "      <td>0</td>\n",
       "      <td>0</td>\n",
       "      <td>0</td>\n",
       "      <td>0</td>\n",
       "      <td>0</td>\n",
       "      <td>0</td>\n",
       "      <td>0</td>\n",
       "      <td>1</td>\n",
       "      <td>0</td>\n",
       "      <td>0</td>\n",
       "    </tr>\n",
       "    <tr>\n",
       "      <th>5761</th>\n",
       "      <td>5761</td>\n",
       "      <td>[Spanish]</td>\n",
       "      <td>4020.0</td>\n",
       "      <td>0.0</td>\n",
       "      <td>[[], []]</td>\n",
       "      <td>/Restaurant_Review-g187514-d12709056-Reviews-T...</td>\n",
       "      <td>12709056</td>\n",
       "      <td>0.0</td>\n",
       "      <td>1</td>\n",
       "      <td>0</td>\n",
       "      <td>1</td>\n",
       "      <td>3.961972</td>\n",
       "      <td>8809.0</td>\n",
       "      <td>1.0</td>\n",
       "      <td>0.456290</td>\n",
       "      <td>1</td>\n",
       "      <td>1</td>\n",
       "      <td>2.0</td>\n",
       "      <td>6013.0</td>\n",
       "      <td>0.000000</td>\n",
       "      <td>1</td>\n",
       "      <td>[]</td>\n",
       "      <td>0</td>\n",
       "      <td>0.0</td>\n",
       "      <td>0.0</td>\n",
       "      <td>0.000000</td>\n",
       "      <td>0.0</td>\n",
       "      <td>1</td>\n",
       "      <td>0</td>\n",
       "      <td>0</td>\n",
       "      <td>0</td>\n",
       "      <td>0</td>\n",
       "      <td>0</td>\n",
       "      <td>0</td>\n",
       "      <td>0</td>\n",
       "      <td>0</td>\n",
       "      <td>0</td>\n",
       "      <td>0</td>\n",
       "      <td>0</td>\n",
       "      <td>0</td>\n",
       "      <td>0</td>\n",
       "      <td>0</td>\n",
       "      <td>0</td>\n",
       "      <td>0</td>\n",
       "      <td>0</td>\n",
       "      <td>0</td>\n",
       "      <td>0</td>\n",
       "      <td>0</td>\n",
       "      <td>0</td>\n",
       "      <td>1</td>\n",
       "      <td>0</td>\n",
       "      <td>0</td>\n",
       "      <td>0</td>\n",
       "      <td>0</td>\n",
       "      <td>0</td>\n",
       "      <td>0</td>\n",
       "      <td>0</td>\n",
       "      <td>0</td>\n",
       "      <td>0</td>\n",
       "      <td>0</td>\n",
       "      <td>0</td>\n",
       "    </tr>\n",
       "    <tr>\n",
       "      <th>5998</th>\n",
       "      <td>5998</td>\n",
       "      <td>[French]</td>\n",
       "      <td>3264.0</td>\n",
       "      <td>251.0</td>\n",
       "      <td>[['Truly Awesome', 'Nice little spot near St. ...</td>\n",
       "      <td>/Restaurant_Review-g187147-d1391360-Reviews-Le...</td>\n",
       "      <td>1391360</td>\n",
       "      <td>0.0</td>\n",
       "      <td>1</td>\n",
       "      <td>0</td>\n",
       "      <td>1</td>\n",
       "      <td>3.426817</td>\n",
       "      <td>13986.0</td>\n",
       "      <td>3.0</td>\n",
       "      <td>0.233212</td>\n",
       "      <td>0</td>\n",
       "      <td>0</td>\n",
       "      <td>2.0</td>\n",
       "      <td>7622.0</td>\n",
       "      <td>0.032677</td>\n",
       "      <td>0</td>\n",
       "      <td>[12/24/2017, 07/27/2017]</td>\n",
       "      <td>2</td>\n",
       "      <td>64.0</td>\n",
       "      <td>150.0</td>\n",
       "      <td>0.007621</td>\n",
       "      <td>819264.0</td>\n",
       "      <td>0</td>\n",
       "      <td>0</td>\n",
       "      <td>1</td>\n",
       "      <td>0</td>\n",
       "      <td>0</td>\n",
       "      <td>0</td>\n",
       "      <td>0</td>\n",
       "      <td>0</td>\n",
       "      <td>0</td>\n",
       "      <td>0</td>\n",
       "      <td>0</td>\n",
       "      <td>0</td>\n",
       "      <td>0</td>\n",
       "      <td>0</td>\n",
       "      <td>0</td>\n",
       "      <td>0</td>\n",
       "      <td>0</td>\n",
       "      <td>0</td>\n",
       "      <td>0</td>\n",
       "      <td>0</td>\n",
       "      <td>0</td>\n",
       "      <td>0</td>\n",
       "      <td>0</td>\n",
       "      <td>0</td>\n",
       "      <td>0</td>\n",
       "      <td>0</td>\n",
       "      <td>0</td>\n",
       "      <td>1</td>\n",
       "      <td>0</td>\n",
       "      <td>0</td>\n",
       "      <td>0</td>\n",
       "      <td>0</td>\n",
       "      <td>0</td>\n",
       "      <td>0</td>\n",
       "    </tr>\n",
       "    <tr>\n",
       "      <th>1252</th>\n",
       "      <td>1252</td>\n",
       "      <td>[Pub]</td>\n",
       "      <td>5917.0</td>\n",
       "      <td>2.0</td>\n",
       "      <td>[[], []]</td>\n",
       "      <td>/Restaurant_Review-g187514-d990776-Reviews-Res...</td>\n",
       "      <td>990776</td>\n",
       "      <td>0.0</td>\n",
       "      <td>1</td>\n",
       "      <td>0</td>\n",
       "      <td>1</td>\n",
       "      <td>3.961972</td>\n",
       "      <td>8809.0</td>\n",
       "      <td>1.0</td>\n",
       "      <td>0.671662</td>\n",
       "      <td>1</td>\n",
       "      <td>0</td>\n",
       "      <td>2.0</td>\n",
       "      <td>6013.0</td>\n",
       "      <td>0.000000</td>\n",
       "      <td>1</td>\n",
       "      <td>[]</td>\n",
       "      <td>0</td>\n",
       "      <td>0.0</td>\n",
       "      <td>0.0</td>\n",
       "      <td>0.000000</td>\n",
       "      <td>11834.0</td>\n",
       "      <td>0</td>\n",
       "      <td>0</td>\n",
       "      <td>1</td>\n",
       "      <td>0</td>\n",
       "      <td>0</td>\n",
       "      <td>0</td>\n",
       "      <td>0</td>\n",
       "      <td>0</td>\n",
       "      <td>0</td>\n",
       "      <td>0</td>\n",
       "      <td>0</td>\n",
       "      <td>0</td>\n",
       "      <td>0</td>\n",
       "      <td>0</td>\n",
       "      <td>0</td>\n",
       "      <td>0</td>\n",
       "      <td>0</td>\n",
       "      <td>0</td>\n",
       "      <td>0</td>\n",
       "      <td>0</td>\n",
       "      <td>0</td>\n",
       "      <td>0</td>\n",
       "      <td>1</td>\n",
       "      <td>0</td>\n",
       "      <td>0</td>\n",
       "      <td>0</td>\n",
       "      <td>0</td>\n",
       "      <td>0</td>\n",
       "      <td>0</td>\n",
       "      <td>0</td>\n",
       "      <td>0</td>\n",
       "      <td>0</td>\n",
       "      <td>0</td>\n",
       "      <td>0</td>\n",
       "    </tr>\n",
       "    <tr>\n",
       "      <th>8239</th>\n",
       "      <td>8239</td>\n",
       "      <td>Unknown</td>\n",
       "      <td>15193.0</td>\n",
       "      <td>3.0</td>\n",
       "      <td>[['Messed up my order.', 'Fresh and airy!'], [...</td>\n",
       "      <td>/Restaurant_Review-g186338-d9857580-Reviews-Ea...</td>\n",
       "      <td>9857580</td>\n",
       "      <td>0.0</td>\n",
       "      <td>0</td>\n",
       "      <td>1</td>\n",
       "      <td>7</td>\n",
       "      <td>3.978451</td>\n",
       "      <td>16444.0</td>\n",
       "      <td>1.0</td>\n",
       "      <td>0.923919</td>\n",
       "      <td>1</td>\n",
       "      <td>0</td>\n",
       "      <td>2.0</td>\n",
       "      <td>9660.0</td>\n",
       "      <td>0.000104</td>\n",
       "      <td>0</td>\n",
       "      <td>[04/26/2017, 09/28/2016]</td>\n",
       "      <td>2</td>\n",
       "      <td>306.0</td>\n",
       "      <td>210.0</td>\n",
       "      <td>0.000096</td>\n",
       "      <td>45579.0</td>\n",
       "      <td>1</td>\n",
       "      <td>0</td>\n",
       "      <td>0</td>\n",
       "      <td>0</td>\n",
       "      <td>0</td>\n",
       "      <td>0</td>\n",
       "      <td>0</td>\n",
       "      <td>0</td>\n",
       "      <td>0</td>\n",
       "      <td>0</td>\n",
       "      <td>0</td>\n",
       "      <td>0</td>\n",
       "      <td>0</td>\n",
       "      <td>0</td>\n",
       "      <td>0</td>\n",
       "      <td>0</td>\n",
       "      <td>0</td>\n",
       "      <td>0</td>\n",
       "      <td>0</td>\n",
       "      <td>1</td>\n",
       "      <td>0</td>\n",
       "      <td>0</td>\n",
       "      <td>0</td>\n",
       "      <td>0</td>\n",
       "      <td>0</td>\n",
       "      <td>0</td>\n",
       "      <td>0</td>\n",
       "      <td>0</td>\n",
       "      <td>0</td>\n",
       "      <td>0</td>\n",
       "      <td>0</td>\n",
       "      <td>0</td>\n",
       "      <td>0</td>\n",
       "      <td>0</td>\n",
       "    </tr>\n",
       "    <tr>\n",
       "      <th>9981</th>\n",
       "      <td>9981</td>\n",
       "      <td>[Italian, Pizza, Mediterranean, VegetarianFrie...</td>\n",
       "      <td>827.0</td>\n",
       "      <td>52.0</td>\n",
       "      <td>[['One of the best and biggest pizzas that we....</td>\n",
       "      <td>/Restaurant_Review-g187309-d10165113-Reviews-L...</td>\n",
       "      <td>10165113</td>\n",
       "      <td>0.0</td>\n",
       "      <td>0</td>\n",
       "      <td>0</td>\n",
       "      <td>4</td>\n",
       "      <td>4.183406</td>\n",
       "      <td>2763.0</td>\n",
       "      <td>3.0</td>\n",
       "      <td>0.298551</td>\n",
       "      <td>0</td>\n",
       "      <td>0</td>\n",
       "      <td>2.0</td>\n",
       "      <td>4694.0</td>\n",
       "      <td>0.010656</td>\n",
       "      <td>0</td>\n",
       "      <td>[06/03/2017, 12/30/2016]</td>\n",
       "      <td>2</td>\n",
       "      <td>268.0</td>\n",
       "      <td>155.0</td>\n",
       "      <td>0.003181</td>\n",
       "      <td>43004.0</td>\n",
       "      <td>1</td>\n",
       "      <td>0</td>\n",
       "      <td>0</td>\n",
       "      <td>0</td>\n",
       "      <td>0</td>\n",
       "      <td>0</td>\n",
       "      <td>0</td>\n",
       "      <td>0</td>\n",
       "      <td>0</td>\n",
       "      <td>0</td>\n",
       "      <td>0</td>\n",
       "      <td>0</td>\n",
       "      <td>0</td>\n",
       "      <td>0</td>\n",
       "      <td>0</td>\n",
       "      <td>0</td>\n",
       "      <td>0</td>\n",
       "      <td>0</td>\n",
       "      <td>0</td>\n",
       "      <td>0</td>\n",
       "      <td>0</td>\n",
       "      <td>0</td>\n",
       "      <td>0</td>\n",
       "      <td>0</td>\n",
       "      <td>1</td>\n",
       "      <td>0</td>\n",
       "      <td>0</td>\n",
       "      <td>0</td>\n",
       "      <td>0</td>\n",
       "      <td>0</td>\n",
       "      <td>0</td>\n",
       "      <td>0</td>\n",
       "      <td>0</td>\n",
       "      <td>0</td>\n",
       "    </tr>\n",
       "  </tbody>\n",
       "</table>\n",
       "</div>"
      ],
      "text/plain": [
       "      restaurant_id                                      cuisine_style  \\\n",
       "3397           3397  [Italian, Pizza, Seafood, Mediterranean, Europ...   \n",
       "8664           8664  [Italian, Mediterranean, European, VegetarianF...   \n",
       "5232           5232                                            Unknown   \n",
       "680             680  [Cafe, British, VegetarianFriendly, GlutenFree...   \n",
       "2672           2672                                            Unknown   \n",
       "5761           5761                                          [Spanish]   \n",
       "5998           5998                                           [French]   \n",
       "1252           1252                                              [Pub]   \n",
       "8239           8239                                            Unknown   \n",
       "9981           9981  [Italian, Pizza, Mediterranean, VegetarianFrie...   \n",
       "\n",
       "      ranking  number_reviews  \\\n",
       "3397   2693.0           245.0   \n",
       "8664   2028.0            71.0   \n",
       "5232   3074.0            13.0   \n",
       "680   14189.0            56.0   \n",
       "2672   3260.0             7.0   \n",
       "5761   4020.0             0.0   \n",
       "5998   3264.0           251.0   \n",
       "1252   5917.0             2.0   \n",
       "8239  15193.0             3.0   \n",
       "9981    827.0            52.0   \n",
       "\n",
       "                                                reviews  \\\n",
       "3397  [['Decent restaurant, nice cheese platter and....   \n",
       "8664  [['Carpaccio, Pizza and Squid', 'Italian the p...   \n",
       "5232  [['Excellent staff and location', 'not bad for...   \n",
       "680   [['Friendly place for Coffee and Cake', 'Nice ...   \n",
       "2672                   [['Open late!'], ['05/25/2016']]   \n",
       "5761                                           [[], []]   \n",
       "5998  [['Truly Awesome', 'Nice little spot near St. ...   \n",
       "1252                                           [[], []]   \n",
       "8239  [['Messed up my order.', 'Fresh and airy!'], [...   \n",
       "9981  [['One of the best and biggest pizzas that we....   \n",
       "\n",
       "                                                 url_ta     id_ta  rating  \\\n",
       "3397  /Restaurant_Review-g187849-d1635089-Reviews-Al...   1635089     0.0   \n",
       "8664  /Restaurant_Review-g187309-d958013-Reviews-La_...    958013     0.0   \n",
       "5232  /Restaurant_Review-g187514-d8462251-Reviews-Ho...   8462251     0.0   \n",
       "680   /Restaurant_Review-g186338-d5443514-Reviews-Ca...   5443514     0.0   \n",
       "2672  /Restaurant_Review-g190454-d5986431-Reviews-Bi...   5986431     0.0   \n",
       "5761  /Restaurant_Review-g187514-d12709056-Reviews-T...  12709056     0.0   \n",
       "5998  /Restaurant_Review-g187147-d1391360-Reviews-Le...   1391360     0.0   \n",
       "1252  /Restaurant_Review-g187514-d990776-Reviews-Res...    990776     0.0   \n",
       "8239  /Restaurant_Review-g186338-d9857580-Reviews-Ea...   9857580     0.0   \n",
       "9981  /Restaurant_Review-g187309-d10165113-Reviews-L...  10165113     0.0   \n",
       "\n",
       "      restaraunt_chain  cuisine_style_isNAN  cuisine_in_rest  \\\n",
       "3397                 0                    0                6   \n",
       "8664                 0                    0                4   \n",
       "5232                 1                    1                7   \n",
       "680                  1                    0                4   \n",
       "2672                 0                    1                7   \n",
       "5761                 1                    0                1   \n",
       "5998                 1                    0                1   \n",
       "1252                 1                    0                1   \n",
       "8239                 0                    1                7   \n",
       "9981                 0                    0                4   \n",
       "\n",
       "      mean_cuisine_in_rest_by_city  max_ranking_on_city  min_ranking_on_city  \\\n",
       "3397                      4.054566               6275.0                  1.0   \n",
       "8664                      4.183406               2763.0                  3.0   \n",
       "5232                      3.961972               8809.0                  1.0   \n",
       "680                       3.978451              16444.0                  1.0   \n",
       "2672                      4.414414               3444.0                  1.0   \n",
       "5761                      3.961972               8809.0                  1.0   \n",
       "5998                      3.426817              13986.0                  3.0   \n",
       "1252                      3.961972               8809.0                  1.0   \n",
       "8239                      3.978451              16444.0                  1.0   \n",
       "9981                      4.183406               2763.0                  3.0   \n",
       "\n",
       "      norm_ranking_on_MAX_MINRank  price_range_isNAN  number_of_reviews_isNAN  \\\n",
       "3397                     0.429072                  0                        0   \n",
       "8664                     0.733696                  0                        0   \n",
       "5232                     0.348887                  1                        0   \n",
       "680                      0.862860                  0                        0   \n",
       "2672                     0.946558                  1                        0   \n",
       "5761                     0.456290                  1                        1   \n",
       "5998                     0.233212                  0                        0   \n",
       "1252                     0.671662                  1                        0   \n",
       "8239                     0.923919                  1                        0   \n",
       "9981                     0.298551                  0                        0   \n",
       "\n",
       "      min_review_on_city  max_review_on_city  norm_number_review  \\\n",
       "3397                 2.0              6360.0            0.038220   \n",
       "8664                 2.0              4694.0            0.014706   \n",
       "5232                 2.0              6013.0            0.001830   \n",
       "680                  2.0              9660.0            0.005591   \n",
       "2672                 2.0              4937.0            0.001013   \n",
       "5761                 2.0              6013.0            0.000000   \n",
       "5998                 2.0              7622.0            0.032677   \n",
       "1252                 2.0              6013.0            0.000000   \n",
       "8239                 2.0              9660.0            0.000104   \n",
       "9981                 2.0              4694.0            0.010656   \n",
       "\n",
       "      reviews_isNAN               date_review  len_date  \\\n",
       "3397              0  [12/14/2017, 09/12/2017]         2   \n",
       "8664              0  [11/30/2017, 09/20/2017]         2   \n",
       "5232              0  [07/25/2016, 07/17/2016]         2   \n",
       "680               0  [11/22/2017, 11/20/2017]         2   \n",
       "2672              0              [05/25/2016]         1   \n",
       "5761              1                        []         0   \n",
       "5998              0  [12/24/2017, 07/27/2017]         2   \n",
       "1252              1                        []         0   \n",
       "8239              0  [04/26/2017, 09/28/2016]         2   \n",
       "9981              0  [06/03/2017, 12/30/2016]         2   \n",
       "\n",
       "      diff_day_to_fresh_review  diff_day_last_penultimate_comment  \\\n",
       "3397                      74.0                               93.0   \n",
       "8664                      88.0                               71.0   \n",
       "5232                     581.0                                8.0   \n",
       "680                       96.0                                2.0   \n",
       "2672                     642.0                                0.0   \n",
       "5761                       0.0                                0.0   \n",
       "5998                      64.0                              150.0   \n",
       "1252                       0.0                                0.0   \n",
       "8239                     306.0                              210.0   \n",
       "9981                     268.0                              155.0   \n",
       "\n",
       "      norm_rank_ON_norm_review  ranking_ON_num_reviews  price_range_average  \\\n",
       "3397                  0.016399                659785.0                    1   \n",
       "8664                  0.010790                143988.0                    1   \n",
       "5232                  0.000638                 39962.0                    1   \n",
       "680                   0.004824                794584.0                    0   \n",
       "2672                  0.000959                 22820.0                    0   \n",
       "5761                  0.000000                     0.0                    1   \n",
       "5998                  0.007621                819264.0                    0   \n",
       "1252                  0.000000                 11834.0                    0   \n",
       "8239                  0.000096                 45579.0                    1   \n",
       "9981                  0.003181                 43004.0                    1   \n",
       "\n",
       "      price_range_cheaply  price_range_expensive  city_Amsterdam  city_Athens  \\\n",
       "3397                    0                      0               0            0   \n",
       "8664                    0                      0               0            0   \n",
       "5232                    0                      0               0            0   \n",
       "680                     1                      0               0            0   \n",
       "2672                    1                      0               0            0   \n",
       "5761                    0                      0               0            0   \n",
       "5998                    0                      1               0            0   \n",
       "1252                    0                      1               0            0   \n",
       "8239                    0                      0               0            0   \n",
       "9981                    0                      0               0            0   \n",
       "\n",
       "      city_Barcelona  city_Berlin  city_Bratislava  city_Brussels  \\\n",
       "3397               0            0                0              0   \n",
       "8664               0            0                0              0   \n",
       "5232               0            0                0              0   \n",
       "680                0            0                0              0   \n",
       "2672               0            0                0              0   \n",
       "5761               0            0                0              0   \n",
       "5998               0            0                0              0   \n",
       "1252               0            0                0              0   \n",
       "8239               0            0                0              0   \n",
       "9981               0            0                0              0   \n",
       "\n",
       "      city_Budapest  city_Copenhagen  city_Dublin  city_Edinburgh  \\\n",
       "3397              0                0            0               0   \n",
       "8664              0                0            0               0   \n",
       "5232              0                0            0               0   \n",
       "680               0                0            0               0   \n",
       "2672              0                0            0               0   \n",
       "5761              0                0            0               0   \n",
       "5998              0                0            0               0   \n",
       "1252              0                0            0               0   \n",
       "8239              0                0            0               0   \n",
       "9981              0                0            0               0   \n",
       "\n",
       "      city_Geneva  city_Hamburg  city_Helsinki  city_Krakow  city_Lisbon  \\\n",
       "3397            0             0              0            0            0   \n",
       "8664            0             0              0            0            0   \n",
       "5232            0             0              0            0            0   \n",
       "680             0             0              0            0            0   \n",
       "2672            0             0              0            0            0   \n",
       "5761            0             0              0            0            0   \n",
       "5998            0             0              0            0            0   \n",
       "1252            0             0              0            0            0   \n",
       "8239            0             0              0            0            0   \n",
       "9981            0             0              0            0            0   \n",
       "\n",
       "      city_Ljubljana  city_London  city_Luxembourg  city_Lyon  city_Madrid  \\\n",
       "3397               0            0                0          0            0   \n",
       "8664               0            0                0          0            0   \n",
       "5232               0            0                0          0            1   \n",
       "680                0            1                0          0            0   \n",
       "2672               0            0                0          0            0   \n",
       "5761               0            0                0          0            1   \n",
       "5998               0            0                0          0            0   \n",
       "1252               0            0                0          0            1   \n",
       "8239               0            1                0          0            0   \n",
       "9981               0            0                0          0            0   \n",
       "\n",
       "      city_Milan  city_Munich  city_Oporto  city_Oslo  city_Paris  \\\n",
       "3397           1            0            0          0           0   \n",
       "8664           0            1            0          0           0   \n",
       "5232           0            0            0          0           0   \n",
       "680            0            0            0          0           0   \n",
       "2672           0            0            0          0           0   \n",
       "5761           0            0            0          0           0   \n",
       "5998           0            0            0          0           1   \n",
       "1252           0            0            0          0           0   \n",
       "8239           0            0            0          0           0   \n",
       "9981           0            1            0          0           0   \n",
       "\n",
       "      city_Prague  city_Rome  city_Stockholm  city_Vienna  city_Warsaw  \\\n",
       "3397            0          0               0            0            0   \n",
       "8664            0          0               0            0            0   \n",
       "5232            0          0               0            0            0   \n",
       "680             0          0               0            0            0   \n",
       "2672            0          0               0            1            0   \n",
       "5761            0          0               0            0            0   \n",
       "5998            0          0               0            0            0   \n",
       "1252            0          0               0            0            0   \n",
       "8239            0          0               0            0            0   \n",
       "9981            0          0               0            0            0   \n",
       "\n",
       "      city_Zurich  \n",
       "3397            0  \n",
       "8664            0  \n",
       "5232            0  \n",
       "680             0  \n",
       "2672            0  \n",
       "5761            0  \n",
       "5998            0  \n",
       "1252            0  \n",
       "8239            0  \n",
       "9981            0  "
      ]
     },
     "execution_count": 74,
     "metadata": {},
     "output_type": "execute_result"
    }
   ],
   "source": [
    "test_data.sample(10)"
   ]
  },
  {
   "cell_type": "code",
   "execution_count": 75,
   "id": "hearing-marriage",
   "metadata": {},
   "outputs": [],
   "source": [
    "test_data = test_data.drop(['rating', 'ranking', 'len_date', 'restaurant_id',\n",
    "                            'cuisine_style', 'reviews', 'url_ta', 'date_review'], axis=1)"
   ]
  },
  {
   "cell_type": "code",
   "execution_count": 76,
   "id": "incomplete-roots",
   "metadata": {},
   "outputs": [
    {
     "name": "stderr",
     "output_type": "stream",
     "text": [
      "[Parallel(n_jobs=8)]: Using backend ThreadingBackend with 8 concurrent workers.\n",
      "[Parallel(n_jobs=8)]: Done  34 tasks      | elapsed:    0.0s\n",
      "[Parallel(n_jobs=8)]: Done 100 out of 100 | elapsed:    0.1s finished\n"
     ]
    }
   ],
   "source": [
    "predict_submission = model.predict(test_data)"
   ]
  },
  {
   "cell_type": "code",
   "execution_count": 77,
   "id": "british-avatar",
   "metadata": {
    "scrolled": true
   },
   "outputs": [
    {
     "data": {
      "text/plain": [
       "array([3.065, 4.295, 4.245, ..., 3.005, 4.445, 4.43 ])"
      ]
     },
     "execution_count": 77,
     "metadata": {},
     "output_type": "execute_result"
    }
   ],
   "source": [
    "predict_submission"
   ]
  },
  {
   "cell_type": "code",
   "execution_count": 78,
   "id": "understood-terrain",
   "metadata": {},
   "outputs": [
    {
     "data": {
      "text/plain": [
       "array([3. , 4.5, 4. , ..., 3. , 4.5, 4.5])"
      ]
     },
     "execution_count": 78,
     "metadata": {},
     "output_type": "execute_result"
    }
   ],
   "source": [
    "predict_submission = my_vec_round(predict_submission)\n",
    "predict_submission"
   ]
  },
  {
   "cell_type": "code",
   "execution_count": 79,
   "id": "surgical-plumbing",
   "metadata": {},
   "outputs": [
    {
     "data": {
      "text/html": [
       "<div>\n",
       "<style scoped>\n",
       "    .dataframe tbody tr th:only-of-type {\n",
       "        vertical-align: middle;\n",
       "    }\n",
       "\n",
       "    .dataframe tbody tr th {\n",
       "        vertical-align: top;\n",
       "    }\n",
       "\n",
       "    .dataframe thead th {\n",
       "        text-align: right;\n",
       "    }\n",
       "</style>\n",
       "<table border=\"1\" class=\"dataframe\">\n",
       "  <thead>\n",
       "    <tr style=\"text-align: right;\">\n",
       "      <th></th>\n",
       "      <th>Restaurant_id</th>\n",
       "      <th>Rating</th>\n",
       "    </tr>\n",
       "  </thead>\n",
       "  <tbody>\n",
       "    <tr>\n",
       "      <th>0</th>\n",
       "      <td>id_0</td>\n",
       "      <td>3.0</td>\n",
       "    </tr>\n",
       "    <tr>\n",
       "      <th>1</th>\n",
       "      <td>id_1</td>\n",
       "      <td>4.5</td>\n",
       "    </tr>\n",
       "    <tr>\n",
       "      <th>2</th>\n",
       "      <td>id_2</td>\n",
       "      <td>4.0</td>\n",
       "    </tr>\n",
       "    <tr>\n",
       "      <th>3</th>\n",
       "      <td>id_3</td>\n",
       "      <td>4.5</td>\n",
       "    </tr>\n",
       "    <tr>\n",
       "      <th>4</th>\n",
       "      <td>id_4</td>\n",
       "      <td>4.5</td>\n",
       "    </tr>\n",
       "    <tr>\n",
       "      <th>5</th>\n",
       "      <td>id_5</td>\n",
       "      <td>4.5</td>\n",
       "    </tr>\n",
       "    <tr>\n",
       "      <th>6</th>\n",
       "      <td>id_6</td>\n",
       "      <td>1.5</td>\n",
       "    </tr>\n",
       "    <tr>\n",
       "      <th>7</th>\n",
       "      <td>id_7</td>\n",
       "      <td>3.5</td>\n",
       "    </tr>\n",
       "    <tr>\n",
       "      <th>8</th>\n",
       "      <td>id_8</td>\n",
       "      <td>4.0</td>\n",
       "    </tr>\n",
       "    <tr>\n",
       "      <th>9</th>\n",
       "      <td>id_9</td>\n",
       "      <td>4.5</td>\n",
       "    </tr>\n",
       "    <tr>\n",
       "      <th>10</th>\n",
       "      <td>id_10</td>\n",
       "      <td>4.0</td>\n",
       "    </tr>\n",
       "    <tr>\n",
       "      <th>11</th>\n",
       "      <td>id_11</td>\n",
       "      <td>4.0</td>\n",
       "    </tr>\n",
       "    <tr>\n",
       "      <th>12</th>\n",
       "      <td>id_12</td>\n",
       "      <td>4.0</td>\n",
       "    </tr>\n",
       "    <tr>\n",
       "      <th>13</th>\n",
       "      <td>id_13</td>\n",
       "      <td>4.0</td>\n",
       "    </tr>\n",
       "    <tr>\n",
       "      <th>14</th>\n",
       "      <td>id_14</td>\n",
       "      <td>4.0</td>\n",
       "    </tr>\n",
       "  </tbody>\n",
       "</table>\n",
       "</div>"
      ],
      "text/plain": [
       "   Restaurant_id  Rating\n",
       "0           id_0     3.0\n",
       "1           id_1     4.5\n",
       "2           id_2     4.0\n",
       "3           id_3     4.5\n",
       "4           id_4     4.5\n",
       "5           id_5     4.5\n",
       "6           id_6     1.5\n",
       "7           id_7     3.5\n",
       "8           id_8     4.0\n",
       "9           id_9     4.5\n",
       "10         id_10     4.0\n",
       "11         id_11     4.0\n",
       "12         id_12     4.0\n",
       "13         id_13     4.0\n",
       "14         id_14     4.0"
      ]
     },
     "execution_count": 79,
     "metadata": {},
     "output_type": "execute_result"
    }
   ],
   "source": [
    "sample_submission['Rating'] = predict_submission\n",
    "sample_submission.to_csv('submission.csv', index=False)\n",
    "sample_submission.head(15)"
   ]
  },
  {
   "cell_type": "code",
   "execution_count": null,
   "id": "funky-airfare",
   "metadata": {},
   "outputs": [],
   "source": []
  }
 ],
 "metadata": {
  "kernelspec": {
   "display_name": "Python 3",
   "language": "python",
   "name": "python3"
  },
  "language_info": {
   "codemirror_mode": {
    "name": "ipython",
    "version": 3
   },
   "file_extension": ".py",
   "mimetype": "text/x-python",
   "name": "python",
   "nbconvert_exporter": "python",
   "pygments_lexer": "ipython3",
   "version": "3.8.3"
  }
 },
 "nbformat": 4,
 "nbformat_minor": 5
}
