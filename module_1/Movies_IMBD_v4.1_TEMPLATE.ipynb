{
 "cells": [
  {
   "cell_type": "code",
   "execution_count": 1,
   "metadata": {
    "_cell_guid": "b1076dfc-b9ad-4769-8c92-a6c4dae69d19",
    "_uuid": "8f2839f25d086af736a60e9eeb907d3b93b6e0e5",
    "colab": {},
    "colab_type": "code",
    "id": "U2D2gTdJVp90"
   },
   "outputs": [],
   "source": [
    "import numpy as np\n",
    "import pandas as pd\n",
    "import seaborn as sns\n",
    "import matplotlib.pyplot as plt\n",
    "import collections \n",
    "import calendar\n",
    "import itertools"
   ]
  },
  {
   "cell_type": "code",
   "execution_count": 2,
   "metadata": {
    "_cell_guid": "79c7e3d0-c299-4dcb-8224-4455121ee9b0",
    "_uuid": "d629ff2d2480ee46fbb7e2d37f6b5fab8052498a",
    "colab": {},
    "colab_type": "code",
    "id": "oyGfxL3eVp9-"
   },
   "outputs": [
    {
     "data": {
      "text/html": [
       "<div>\n",
       "<style scoped>\n",
       "    .dataframe tbody tr th:only-of-type {\n",
       "        vertical-align: middle;\n",
       "    }\n",
       "\n",
       "    .dataframe tbody tr th {\n",
       "        vertical-align: top;\n",
       "    }\n",
       "\n",
       "    .dataframe thead th {\n",
       "        text-align: right;\n",
       "    }\n",
       "</style>\n",
       "<table border=\"1\" class=\"dataframe\">\n",
       "  <thead>\n",
       "    <tr style=\"text-align: right;\">\n",
       "      <th></th>\n",
       "      <th>imdb_id</th>\n",
       "      <th>budget</th>\n",
       "      <th>revenue</th>\n",
       "      <th>original_title</th>\n",
       "      <th>cast</th>\n",
       "      <th>director</th>\n",
       "      <th>tagline</th>\n",
       "      <th>overview</th>\n",
       "      <th>runtime</th>\n",
       "      <th>genres</th>\n",
       "      <th>production_companies</th>\n",
       "      <th>release_date</th>\n",
       "      <th>vote_average</th>\n",
       "      <th>release_year</th>\n",
       "    </tr>\n",
       "  </thead>\n",
       "  <tbody>\n",
       "    <tr>\n",
       "      <th>1567</th>\n",
       "      <td>tt0332452</td>\n",
       "      <td>175000000</td>\n",
       "      <td>497409852</td>\n",
       "      <td>Troy</td>\n",
       "      <td>Brad Pitt|Orlando Bloom|Eric Bana|Brian Cox|Se...</td>\n",
       "      <td>Wolfgang Petersen</td>\n",
       "      <td>For passion. For honor. For destiny. For victo...</td>\n",
       "      <td>In year 1250 B.C. during the late Bronze age, ...</td>\n",
       "      <td>163</td>\n",
       "      <td>War|Adventure|Drama</td>\n",
       "      <td>Plan B Entertainment|Warner Bros.|Nimar Studio...</td>\n",
       "      <td>5/13/2004</td>\n",
       "      <td>6.8</td>\n",
       "      <td>2004</td>\n",
       "    </tr>\n",
       "    <tr>\n",
       "      <th>115</th>\n",
       "      <td>tt2358925</td>\n",
       "      <td>35000000</td>\n",
       "      <td>14431253</td>\n",
       "      <td>Unfinished Business</td>\n",
       "      <td>Vince Vaughn|Dave Franco|James Marsden|June Di...</td>\n",
       "      <td>Ken Scott</td>\n",
       "      <td>Best business trip ever.</td>\n",
       "      <td>A hard-working small business owner and his tw...</td>\n",
       "      <td>90</td>\n",
       "      <td>Comedy</td>\n",
       "      <td>Studio Babelsberg|Regency Enterprises|Escape A...</td>\n",
       "      <td>3/5/2015</td>\n",
       "      <td>4.9</td>\n",
       "      <td>2015</td>\n",
       "    </tr>\n",
       "    <tr>\n",
       "      <th>145</th>\n",
       "      <td>tt2179136</td>\n",
       "      <td>58800000</td>\n",
       "      <td>542307423</td>\n",
       "      <td>American Sniper</td>\n",
       "      <td>Bradley Cooper|Sienna Miller|Kyle Gallner|Cole...</td>\n",
       "      <td>Clint Eastwood</td>\n",
       "      <td>The most lethal sniper in U.S. history.</td>\n",
       "      <td>U.S. Navy SEAL Chris Kyle takes his sole missi...</td>\n",
       "      <td>134</td>\n",
       "      <td>War|Action</td>\n",
       "      <td>Village Roadshow Pictures|Malpaso Productions|...</td>\n",
       "      <td>12/11/2014</td>\n",
       "      <td>7.5</td>\n",
       "      <td>2014</td>\n",
       "    </tr>\n",
       "    <tr>\n",
       "      <th>148</th>\n",
       "      <td>tt1587310</td>\n",
       "      <td>180000000</td>\n",
       "      <td>758410378</td>\n",
       "      <td>Maleficent</td>\n",
       "      <td>Angelina Jolie|Elle Fanning|Juno Temple|Sharlt...</td>\n",
       "      <td>Robert Stromberg</td>\n",
       "      <td>Don't believe the fairy tale.</td>\n",
       "      <td>The untold story of Disney's most iconic villa...</td>\n",
       "      <td>97</td>\n",
       "      <td>Fantasy|Adventure|Action|Family|Romance</td>\n",
       "      <td>Walt Disney Pictures|Roth Films</td>\n",
       "      <td>5/28/2014</td>\n",
       "      <td>7.0</td>\n",
       "      <td>2014</td>\n",
       "    </tr>\n",
       "    <tr>\n",
       "      <th>949</th>\n",
       "      <td>tt0270288</td>\n",
       "      <td>30000000</td>\n",
       "      <td>33013805</td>\n",
       "      <td>Confessions of a Dangerous Mind</td>\n",
       "      <td>Sam Rockwell|Drew Barrymore|Julia Roberts|Rutg...</td>\n",
       "      <td>George Clooney</td>\n",
       "      <td>Some things are better left top secret.</td>\n",
       "      <td>Television made him famous, but his biggest hi...</td>\n",
       "      <td>113</td>\n",
       "      <td>Comedy|Crime|Drama|Romance|Thriller</td>\n",
       "      <td>Miramax Films|Allied Filmmakers|Mad Chance</td>\n",
       "      <td>12/30/2002</td>\n",
       "      <td>6.4</td>\n",
       "      <td>2002</td>\n",
       "    </tr>\n",
       "  </tbody>\n",
       "</table>\n",
       "</div>"
      ],
      "text/plain": [
       "        imdb_id     budget    revenue                   original_title  \\\n",
       "1567  tt0332452  175000000  497409852                             Troy   \n",
       "115   tt2358925   35000000   14431253              Unfinished Business   \n",
       "145   tt2179136   58800000  542307423                  American Sniper   \n",
       "148   tt1587310  180000000  758410378                       Maleficent   \n",
       "949   tt0270288   30000000   33013805  Confessions of a Dangerous Mind   \n",
       "\n",
       "                                                   cast           director  \\\n",
       "1567  Brad Pitt|Orlando Bloom|Eric Bana|Brian Cox|Se...  Wolfgang Petersen   \n",
       "115   Vince Vaughn|Dave Franco|James Marsden|June Di...          Ken Scott   \n",
       "145   Bradley Cooper|Sienna Miller|Kyle Gallner|Cole...     Clint Eastwood   \n",
       "148   Angelina Jolie|Elle Fanning|Juno Temple|Sharlt...   Robert Stromberg   \n",
       "949   Sam Rockwell|Drew Barrymore|Julia Roberts|Rutg...     George Clooney   \n",
       "\n",
       "                                                tagline  \\\n",
       "1567  For passion. For honor. For destiny. For victo...   \n",
       "115                            Best business trip ever.   \n",
       "145             The most lethal sniper in U.S. history.   \n",
       "148                       Don't believe the fairy tale.   \n",
       "949             Some things are better left top secret.   \n",
       "\n",
       "                                               overview  runtime  \\\n",
       "1567  In year 1250 B.C. during the late Bronze age, ...      163   \n",
       "115   A hard-working small business owner and his tw...       90   \n",
       "145   U.S. Navy SEAL Chris Kyle takes his sole missi...      134   \n",
       "148   The untold story of Disney's most iconic villa...       97   \n",
       "949   Television made him famous, but his biggest hi...      113   \n",
       "\n",
       "                                       genres  \\\n",
       "1567                      War|Adventure|Drama   \n",
       "115                                    Comedy   \n",
       "145                                War|Action   \n",
       "148   Fantasy|Adventure|Action|Family|Romance   \n",
       "949       Comedy|Crime|Drama|Romance|Thriller   \n",
       "\n",
       "                                   production_companies release_date  \\\n",
       "1567  Plan B Entertainment|Warner Bros.|Nimar Studio...    5/13/2004   \n",
       "115   Studio Babelsberg|Regency Enterprises|Escape A...     3/5/2015   \n",
       "145   Village Roadshow Pictures|Malpaso Productions|...   12/11/2014   \n",
       "148                     Walt Disney Pictures|Roth Films    5/28/2014   \n",
       "949          Miramax Films|Allied Filmmakers|Mad Chance   12/30/2002   \n",
       "\n",
       "      vote_average  release_year  \n",
       "1567           6.8          2004  \n",
       "115            4.9          2015  \n",
       "145            7.5          2014  \n",
       "148            7.0          2014  \n",
       "949            6.4          2002  "
      ]
     },
     "execution_count": 2,
     "metadata": {},
     "output_type": "execute_result"
    }
   ],
   "source": [
    "data = pd.read_csv('movie_bd_v5.csv')\n",
    "data.sample(5)"
   ]
  },
  {
   "cell_type": "code",
   "execution_count": 3,
   "metadata": {
    "colab": {},
    "colab_type": "code",
    "id": "CoYUnagMVp-C"
   },
   "outputs": [
    {
     "data": {
      "text/html": [
       "<div>\n",
       "<style scoped>\n",
       "    .dataframe tbody tr th:only-of-type {\n",
       "        vertical-align: middle;\n",
       "    }\n",
       "\n",
       "    .dataframe tbody tr th {\n",
       "        vertical-align: top;\n",
       "    }\n",
       "\n",
       "    .dataframe thead th {\n",
       "        text-align: right;\n",
       "    }\n",
       "</style>\n",
       "<table border=\"1\" class=\"dataframe\">\n",
       "  <thead>\n",
       "    <tr style=\"text-align: right;\">\n",
       "      <th></th>\n",
       "      <th>budget</th>\n",
       "      <th>revenue</th>\n",
       "      <th>runtime</th>\n",
       "      <th>vote_average</th>\n",
       "      <th>release_year</th>\n",
       "    </tr>\n",
       "  </thead>\n",
       "  <tbody>\n",
       "    <tr>\n",
       "      <th>count</th>\n",
       "      <td>1.889000e+03</td>\n",
       "      <td>1.889000e+03</td>\n",
       "      <td>1889.000000</td>\n",
       "      <td>1889.000000</td>\n",
       "      <td>1889.000000</td>\n",
       "    </tr>\n",
       "    <tr>\n",
       "      <th>mean</th>\n",
       "      <td>5.431083e+07</td>\n",
       "      <td>1.553653e+08</td>\n",
       "      <td>109.658549</td>\n",
       "      <td>6.140762</td>\n",
       "      <td>2007.860773</td>\n",
       "    </tr>\n",
       "    <tr>\n",
       "      <th>std</th>\n",
       "      <td>4.858721e+07</td>\n",
       "      <td>2.146698e+08</td>\n",
       "      <td>18.017041</td>\n",
       "      <td>0.764763</td>\n",
       "      <td>4.468841</td>\n",
       "    </tr>\n",
       "    <tr>\n",
       "      <th>min</th>\n",
       "      <td>5.000000e+06</td>\n",
       "      <td>2.033165e+06</td>\n",
       "      <td>63.000000</td>\n",
       "      <td>3.300000</td>\n",
       "      <td>2000.000000</td>\n",
       "    </tr>\n",
       "    <tr>\n",
       "      <th>25%</th>\n",
       "      <td>2.000000e+07</td>\n",
       "      <td>3.456058e+07</td>\n",
       "      <td>97.000000</td>\n",
       "      <td>5.600000</td>\n",
       "      <td>2004.000000</td>\n",
       "    </tr>\n",
       "    <tr>\n",
       "      <th>50%</th>\n",
       "      <td>3.800000e+07</td>\n",
       "      <td>8.361541e+07</td>\n",
       "      <td>107.000000</td>\n",
       "      <td>6.100000</td>\n",
       "      <td>2008.000000</td>\n",
       "    </tr>\n",
       "    <tr>\n",
       "      <th>75%</th>\n",
       "      <td>7.200000e+07</td>\n",
       "      <td>1.782626e+08</td>\n",
       "      <td>120.000000</td>\n",
       "      <td>6.600000</td>\n",
       "      <td>2012.000000</td>\n",
       "    </tr>\n",
       "    <tr>\n",
       "      <th>max</th>\n",
       "      <td>3.800000e+08</td>\n",
       "      <td>2.781506e+09</td>\n",
       "      <td>214.000000</td>\n",
       "      <td>8.100000</td>\n",
       "      <td>2015.000000</td>\n",
       "    </tr>\n",
       "  </tbody>\n",
       "</table>\n",
       "</div>"
      ],
      "text/plain": [
       "             budget       revenue      runtime  vote_average  release_year\n",
       "count  1.889000e+03  1.889000e+03  1889.000000   1889.000000   1889.000000\n",
       "mean   5.431083e+07  1.553653e+08   109.658549      6.140762   2007.860773\n",
       "std    4.858721e+07  2.146698e+08    18.017041      0.764763      4.468841\n",
       "min    5.000000e+06  2.033165e+06    63.000000      3.300000   2000.000000\n",
       "25%    2.000000e+07  3.456058e+07    97.000000      5.600000   2004.000000\n",
       "50%    3.800000e+07  8.361541e+07   107.000000      6.100000   2008.000000\n",
       "75%    7.200000e+07  1.782626e+08   120.000000      6.600000   2012.000000\n",
       "max    3.800000e+08  2.781506e+09   214.000000      8.100000   2015.000000"
      ]
     },
     "execution_count": 3,
     "metadata": {},
     "output_type": "execute_result"
    }
   ],
   "source": [
    "data.describe()"
   ]
  },
  {
   "cell_type": "markdown",
   "metadata": {
    "colab_type": "text",
    "id": "DTIt7ezGVp-G"
   },
   "source": [
    "# Предобработка"
   ]
  },
  {
   "cell_type": "code",
   "execution_count": 4,
   "metadata": {
    "colab": {},
    "colab_type": "code",
    "id": "jNb40DwKVp-H"
   },
   "outputs": [],
   "source": [
    "answers = {} # создадим словарь для ответов\n",
    "\n",
    "# тут другие ваши предобработки колонок например:\n",
    "data.release_date = pd.to_datetime(data.release_date)\n",
    "data['profit'] = data.revenue - data.budget\n",
    "data['month'] = data.release_date.apply(lambda x: calendar.month_abbr[x.month])\n",
    "#the time given in the dataset is in string format.\n",
    "#So we need to change this in datetime format\n",
    "# ..."
   ]
  },
  {
   "cell_type": "markdown",
   "metadata": {
    "colab_type": "text",
    "id": "YxZaH-nPVp-L"
   },
   "source": [
    "# 1. У какого фильма из списка самый большой бюджет?"
   ]
  },
  {
   "cell_type": "markdown",
   "metadata": {
    "colab_type": "text",
    "id": "Nd-G5gX6Vp-M"
   },
   "source": [
    "Использовать варианты ответов в коде решения запрещено.    \n",
    "Вы думаете и в жизни у вас будут варианты ответов?)"
   ]
  },
  {
   "cell_type": "code",
   "execution_count": 5,
   "metadata": {
    "colab": {},
    "colab_type": "code",
    "id": "uVnXAY5RVp-O"
   },
   "outputs": [],
   "source": [
    "# в словарь вставляем номер вопроса и ваш ответ на него\n",
    "# Пример: \n",
    "answers['1'] = '2. Spider-Man 3 (tt0413300)'\n",
    "# запишите свой вариант ответа\n",
    "answers['1'] = '5. Pirates of the Caribbean: On Stranger Tides (tt1298650)'  # +\n",
    "# если ответили верно, можете добавить комментарий со значком \"+\""
   ]
  },
  {
   "cell_type": "code",
   "execution_count": 6,
   "metadata": {
    "colab": {},
    "colab_type": "code",
    "id": "dZwb3m28Vp-S"
   },
   "outputs": [
    {
     "data": {
      "text/html": [
       "<div>\n",
       "<style scoped>\n",
       "    .dataframe tbody tr th:only-of-type {\n",
       "        vertical-align: middle;\n",
       "    }\n",
       "\n",
       "    .dataframe tbody tr th {\n",
       "        vertical-align: top;\n",
       "    }\n",
       "\n",
       "    .dataframe thead th {\n",
       "        text-align: right;\n",
       "    }\n",
       "</style>\n",
       "<table border=\"1\" class=\"dataframe\">\n",
       "  <thead>\n",
       "    <tr style=\"text-align: right;\">\n",
       "      <th></th>\n",
       "      <th>original_title</th>\n",
       "      <th>imdb_id</th>\n",
       "    </tr>\n",
       "  </thead>\n",
       "  <tbody>\n",
       "    <tr>\n",
       "      <th>723</th>\n",
       "      <td>Pirates of the Caribbean: On Stranger Tides</td>\n",
       "      <td>tt1298650</td>\n",
       "    </tr>\n",
       "  </tbody>\n",
       "</table>\n",
       "</div>"
      ],
      "text/plain": [
       "                                  original_title    imdb_id\n",
       "723  Pirates of the Caribbean: On Stranger Tides  tt1298650"
      ]
     },
     "execution_count": 6,
     "metadata": {},
     "output_type": "execute_result"
    }
   ],
   "source": [
    "# тут пишем ваш код для решения данного вопроса:\n",
    "data.loc[data.budget == data.budget.max(), ['original_title', 'imdb_id']]"
   ]
  },
  {
   "cell_type": "markdown",
   "metadata": {
    "colab_type": "text",
    "id": "K7L3nbRXVp-X"
   },
   "source": [
    "ВАРИАНТ 2"
   ]
  },
  {
   "cell_type": "code",
   "execution_count": 7,
   "metadata": {
    "colab": {},
    "colab_type": "code",
    "id": "OGaoQI7rVp-X"
   },
   "outputs": [],
   "source": [
    "# можно добавлять разные варианты решения\n"
   ]
  },
  {
   "cell_type": "markdown",
   "metadata": {
    "colab_type": "text",
    "id": "FNRbbI3vVp-c"
   },
   "source": [
    "# 2. Какой из фильмов самый длительный (в минутах)?"
   ]
  },
  {
   "cell_type": "code",
   "execution_count": 8,
   "metadata": {
    "colab": {},
    "colab_type": "code",
    "id": "vHAoEXNTVp-d"
   },
   "outputs": [],
   "source": [
    "# думаю логику работы с этим словарем вы уже поняли, \n",
    "# по этому не буду больше его дублировать\n",
    "answers['2'] = '2. Gods and Generals (tt0279111)'"
   ]
  },
  {
   "cell_type": "code",
   "execution_count": 9,
   "metadata": {
    "colab": {},
    "colab_type": "code",
    "id": "ot-VX2XrVp-g"
   },
   "outputs": [
    {
     "data": {
      "text/html": [
       "<div>\n",
       "<style scoped>\n",
       "    .dataframe tbody tr th:only-of-type {\n",
       "        vertical-align: middle;\n",
       "    }\n",
       "\n",
       "    .dataframe tbody tr th {\n",
       "        vertical-align: top;\n",
       "    }\n",
       "\n",
       "    .dataframe thead th {\n",
       "        text-align: right;\n",
       "    }\n",
       "</style>\n",
       "<table border=\"1\" class=\"dataframe\">\n",
       "  <thead>\n",
       "    <tr style=\"text-align: right;\">\n",
       "      <th></th>\n",
       "      <th>original_title</th>\n",
       "      <th>imdb_id</th>\n",
       "    </tr>\n",
       "  </thead>\n",
       "  <tbody>\n",
       "    <tr>\n",
       "      <th>1157</th>\n",
       "      <td>Gods and Generals</td>\n",
       "      <td>tt0279111</td>\n",
       "    </tr>\n",
       "  </tbody>\n",
       "</table>\n",
       "</div>"
      ],
      "text/plain": [
       "         original_title    imdb_id\n",
       "1157  Gods and Generals  tt0279111"
      ]
     },
     "execution_count": 9,
     "metadata": {},
     "output_type": "execute_result"
    }
   ],
   "source": [
    "data.loc[data.runtime == data.runtime.max(), ['original_title', 'imdb_id']]"
   ]
  },
  {
   "cell_type": "markdown",
   "metadata": {
    "colab_type": "text",
    "id": "bapLlpW8Vp-k"
   },
   "source": [
    "# 3. Какой из фильмов самый короткий (в минутах)?\n",
    "\n",
    "\n",
    "\n"
   ]
  },
  {
   "cell_type": "code",
   "execution_count": 10,
   "metadata": {},
   "outputs": [],
   "source": [
    "answers['3'] = '3. Winnie the Pooh (tt1449283)'"
   ]
  },
  {
   "cell_type": "code",
   "execution_count": 11,
   "metadata": {
    "colab": {},
    "colab_type": "code",
    "id": "YBxaSHuAVp-l"
   },
   "outputs": [
    {
     "data": {
      "text/html": [
       "<div>\n",
       "<style scoped>\n",
       "    .dataframe tbody tr th:only-of-type {\n",
       "        vertical-align: middle;\n",
       "    }\n",
       "\n",
       "    .dataframe tbody tr th {\n",
       "        vertical-align: top;\n",
       "    }\n",
       "\n",
       "    .dataframe thead th {\n",
       "        text-align: right;\n",
       "    }\n",
       "</style>\n",
       "<table border=\"1\" class=\"dataframe\">\n",
       "  <thead>\n",
       "    <tr style=\"text-align: right;\">\n",
       "      <th></th>\n",
       "      <th>original_title</th>\n",
       "      <th>imdb_id</th>\n",
       "    </tr>\n",
       "  </thead>\n",
       "  <tbody>\n",
       "    <tr>\n",
       "      <th>768</th>\n",
       "      <td>Winnie the Pooh</td>\n",
       "      <td>tt1449283</td>\n",
       "    </tr>\n",
       "  </tbody>\n",
       "</table>\n",
       "</div>"
      ],
      "text/plain": [
       "      original_title    imdb_id\n",
       "768  Winnie the Pooh  tt1449283"
      ]
     },
     "execution_count": 11,
     "metadata": {},
     "output_type": "execute_result"
    }
   ],
   "source": [
    "data.loc[data.runtime == data.runtime.min(), ['original_title', 'imdb_id']]"
   ]
  },
  {
   "cell_type": "markdown",
   "metadata": {
    "colab_type": "text",
    "id": "TfQbxbfNVp-p"
   },
   "source": [
    "# 4. Какова средняя длительность фильмов?\n"
   ]
  },
  {
   "cell_type": "code",
   "execution_count": 12,
   "metadata": {
    "colab": {},
    "colab_type": "code",
    "id": "5K6dKZYVVp-q"
   },
   "outputs": [],
   "source": [
    "answers['4'] = '2. 110'"
   ]
  },
  {
   "cell_type": "code",
   "execution_count": 13,
   "metadata": {},
   "outputs": [
    {
     "data": {
      "text/plain": [
       "110"
      ]
     },
     "execution_count": 13,
     "metadata": {},
     "output_type": "execute_result"
    }
   ],
   "source": [
    "round(data.runtime.mean())"
   ]
  },
  {
   "cell_type": "markdown",
   "metadata": {
    "colab_type": "text",
    "id": "r5TvbnT_Vp-u"
   },
   "source": [
    "# 5. Каково медианное значение длительности фильмов? "
   ]
  },
  {
   "cell_type": "code",
   "execution_count": 14,
   "metadata": {
    "colab": {},
    "colab_type": "code",
    "id": "iBROplKnVp-v"
   },
   "outputs": [],
   "source": [
    "answers['5'] = '1. 107'"
   ]
  },
  {
   "cell_type": "code",
   "execution_count": 15,
   "metadata": {},
   "outputs": [
    {
     "data": {
      "text/plain": [
       "107"
      ]
     },
     "execution_count": 15,
     "metadata": {},
     "output_type": "execute_result"
    }
   ],
   "source": [
    "round(data.runtime.median())"
   ]
  },
  {
   "cell_type": "markdown",
   "metadata": {
    "colab_type": "text",
    "id": "39P-deDSVp-y"
   },
   "source": [
    "# 6. Какой самый прибыльный фильм?\n",
    "#### Внимание! Здесь и далее под «прибылью» или «убытками» понимается разность между сборами и бюджетом фильма. (прибыль = сборы - бюджет) в нашем датасете это будет (profit = revenue - budget) "
   ]
  },
  {
   "cell_type": "code",
   "execution_count": 16,
   "metadata": {
    "colab": {},
    "colab_type": "code",
    "id": "UYZh4T9WVp-y"
   },
   "outputs": [],
   "source": [
    "# лучше код получения столбца profit вынести в Предобработку что в начале\n",
    "answers['6'] = '5. Avatar (tt0499549)'"
   ]
  },
  {
   "cell_type": "code",
   "execution_count": 17,
   "metadata": {},
   "outputs": [
    {
     "data": {
      "text/html": [
       "<div>\n",
       "<style scoped>\n",
       "    .dataframe tbody tr th:only-of-type {\n",
       "        vertical-align: middle;\n",
       "    }\n",
       "\n",
       "    .dataframe tbody tr th {\n",
       "        vertical-align: top;\n",
       "    }\n",
       "\n",
       "    .dataframe thead th {\n",
       "        text-align: right;\n",
       "    }\n",
       "</style>\n",
       "<table border=\"1\" class=\"dataframe\">\n",
       "  <thead>\n",
       "    <tr style=\"text-align: right;\">\n",
       "      <th></th>\n",
       "      <th>original_title</th>\n",
       "      <th>imdb_id</th>\n",
       "    </tr>\n",
       "  </thead>\n",
       "  <tbody>\n",
       "    <tr>\n",
       "      <th>239</th>\n",
       "      <td>Avatar</td>\n",
       "      <td>tt0499549</td>\n",
       "    </tr>\n",
       "  </tbody>\n",
       "</table>\n",
       "</div>"
      ],
      "text/plain": [
       "    original_title    imdb_id\n",
       "239         Avatar  tt0499549"
      ]
     },
     "execution_count": 17,
     "metadata": {},
     "output_type": "execute_result"
    }
   ],
   "source": [
    "data.loc[data.profit == data.profit.max(), ['original_title', 'imdb_id']]"
   ]
  },
  {
   "cell_type": "markdown",
   "metadata": {
    "colab_type": "text",
    "id": "M99JmIX4Vp-2"
   },
   "source": [
    "# 7. Какой фильм самый убыточный? "
   ]
  },
  {
   "cell_type": "code",
   "execution_count": 18,
   "metadata": {},
   "outputs": [],
   "source": [
    "answers['7'] = '5. The Lone Ranger (tt1210819)'"
   ]
  },
  {
   "cell_type": "code",
   "execution_count": 19,
   "metadata": {
    "colab": {},
    "colab_type": "code",
    "id": "w-D2m4XPVp-3"
   },
   "outputs": [
    {
     "data": {
      "text/html": [
       "<div>\n",
       "<style scoped>\n",
       "    .dataframe tbody tr th:only-of-type {\n",
       "        vertical-align: middle;\n",
       "    }\n",
       "\n",
       "    .dataframe tbody tr th {\n",
       "        vertical-align: top;\n",
       "    }\n",
       "\n",
       "    .dataframe thead th {\n",
       "        text-align: right;\n",
       "    }\n",
       "</style>\n",
       "<table border=\"1\" class=\"dataframe\">\n",
       "  <thead>\n",
       "    <tr style=\"text-align: right;\">\n",
       "      <th></th>\n",
       "      <th>original_title</th>\n",
       "      <th>imdb_id</th>\n",
       "    </tr>\n",
       "  </thead>\n",
       "  <tbody>\n",
       "    <tr>\n",
       "      <th>1245</th>\n",
       "      <td>The Lone Ranger</td>\n",
       "      <td>tt1210819</td>\n",
       "    </tr>\n",
       "  </tbody>\n",
       "</table>\n",
       "</div>"
      ],
      "text/plain": [
       "       original_title    imdb_id\n",
       "1245  The Lone Ranger  tt1210819"
      ]
     },
     "execution_count": 19,
     "metadata": {},
     "output_type": "execute_result"
    }
   ],
   "source": [
    "data.loc[data.profit == data.profit.min(), ['original_title', 'imdb_id']]"
   ]
  },
  {
   "cell_type": "markdown",
   "metadata": {
    "colab_type": "text",
    "id": "wEOM5ERVVp-6"
   },
   "source": [
    "# 8. У скольких фильмов из датасета объем сборов оказался выше бюджета?"
   ]
  },
  {
   "cell_type": "code",
   "execution_count": 20,
   "metadata": {},
   "outputs": [],
   "source": [
    "answers['8'] = '1. 1478'"
   ]
  },
  {
   "cell_type": "code",
   "execution_count": 21,
   "metadata": {
    "colab": {},
    "colab_type": "code",
    "id": "y00_7HD6Vp-7",
    "scrolled": true
   },
   "outputs": [
    {
     "data": {
      "text/plain": [
       "1478"
      ]
     },
     "execution_count": 21,
     "metadata": {},
     "output_type": "execute_result"
    }
   ],
   "source": [
    "data.query('profit>0').imdb_id.nunique()"
   ]
  },
  {
   "cell_type": "markdown",
   "metadata": {
    "colab_type": "text",
    "id": "xhpspA9KVp_A"
   },
   "source": [
    "# 9. Какой фильм оказался самым кассовым в 2008 году?"
   ]
  },
  {
   "cell_type": "code",
   "execution_count": 22,
   "metadata": {},
   "outputs": [],
   "source": [
    "answers['9'] = '4. The Dark Knight (tt0468569)'"
   ]
  },
  {
   "cell_type": "code",
   "execution_count": 23,
   "metadata": {
    "colab": {},
    "colab_type": "code",
    "id": "MoUyQr9RVp_B"
   },
   "outputs": [
    {
     "data": {
      "text/plain": [
       "imdb_id                                                         tt0468569\n",
       "budget                                                          185000000\n",
       "revenue                                                        1001921825\n",
       "original_title                                            The Dark Knight\n",
       "cast                    Christian Bale|Michael Caine|Heath Ledger|Aaro...\n",
       "director                                                Christopher Nolan\n",
       "tagline                                                   Why So Serious?\n",
       "overview                Batman raises the stakes in his war on crime. ...\n",
       "runtime                                                               152\n",
       "genres                                        Drama|Action|Crime|Thriller\n",
       "production_companies    DC Comics|Legendary Pictures|Warner Bros.|Syncopy\n",
       "release_date                                          2008-07-16 00:00:00\n",
       "vote_average                                                          8.1\n",
       "release_year                                                         2008\n",
       "profit                                                          816921825\n",
       "month                                                                 Jul\n",
       "Name: 599, dtype: object"
      ]
     },
     "execution_count": 23,
     "metadata": {},
     "output_type": "execute_result"
    }
   ],
   "source": [
    "data.query('release_year==\"2008\"').sort_values('profit', ascending=False).iloc[0]"
   ]
  },
  {
   "cell_type": "markdown",
   "metadata": {
    "colab_type": "text",
    "id": "Zi4hDKidVp_F"
   },
   "source": [
    "# 10. Самый убыточный фильм за период с 2012 по 2014 г. (включительно)?\n"
   ]
  },
  {
   "cell_type": "code",
   "execution_count": 24,
   "metadata": {},
   "outputs": [],
   "source": [
    "answers['10'] = '5. The Lone Ranger (tt1210819)'"
   ]
  },
  {
   "cell_type": "code",
   "execution_count": 25,
   "metadata": {
    "colab": {},
    "colab_type": "code",
    "id": "XqyRmufJVp_F"
   },
   "outputs": [
    {
     "data": {
      "text/plain": [
       "imdb_id                                                         tt1210819\n",
       "budget                                                          255000000\n",
       "revenue                                                          89289910\n",
       "original_title                                            The Lone Ranger\n",
       "cast                    Johnny Depp|Armie Hammer|William Fichtner|Hele...\n",
       "director                                                   Gore Verbinski\n",
       "tagline                                           Never Take Off the Mask\n",
       "overview                The Texas Rangers chase down a gang of outlaws...\n",
       "runtime                                                               149\n",
       "genres                                           Action|Adventure|Western\n",
       "production_companies    Walt Disney Pictures|Jerry Bruckheimer Films|I...\n",
       "release_date                                          2013-07-03 00:00:00\n",
       "vote_average                                                            6\n",
       "release_year                                                         2013\n",
       "profit                                                         -165710090\n",
       "month                                                                 Jul\n",
       "Name: 1245, dtype: object"
      ]
     },
     "execution_count": 25,
     "metadata": {},
     "output_type": "execute_result"
    }
   ],
   "source": [
    "data.query('2012<=release_year<=2014').sort_values('profit').iloc[0]"
   ]
  },
  {
   "cell_type": "markdown",
   "metadata": {
    "colab_type": "text",
    "id": "EA7Sa9dkVp_I"
   },
   "source": [
    "# 11. Какого жанра фильмов больше всего?"
   ]
  },
  {
   "cell_type": "code",
   "execution_count": 26,
   "metadata": {},
   "outputs": [],
   "source": [
    "answers['11'] = '3. Drama'"
   ]
  },
  {
   "cell_type": "code",
   "execution_count": 27,
   "metadata": {
    "colab": {},
    "colab_type": "code",
    "id": "zsJAwJ8QVp_J",
    "scrolled": false
   },
   "outputs": [
    {
     "data": {
      "text/plain": [
       "'Drama'"
      ]
     },
     "execution_count": 27,
     "metadata": {},
     "output_type": "execute_result"
    }
   ],
   "source": [
    "# эту задачу тоже можно решать разными подходами, попробуй реализовать разные варианты\n",
    "# если будешь добавлять функцию - выноси ее в предобработку что в начале\n",
    "collections.Counter(data['genres'].str.cat(sep = '|').split('|')).most_common()[0][0]"
   ]
  },
  {
   "cell_type": "markdown",
   "metadata": {
    "colab_type": "text",
    "id": "Ax6g2C8SVp_M"
   },
   "source": [
    "ВАРИАНТ 2"
   ]
  },
  {
   "cell_type": "code",
   "execution_count": 28,
   "metadata": {
    "colab": {},
    "colab_type": "code",
    "id": "otO3SbrSVp_N"
   },
   "outputs": [
    {
     "name": "stdout",
     "output_type": "stream",
     "text": [
      "Drama\n"
     ]
    }
   ],
   "source": [
    "dic_genres = {}\n",
    "for i in data.genres:\n",
    "    list_genres = i.split('|')  # получили список жанров\n",
    "    for genre in list_genres:\n",
    "        # Подсчет всех значений из списка через словарь\n",
    "        if genre in dic_genres:\n",
    "            dic_genres[genre] += 1\n",
    "        else:\n",
    "            dic_genres[genre] = 0\n",
    "\n",
    "\n",
    "pop_genre = ''\n",
    "max_num = 0\n",
    "for key, value in dic_genres.items():\n",
    "    if value > max_num:\n",
    "        max_num = value\n",
    "        pop_genre = key\n",
    "print(pop_genre)\n"
   ]
  },
  {
   "cell_type": "markdown",
   "metadata": {
    "colab_type": "text",
    "id": "T9_bPWpkVp_Q"
   },
   "source": [
    "# 12. Фильмы какого жанра чаще всего становятся прибыльными? "
   ]
  },
  {
   "cell_type": "code",
   "execution_count": 29,
   "metadata": {},
   "outputs": [],
   "source": [
    "answers['12'] = '1. Drama'"
   ]
  },
  {
   "cell_type": "code",
   "execution_count": 30,
   "metadata": {
    "colab": {},
    "colab_type": "code",
    "id": "Tmt8MaK1Vp_R",
    "scrolled": true
   },
   "outputs": [
    {
     "data": {
      "text/plain": [
       "'Drama'"
      ]
     },
     "execution_count": 30,
     "metadata": {},
     "output_type": "execute_result"
    }
   ],
   "source": [
    "collections.Counter(data.query('profit>0').genres.str.cat(sep='|').split('|'))\\\n",
    "            .most_common()[0][0]"
   ]
  },
  {
   "cell_type": "markdown",
   "metadata": {
    "colab_type": "text",
    "id": "0F23bgsDVp_U"
   },
   "source": [
    "# 13. У какого режиссера самые большие суммарные кассовые сборы?"
   ]
  },
  {
   "cell_type": "code",
   "execution_count": 31,
   "metadata": {
    "scrolled": false
   },
   "outputs": [],
   "source": [
    "answers['13'] = '5. Peter Jackson' "
   ]
  },
  {
   "cell_type": "code",
   "execution_count": 32,
   "metadata": {
    "scrolled": true
   },
   "outputs": [
    {
     "data": {
      "text/plain": [
       "'Peter Jackson'"
      ]
     },
     "execution_count": 32,
     "metadata": {},
     "output_type": "execute_result"
    }
   ],
   "source": [
    "# Так как в столбце режиссеров содержатся несколько режиссеров в одной строке,\n",
    "# то мы не можем применить метод groupby\n",
    "data_copy = data.copy()\n",
    "data_copy['director'] = data_copy['director'].apply(lambda x: x.split('|'))\n",
    "data_copy.explode('director').groupby('director')['profit'].sum()\\\n",
    "            .sort_values(ascending=False).index[0]"
   ]
  },
  {
   "cell_type": "markdown",
   "metadata": {
    "colab_type": "text",
    "id": "PsYC9FgRVp_a"
   },
   "source": [
    "# 14. Какой режисер снял больше всего фильмов в стиле Action?"
   ]
  },
  {
   "cell_type": "code",
   "execution_count": 33,
   "metadata": {},
   "outputs": [],
   "source": [
    "answers['14'] = '3. Robert Rodriguez'"
   ]
  },
  {
   "cell_type": "code",
   "execution_count": 34,
   "metadata": {
    "colab": {},
    "colab_type": "code",
    "id": "wd2M-wHeVp_b"
   },
   "outputs": [
    {
     "data": {
      "text/plain": [
       "'Robert Rodriguez'"
      ]
     },
     "execution_count": 34,
     "metadata": {},
     "output_type": "execute_result"
    }
   ],
   "source": [
    "data_dir_action = data.copy()\n",
    "data_dir_action['director'] = data_dir_action['director'].apply(lambda x: x.split('|'))\n",
    "data_dir_action['genres'] = data_dir_action['genres'].apply(lambda x: x.split('|'))\n",
    "data_dir_action.explode('genres').explode('director').query('genres==\"Action\"').groupby('director')['genres']\\\n",
    "                .count().sort_values(ascending=False).index[0]\n"
   ]
  },
  {
   "cell_type": "markdown",
   "metadata": {
    "colab_type": "text",
    "id": "PQ0KciD7Vp_f"
   },
   "source": [
    "# 15. Фильмы с каким актером принесли самые высокие кассовые сборы в 2012 году? "
   ]
  },
  {
   "cell_type": "code",
   "execution_count": 35,
   "metadata": {},
   "outputs": [],
   "source": [
    "answers['15'] = '3. Chris Hemsworth'"
   ]
  },
  {
   "cell_type": "code",
   "execution_count": 36,
   "metadata": {
    "colab": {},
    "colab_type": "code",
    "id": "aga62oeKVp_g"
   },
   "outputs": [
    {
     "name": "stderr",
     "output_type": "stream",
     "text": [
      "<ipython-input-36-b9c9e28b6ce5>:2: SettingWithCopyWarning: \n",
      "A value is trying to be set on a copy of a slice from a DataFrame.\n",
      "Try using .loc[row_indexer,col_indexer] = value instead\n",
      "\n",
      "See the caveats in the documentation: https://pandas.pydata.org/pandas-docs/stable/user_guide/indexing.html#returning-a-view-versus-a-copy\n",
      "  data_cast['cast'] = data_cast.cast.str.split('|')\n"
     ]
    },
    {
     "data": {
      "text/plain": [
       "'Chris Hemsworth'"
      ]
     },
     "execution_count": 36,
     "metadata": {},
     "output_type": "execute_result"
    }
   ],
   "source": [
    "data_cast = data.query('release_year == \"2012\"')\n",
    "data_cast['cast'] = data_cast.cast.str.split('|')\n",
    "data_cast.explode('cast').groupby('cast')['revenue'].sum().sort_values(ascending=False).index[0]"
   ]
  },
  {
   "cell_type": "markdown",
   "metadata": {
    "colab_type": "text",
    "id": "mWHyyL7QVp_j"
   },
   "source": [
    "# 16. Какой актер снялся в большем количестве высокобюджетных фильмов?"
   ]
  },
  {
   "cell_type": "code",
   "execution_count": 37,
   "metadata": {},
   "outputs": [],
   "source": [
    "answers['16'] = '3. Matt Damon'"
   ]
  },
  {
   "cell_type": "code",
   "execution_count": 38,
   "metadata": {
    "colab": {},
    "colab_type": "code",
    "id": "qQtmHKTFVp_k",
    "scrolled": true
   },
   "outputs": [
    {
     "data": {
      "text/plain": [
       "'Matt Damon'"
      ]
     },
     "execution_count": 38,
     "metadata": {},
     "output_type": "execute_result"
    }
   ],
   "source": [
    "data_cast = data.copy()\n",
    "data_cast['cast'] = data_cast.cast.str.split('|')\n",
    "data_cast.explode('cast')\\\n",
    "        .query('budget>budget.mean()')\\\n",
    "        .groupby('cast')['original_title']\\\n",
    "        .count()\\\n",
    "        .sort_values(ascending=False)\\\n",
    "        .index[0]"
   ]
  },
  {
   "cell_type": "markdown",
   "metadata": {
    "colab_type": "text",
    "id": "NIh6AaW5Vp_n"
   },
   "source": [
    "# 17. В фильмах какого жанра больше всего снимался Nicolas Cage? "
   ]
  },
  {
   "cell_type": "code",
   "execution_count": 39,
   "metadata": {},
   "outputs": [],
   "source": [
    "answers['17'] = '2. Action'"
   ]
  },
  {
   "cell_type": "code",
   "execution_count": 40,
   "metadata": {
    "colab": {},
    "colab_type": "code",
    "id": "H74SJDIBVp_n"
   },
   "outputs": [
    {
     "data": {
      "text/plain": [
       "'Action'"
      ]
     },
     "execution_count": 40,
     "metadata": {},
     "output_type": "execute_result"
    }
   ],
   "source": [
    "data_nic = data[data.cast.str.contains('Nicolas Cage')]\n",
    "collections.Counter(data_nic.genres.str.cat(sep='|').split('|')).most_common()[0][0]"
   ]
  },
  {
   "cell_type": "markdown",
   "metadata": {
    "colab_type": "text",
    "id": "RqOmPRfWVp_q"
   },
   "source": [
    "# 18. Самый убыточный фильм от Paramount Pictures"
   ]
  },
  {
   "cell_type": "code",
   "execution_count": 41,
   "metadata": {},
   "outputs": [],
   "source": [
    "answers['18'] = '1. K-19: The Widowmaker (tt0267626)'"
   ]
  },
  {
   "cell_type": "code",
   "execution_count": 42,
   "metadata": {
    "colab": {},
    "colab_type": "code",
    "id": "9E_B0Y96Vp_r"
   },
   "outputs": [
    {
     "data": {
      "text/html": [
       "<div>\n",
       "<style scoped>\n",
       "    .dataframe tbody tr th:only-of-type {\n",
       "        vertical-align: middle;\n",
       "    }\n",
       "\n",
       "    .dataframe tbody tr th {\n",
       "        vertical-align: top;\n",
       "    }\n",
       "\n",
       "    .dataframe thead th {\n",
       "        text-align: right;\n",
       "    }\n",
       "</style>\n",
       "<table border=\"1\" class=\"dataframe\">\n",
       "  <thead>\n",
       "    <tr style=\"text-align: right;\">\n",
       "      <th></th>\n",
       "      <th>imdb_id</th>\n",
       "      <th>budget</th>\n",
       "      <th>revenue</th>\n",
       "      <th>original_title</th>\n",
       "      <th>cast</th>\n",
       "      <th>director</th>\n",
       "      <th>tagline</th>\n",
       "      <th>overview</th>\n",
       "      <th>runtime</th>\n",
       "      <th>genres</th>\n",
       "      <th>production_companies</th>\n",
       "      <th>release_date</th>\n",
       "      <th>vote_average</th>\n",
       "      <th>release_year</th>\n",
       "      <th>profit</th>\n",
       "      <th>month</th>\n",
       "    </tr>\n",
       "  </thead>\n",
       "  <tbody>\n",
       "    <tr>\n",
       "      <th>925</th>\n",
       "      <td>tt0267626</td>\n",
       "      <td>100000000</td>\n",
       "      <td>35168966</td>\n",
       "      <td>K-19: The Widowmaker</td>\n",
       "      <td>Harrison Ford|Liam Neeson|Peter Sarsgaard|Joss...</td>\n",
       "      <td>Kathryn Bigelow</td>\n",
       "      <td>Fate has found its hero.</td>\n",
       "      <td>When Russia's first nuclear submarine malfunct...</td>\n",
       "      <td>138</td>\n",
       "      <td>Thriller|Drama|History</td>\n",
       "      <td>Paramount Pictures|Intermedia Films|National G...</td>\n",
       "      <td>2002-07-19</td>\n",
       "      <td>6.0</td>\n",
       "      <td>2002</td>\n",
       "      <td>-64831034</td>\n",
       "      <td>Jul</td>\n",
       "    </tr>\n",
       "    <tr>\n",
       "      <th>1123</th>\n",
       "      <td>tt0300556</td>\n",
       "      <td>80000000</td>\n",
       "      <td>19480739</td>\n",
       "      <td>Timeline</td>\n",
       "      <td>Paul Walker|Frances O'Connor|Gerard Butler|Bil...</td>\n",
       "      <td>Richard Donner</td>\n",
       "      <td>They had to travel into the past to save the f...</td>\n",
       "      <td>A group of archaeological students become trap...</td>\n",
       "      <td>116</td>\n",
       "      <td>Action|Adventure|Science Fiction</td>\n",
       "      <td>Paramount Pictures|Donners' Company|Mutual Fil...</td>\n",
       "      <td>2003-11-26</td>\n",
       "      <td>5.1</td>\n",
       "      <td>2003</td>\n",
       "      <td>-60519261</td>\n",
       "      <td>Nov</td>\n",
       "    </tr>\n",
       "    <tr>\n",
       "      <th>1722</th>\n",
       "      <td>tt0435705</td>\n",
       "      <td>70000000</td>\n",
       "      <td>18211013</td>\n",
       "      <td>Next</td>\n",
       "      <td>Nicolas Cage|Julianne Moore|Jessica Biel|Thoma...</td>\n",
       "      <td>Lee Tamahori</td>\n",
       "      <td>If you can see the future, you can save it.</td>\n",
       "      <td>Las Vegas showroom magician Cris Johnson has a...</td>\n",
       "      <td>96</td>\n",
       "      <td>Action|Science Fiction|Thriller</td>\n",
       "      <td>Paramount Pictures|Virtual Studios|Revolution ...</td>\n",
       "      <td>2007-04-24</td>\n",
       "      <td>5.9</td>\n",
       "      <td>2007</td>\n",
       "      <td>-51788987</td>\n",
       "      <td>Apr</td>\n",
       "    </tr>\n",
       "    <tr>\n",
       "      <th>1623</th>\n",
       "      <td>tt0375173</td>\n",
       "      <td>60000000</td>\n",
       "      <td>13395939</td>\n",
       "      <td>Alfie</td>\n",
       "      <td>Jude Law|Marisa Tomei|Omar Epps|Jane Krakowski...</td>\n",
       "      <td>Charles Shyer</td>\n",
       "      <td>Meet a man who never met a woman he didn't love.</td>\n",
       "      <td>In Manhattan, the British limousine driver Alf...</td>\n",
       "      <td>103</td>\n",
       "      <td>Comedy</td>\n",
       "      <td>Paramount Pictures|Patalex Productions</td>\n",
       "      <td>2004-10-22</td>\n",
       "      <td>5.4</td>\n",
       "      <td>2004</td>\n",
       "      <td>-46604061</td>\n",
       "      <td>Oct</td>\n",
       "    </tr>\n",
       "    <tr>\n",
       "      <th>1631</th>\n",
       "      <td>tt0315297</td>\n",
       "      <td>50000000</td>\n",
       "      <td>25195000</td>\n",
       "      <td>Twisted</td>\n",
       "      <td>Ashley Judd|Samuel L. Jackson|Andy GarcÃ­a|Dav...</td>\n",
       "      <td>Philip Kaufman</td>\n",
       "      <td>Every murder has a mark.</td>\n",
       "      <td>Recently promoted and transferred to the homic...</td>\n",
       "      <td>97</td>\n",
       "      <td>Action|Adventure|Crime|Drama|Thriller</td>\n",
       "      <td>Paramount Pictures|Kopelson Entertainment|Harl...</td>\n",
       "      <td>2004-02-27</td>\n",
       "      <td>5.7</td>\n",
       "      <td>2004</td>\n",
       "      <td>-24805000</td>\n",
       "      <td>Feb</td>\n",
       "    </tr>\n",
       "    <tr>\n",
       "      <th>587</th>\n",
       "      <td>tt0249478</td>\n",
       "      <td>75000000</td>\n",
       "      <td>54249294</td>\n",
       "      <td>Domestic Disturbance</td>\n",
       "      <td>John Travolta|Vince Vaughn|Teri Polo|Matt O'Le...</td>\n",
       "      <td>Harold Becker</td>\n",
       "      <td>He will do anything to protect his family.</td>\n",
       "      <td>A divorced father discovers that his 12-year-o...</td>\n",
       "      <td>89</td>\n",
       "      <td>Mystery|Thriller|Crime</td>\n",
       "      <td>Paramount Pictures</td>\n",
       "      <td>2001-10-30</td>\n",
       "      <td>5.4</td>\n",
       "      <td>2001</td>\n",
       "      <td>-20750706</td>\n",
       "      <td>Oct</td>\n",
       "    </tr>\n",
       "    <tr>\n",
       "      <th>667</th>\n",
       "      <td>tt0811138</td>\n",
       "      <td>62000000</td>\n",
       "      <td>41819064</td>\n",
       "      <td>The Love Guru</td>\n",
       "      <td>Mike Myers|Jessica Alba|Justin Timberlake|Roma...</td>\n",
       "      <td>Marco Schnabel</td>\n",
       "      <td>His Karma is Huge</td>\n",
       "      <td>Born in America and raised in an Indian ashram...</td>\n",
       "      <td>87</td>\n",
       "      <td>Comedy|Romance</td>\n",
       "      <td>Paramount Pictures|Goldcrest Pictures|Internat...</td>\n",
       "      <td>2008-06-20</td>\n",
       "      <td>4.5</td>\n",
       "      <td>2008</td>\n",
       "      <td>-20180936</td>\n",
       "      <td>Jun</td>\n",
       "    </tr>\n",
       "    <tr>\n",
       "      <th>1059</th>\n",
       "      <td>tt0763831</td>\n",
       "      <td>40000000</td>\n",
       "      <td>22044277</td>\n",
       "      <td>A Thousand Words</td>\n",
       "      <td>Eddie Murphy|Allison Janney|Cliff Curtis|Clark...</td>\n",
       "      <td>Brian Robbins</td>\n",
       "      <td>He only has 1000 words left to discover what m...</td>\n",
       "      <td>Jack McCall is a fast-talking literary agent, ...</td>\n",
       "      <td>91</td>\n",
       "      <td>Drama|Comedy</td>\n",
       "      <td>Paramount Pictures|DreamWorks SKG|Saturn Films...</td>\n",
       "      <td>2012-03-07</td>\n",
       "      <td>5.8</td>\n",
       "      <td>2012</td>\n",
       "      <td>-17955723</td>\n",
       "      <td>Mar</td>\n",
       "    </tr>\n",
       "    <tr>\n",
       "      <th>436</th>\n",
       "      <td>tt0964517</td>\n",
       "      <td>25000000</td>\n",
       "      <td>9190869</td>\n",
       "      <td>The Fighter</td>\n",
       "      <td>Mark Wahlberg|Christian Bale|Amy Adams|Melissa...</td>\n",
       "      <td>David O. Russell</td>\n",
       "      <td>Every dream deserves a fighting chance.</td>\n",
       "      <td>The Fighter, is a drama about boxer \"Irish\" Mi...</td>\n",
       "      <td>116</td>\n",
       "      <td>Drama</td>\n",
       "      <td>Paramount Pictures</td>\n",
       "      <td>2010-12-17</td>\n",
       "      <td>7.1</td>\n",
       "      <td>2010</td>\n",
       "      <td>-15809131</td>\n",
       "      <td>Dec</td>\n",
       "    </tr>\n",
       "    <tr>\n",
       "      <th>959</th>\n",
       "      <td>tt0267248</td>\n",
       "      <td>25000000</td>\n",
       "      <td>10719357</td>\n",
       "      <td>Abandon</td>\n",
       "      <td>Katie Holmes|Benjamin Bratt|Charlie Hunnam|Zoo...</td>\n",
       "      <td>Stephen Gaghan</td>\n",
       "      <td>Watch who you leave behind.</td>\n",
       "      <td>A psychological thriller about a senior at one...</td>\n",
       "      <td>99</td>\n",
       "      <td>Drama|Mystery|Thriller</td>\n",
       "      <td>Paramount Pictures|Spyglass Entertainment|Touc...</td>\n",
       "      <td>2002-10-14</td>\n",
       "      <td>4.9</td>\n",
       "      <td>2002</td>\n",
       "      <td>-14280643</td>\n",
       "      <td>Oct</td>\n",
       "    </tr>\n",
       "    <tr>\n",
       "      <th>1660</th>\n",
       "      <td>tt0324127</td>\n",
       "      <td>27000000</td>\n",
       "      <td>13000000</td>\n",
       "      <td>Suspect Zero</td>\n",
       "      <td>Carrie-Anne Moss|Aaron Eckhart|Ben Kingsley|Ha...</td>\n",
       "      <td>E. Elias Merhige</td>\n",
       "      <td>Who's next?</td>\n",
       "      <td>A killer is on the loose, and an FBI agent sif...</td>\n",
       "      <td>99</td>\n",
       "      <td>Crime|Thriller</td>\n",
       "      <td>Paramount Pictures|Cruise/Wagner Productions|L...</td>\n",
       "      <td>2004-08-27</td>\n",
       "      <td>5.1</td>\n",
       "      <td>2004</td>\n",
       "      <td>-14000000</td>\n",
       "      <td>Aug</td>\n",
       "    </tr>\n",
       "    <tr>\n",
       "      <th>961</th>\n",
       "      <td>tt0261289</td>\n",
       "      <td>29000000</td>\n",
       "      <td>16930185</td>\n",
       "      <td>Serving Sara</td>\n",
       "      <td>Matthew Perry|Elizabeth Hurley|Vincent Pastore...</td>\n",
       "      <td>Reginald Hudlin</td>\n",
       "      <td>The One Thing That Could Bring Them Together I...</td>\n",
       "      <td>Serving Sara is a 2002 romantic comedy film wh...</td>\n",
       "      <td>100</td>\n",
       "      <td>Comedy|Romance</td>\n",
       "      <td>Paramount Pictures</td>\n",
       "      <td>2002-08-20</td>\n",
       "      <td>5.1</td>\n",
       "      <td>2002</td>\n",
       "      <td>-12069815</td>\n",
       "      <td>Aug</td>\n",
       "    </tr>\n",
       "    <tr>\n",
       "      <th>1589</th>\n",
       "      <td>tt0346156</td>\n",
       "      <td>70000000</td>\n",
       "      <td>57958696</td>\n",
       "      <td>Sky Captain and the World of Tomorrow</td>\n",
       "      <td>Jude Law|Gwyneth Paltrow|Giovanni Ribisi|Angel...</td>\n",
       "      <td>Kerry Conran</td>\n",
       "      <td>Who will save us?</td>\n",
       "      <td>When gigantic robots attack New York City, \"Sk...</td>\n",
       "      <td>107</td>\n",
       "      <td>Mystery|Action|Thriller|Science Fiction|Adventure</td>\n",
       "      <td>Paramount Pictures|Natural Nylon Entertainment...</td>\n",
       "      <td>2004-09-17</td>\n",
       "      <td>5.7</td>\n",
       "      <td>2004</td>\n",
       "      <td>-12041304</td>\n",
       "      <td>Sep</td>\n",
       "    </tr>\n",
       "    <tr>\n",
       "      <th>1405</th>\n",
       "      <td>tt0318649</td>\n",
       "      <td>130000000</td>\n",
       "      <td>119269486</td>\n",
       "      <td>Sahara</td>\n",
       "      <td>Matthew McConaughey|PenÃ©lope Cruz|Steve Zahn|...</td>\n",
       "      <td>Breck Eisner</td>\n",
       "      <td>Dirk Pitt. Adventure has a new name.</td>\n",
       "      <td>Scouring the ocean depths for treasure-laden s...</td>\n",
       "      <td>124</td>\n",
       "      <td>Action|Adventure|Comedy|Drama|Mystery</td>\n",
       "      <td>Paramount Pictures|Bristol Bay Productions|Bal...</td>\n",
       "      <td>2005-04-06</td>\n",
       "      <td>5.6</td>\n",
       "      <td>2005</td>\n",
       "      <td>-10730514</td>\n",
       "      <td>Apr</td>\n",
       "    </tr>\n",
       "    <tr>\n",
       "      <th>1325</th>\n",
       "      <td>tt0402022</td>\n",
       "      <td>62000000</td>\n",
       "      <td>52304001</td>\n",
       "      <td>Ã†on Flux</td>\n",
       "      <td>Charlize Theron|Marton Csokas|Jonny Lee Miller...</td>\n",
       "      <td>Karyn Kusama</td>\n",
       "      <td>The Perfect World Meets The Perfect Assassin</td>\n",
       "      <td>400 years into the future, disease has wiped o...</td>\n",
       "      <td>93</td>\n",
       "      <td>Action|Science Fiction</td>\n",
       "      <td>Paramount Pictures|Lakeshore Entertainment|MTV...</td>\n",
       "      <td>2005-11-30</td>\n",
       "      <td>5.3</td>\n",
       "      <td>2005</td>\n",
       "      <td>-9695999</td>\n",
       "      <td>Nov</td>\n",
       "    </tr>\n",
       "    <tr>\n",
       "      <th>180</th>\n",
       "      <td>tt1205537</td>\n",
       "      <td>60000000</td>\n",
       "      <td>50549107</td>\n",
       "      <td>Jack Ryan: Shadow Recruit</td>\n",
       "      <td>Chris Pine|Keira Knightley|Kevin Costner|Nonso...</td>\n",
       "      <td>Kenneth Branagh</td>\n",
       "      <td>Trust no one.</td>\n",
       "      <td>Jack Ryan, as a young covert CIA analyst, unco...</td>\n",
       "      <td>105</td>\n",
       "      <td>Action|Drama|Thriller</td>\n",
       "      <td>Paramount Pictures|Di Bonaventura Pictures|Mac...</td>\n",
       "      <td>2014-01-15</td>\n",
       "      <td>5.9</td>\n",
       "      <td>2014</td>\n",
       "      <td>-9450893</td>\n",
       "      <td>Jan</td>\n",
       "    </tr>\n",
       "    <tr>\n",
       "      <th>1390</th>\n",
       "      <td>tt0384680</td>\n",
       "      <td>20000000</td>\n",
       "      <td>12482775</td>\n",
       "      <td>The Weather Man</td>\n",
       "      <td>Nicolas Cage|Michael Caine|Hope Davis|Gemmenne...</td>\n",
       "      <td>Gore Verbinski</td>\n",
       "      <td>Dave Spritz is about to take his best shot . ....</td>\n",
       "      <td>A Chicago weather man, separated from his wife...</td>\n",
       "      <td>101</td>\n",
       "      <td>Comedy|Drama</td>\n",
       "      <td>Paramount Pictures|Escape Artists|Kumar Mobili...</td>\n",
       "      <td>2005-10-20</td>\n",
       "      <td>5.7</td>\n",
       "      <td>2005</td>\n",
       "      <td>-7517225</td>\n",
       "      <td>Oct</td>\n",
       "    </tr>\n",
       "    <tr>\n",
       "      <th>1533</th>\n",
       "      <td>tt0408985</td>\n",
       "      <td>45000000</td>\n",
       "      <td>38399961</td>\n",
       "      <td>Last Holiday</td>\n",
       "      <td>Queen Latifah|LL Cool J|Timothy Hutton|Giancar...</td>\n",
       "      <td>Wayne Wang</td>\n",
       "      <td>She always thought she was somebody special......</td>\n",
       "      <td>After she's diagnosed with a terminal illness,...</td>\n",
       "      <td>112</td>\n",
       "      <td>Adventure|Comedy|Drama</td>\n",
       "      <td>Paramount Pictures</td>\n",
       "      <td>2006-01-13</td>\n",
       "      <td>6.4</td>\n",
       "      <td>2006</td>\n",
       "      <td>-6600039</td>\n",
       "      <td>Jan</td>\n",
       "    </tr>\n",
       "    <tr>\n",
       "      <th>944</th>\n",
       "      <td>tt0240510</td>\n",
       "      <td>35000000</td>\n",
       "      <td>29882645</td>\n",
       "      <td>The Four Feathers</td>\n",
       "      <td>Heath Ledger|Wes Bentley|Kate Hudson|Djimon Ho...</td>\n",
       "      <td>Shekhar Kapur</td>\n",
       "      <td>Freedom. Country. Honor. Passion. To save his ...</td>\n",
       "      <td>The story, set in 1875, follows a British offi...</td>\n",
       "      <td>132</td>\n",
       "      <td>War|Adventure|Drama|Romance</td>\n",
       "      <td>Paramount Pictures|Miramax Films|Marty Katz Pr...</td>\n",
       "      <td>2002-09-08</td>\n",
       "      <td>6.4</td>\n",
       "      <td>2002</td>\n",
       "      <td>-5117355</td>\n",
       "      <td>Sep</td>\n",
       "    </tr>\n",
       "    <tr>\n",
       "      <th>1355</th>\n",
       "      <td>tt0368709</td>\n",
       "      <td>57000000</td>\n",
       "      <td>52034889</td>\n",
       "      <td>Elizabethtown</td>\n",
       "      <td>Orlando Bloom|Kirsten Dunst|Susan Sarandon|Ale...</td>\n",
       "      <td>Cameron Crowe</td>\n",
       "      <td>It's a heck of a place to find yourself</td>\n",
       "      <td>Drew Baylor is fired after causing his shoe co...</td>\n",
       "      <td>123</td>\n",
       "      <td>Comedy|Drama|Romance</td>\n",
       "      <td>Paramount Pictures|Cruise/Wagner Productions|V...</td>\n",
       "      <td>2005-09-03</td>\n",
       "      <td>6.0</td>\n",
       "      <td>2005</td>\n",
       "      <td>-4965111</td>\n",
       "      <td>Sep</td>\n",
       "    </tr>\n",
       "    <tr>\n",
       "      <th>1068</th>\n",
       "      <td>tt1663143</td>\n",
       "      <td>14000000</td>\n",
       "      <td>11417362</td>\n",
       "      <td>Fun Size</td>\n",
       "      <td>Victoria Justice|Jackson Nicoll|Chelsea Handle...</td>\n",
       "      <td>Josh Schwartz</td>\n",
       "      <td>Some people just can't handle Halloween.</td>\n",
       "      <td>Wren (Victoria Justice) is invited to a Hallow...</td>\n",
       "      <td>87</td>\n",
       "      <td>Comedy</td>\n",
       "      <td>Paramount Pictures|Nickelodeon Movies|Anonymou...</td>\n",
       "      <td>2012-10-25</td>\n",
       "      <td>5.4</td>\n",
       "      <td>2012</td>\n",
       "      <td>-2582638</td>\n",
       "      <td>Oct</td>\n",
       "    </tr>\n",
       "  </tbody>\n",
       "</table>\n",
       "</div>"
      ],
      "text/plain": [
       "        imdb_id     budget    revenue                         original_title  \\\n",
       "925   tt0267626  100000000   35168966                   K-19: The Widowmaker   \n",
       "1123  tt0300556   80000000   19480739                               Timeline   \n",
       "1722  tt0435705   70000000   18211013                                   Next   \n",
       "1623  tt0375173   60000000   13395939                                  Alfie   \n",
       "1631  tt0315297   50000000   25195000                                Twisted   \n",
       "587   tt0249478   75000000   54249294                   Domestic Disturbance   \n",
       "667   tt0811138   62000000   41819064                          The Love Guru   \n",
       "1059  tt0763831   40000000   22044277                       A Thousand Words   \n",
       "436   tt0964517   25000000    9190869                            The Fighter   \n",
       "959   tt0267248   25000000   10719357                                Abandon   \n",
       "1660  tt0324127   27000000   13000000                           Suspect Zero   \n",
       "961   tt0261289   29000000   16930185                           Serving Sara   \n",
       "1589  tt0346156   70000000   57958696  Sky Captain and the World of Tomorrow   \n",
       "1405  tt0318649  130000000  119269486                                 Sahara   \n",
       "1325  tt0402022   62000000   52304001                              Ã†on Flux   \n",
       "180   tt1205537   60000000   50549107              Jack Ryan: Shadow Recruit   \n",
       "1390  tt0384680   20000000   12482775                        The Weather Man   \n",
       "1533  tt0408985   45000000   38399961                           Last Holiday   \n",
       "944   tt0240510   35000000   29882645                      The Four Feathers   \n",
       "1355  tt0368709   57000000   52034889                          Elizabethtown   \n",
       "1068  tt1663143   14000000   11417362                               Fun Size   \n",
       "\n",
       "                                                   cast          director  \\\n",
       "925   Harrison Ford|Liam Neeson|Peter Sarsgaard|Joss...   Kathryn Bigelow   \n",
       "1123  Paul Walker|Frances O'Connor|Gerard Butler|Bil...    Richard Donner   \n",
       "1722  Nicolas Cage|Julianne Moore|Jessica Biel|Thoma...      Lee Tamahori   \n",
       "1623  Jude Law|Marisa Tomei|Omar Epps|Jane Krakowski...     Charles Shyer   \n",
       "1631  Ashley Judd|Samuel L. Jackson|Andy GarcÃ­a|Dav...    Philip Kaufman   \n",
       "587   John Travolta|Vince Vaughn|Teri Polo|Matt O'Le...     Harold Becker   \n",
       "667   Mike Myers|Jessica Alba|Justin Timberlake|Roma...    Marco Schnabel   \n",
       "1059  Eddie Murphy|Allison Janney|Cliff Curtis|Clark...     Brian Robbins   \n",
       "436   Mark Wahlberg|Christian Bale|Amy Adams|Melissa...  David O. Russell   \n",
       "959   Katie Holmes|Benjamin Bratt|Charlie Hunnam|Zoo...    Stephen Gaghan   \n",
       "1660  Carrie-Anne Moss|Aaron Eckhart|Ben Kingsley|Ha...  E. Elias Merhige   \n",
       "961   Matthew Perry|Elizabeth Hurley|Vincent Pastore...   Reginald Hudlin   \n",
       "1589  Jude Law|Gwyneth Paltrow|Giovanni Ribisi|Angel...      Kerry Conran   \n",
       "1405  Matthew McConaughey|PenÃ©lope Cruz|Steve Zahn|...      Breck Eisner   \n",
       "1325  Charlize Theron|Marton Csokas|Jonny Lee Miller...      Karyn Kusama   \n",
       "180   Chris Pine|Keira Knightley|Kevin Costner|Nonso...   Kenneth Branagh   \n",
       "1390  Nicolas Cage|Michael Caine|Hope Davis|Gemmenne...    Gore Verbinski   \n",
       "1533  Queen Latifah|LL Cool J|Timothy Hutton|Giancar...        Wayne Wang   \n",
       "944   Heath Ledger|Wes Bentley|Kate Hudson|Djimon Ho...     Shekhar Kapur   \n",
       "1355  Orlando Bloom|Kirsten Dunst|Susan Sarandon|Ale...     Cameron Crowe   \n",
       "1068  Victoria Justice|Jackson Nicoll|Chelsea Handle...     Josh Schwartz   \n",
       "\n",
       "                                                tagline  \\\n",
       "925                            Fate has found its hero.   \n",
       "1123  They had to travel into the past to save the f...   \n",
       "1722        If you can see the future, you can save it.   \n",
       "1623   Meet a man who never met a woman he didn't love.   \n",
       "1631                           Every murder has a mark.   \n",
       "587          He will do anything to protect his family.   \n",
       "667                                   His Karma is Huge   \n",
       "1059  He only has 1000 words left to discover what m...   \n",
       "436             Every dream deserves a fighting chance.   \n",
       "959                         Watch who you leave behind.   \n",
       "1660                                        Who's next?   \n",
       "961   The One Thing That Could Bring Them Together I...   \n",
       "1589                                  Who will save us?   \n",
       "1405               Dirk Pitt. Adventure has a new name.   \n",
       "1325       The Perfect World Meets The Perfect Assassin   \n",
       "180                                       Trust no one.   \n",
       "1390  Dave Spritz is about to take his best shot . ....   \n",
       "1533  She always thought she was somebody special......   \n",
       "944   Freedom. Country. Honor. Passion. To save his ...   \n",
       "1355            It's a heck of a place to find yourself   \n",
       "1068           Some people just can't handle Halloween.   \n",
       "\n",
       "                                               overview  runtime  \\\n",
       "925   When Russia's first nuclear submarine malfunct...      138   \n",
       "1123  A group of archaeological students become trap...      116   \n",
       "1722  Las Vegas showroom magician Cris Johnson has a...       96   \n",
       "1623  In Manhattan, the British limousine driver Alf...      103   \n",
       "1631  Recently promoted and transferred to the homic...       97   \n",
       "587   A divorced father discovers that his 12-year-o...       89   \n",
       "667   Born in America and raised in an Indian ashram...       87   \n",
       "1059  Jack McCall is a fast-talking literary agent, ...       91   \n",
       "436   The Fighter, is a drama about boxer \"Irish\" Mi...      116   \n",
       "959   A psychological thriller about a senior at one...       99   \n",
       "1660  A killer is on the loose, and an FBI agent sif...       99   \n",
       "961   Serving Sara is a 2002 romantic comedy film wh...      100   \n",
       "1589  When gigantic robots attack New York City, \"Sk...      107   \n",
       "1405  Scouring the ocean depths for treasure-laden s...      124   \n",
       "1325  400 years into the future, disease has wiped o...       93   \n",
       "180   Jack Ryan, as a young covert CIA analyst, unco...      105   \n",
       "1390  A Chicago weather man, separated from his wife...      101   \n",
       "1533  After she's diagnosed with a terminal illness,...      112   \n",
       "944   The story, set in 1875, follows a British offi...      132   \n",
       "1355  Drew Baylor is fired after causing his shoe co...      123   \n",
       "1068  Wren (Victoria Justice) is invited to a Hallow...       87   \n",
       "\n",
       "                                                 genres  \\\n",
       "925                              Thriller|Drama|History   \n",
       "1123                   Action|Adventure|Science Fiction   \n",
       "1722                    Action|Science Fiction|Thriller   \n",
       "1623                                             Comedy   \n",
       "1631              Action|Adventure|Crime|Drama|Thriller   \n",
       "587                              Mystery|Thriller|Crime   \n",
       "667                                      Comedy|Romance   \n",
       "1059                                       Drama|Comedy   \n",
       "436                                               Drama   \n",
       "959                              Drama|Mystery|Thriller   \n",
       "1660                                     Crime|Thriller   \n",
       "961                                      Comedy|Romance   \n",
       "1589  Mystery|Action|Thriller|Science Fiction|Adventure   \n",
       "1405              Action|Adventure|Comedy|Drama|Mystery   \n",
       "1325                             Action|Science Fiction   \n",
       "180                               Action|Drama|Thriller   \n",
       "1390                                       Comedy|Drama   \n",
       "1533                             Adventure|Comedy|Drama   \n",
       "944                         War|Adventure|Drama|Romance   \n",
       "1355                               Comedy|Drama|Romance   \n",
       "1068                                             Comedy   \n",
       "\n",
       "                                   production_companies release_date  \\\n",
       "925   Paramount Pictures|Intermedia Films|National G...   2002-07-19   \n",
       "1123  Paramount Pictures|Donners' Company|Mutual Fil...   2003-11-26   \n",
       "1722  Paramount Pictures|Virtual Studios|Revolution ...   2007-04-24   \n",
       "1623             Paramount Pictures|Patalex Productions   2004-10-22   \n",
       "1631  Paramount Pictures|Kopelson Entertainment|Harl...   2004-02-27   \n",
       "587                                  Paramount Pictures   2001-10-30   \n",
       "667   Paramount Pictures|Goldcrest Pictures|Internat...   2008-06-20   \n",
       "1059  Paramount Pictures|DreamWorks SKG|Saturn Films...   2012-03-07   \n",
       "436                                  Paramount Pictures   2010-12-17   \n",
       "959   Paramount Pictures|Spyglass Entertainment|Touc...   2002-10-14   \n",
       "1660  Paramount Pictures|Cruise/Wagner Productions|L...   2004-08-27   \n",
       "961                                  Paramount Pictures   2002-08-20   \n",
       "1589  Paramount Pictures|Natural Nylon Entertainment...   2004-09-17   \n",
       "1405  Paramount Pictures|Bristol Bay Productions|Bal...   2005-04-06   \n",
       "1325  Paramount Pictures|Lakeshore Entertainment|MTV...   2005-11-30   \n",
       "180   Paramount Pictures|Di Bonaventura Pictures|Mac...   2014-01-15   \n",
       "1390  Paramount Pictures|Escape Artists|Kumar Mobili...   2005-10-20   \n",
       "1533                                 Paramount Pictures   2006-01-13   \n",
       "944   Paramount Pictures|Miramax Films|Marty Katz Pr...   2002-09-08   \n",
       "1355  Paramount Pictures|Cruise/Wagner Productions|V...   2005-09-03   \n",
       "1068  Paramount Pictures|Nickelodeon Movies|Anonymou...   2012-10-25   \n",
       "\n",
       "      vote_average  release_year    profit month  \n",
       "925            6.0          2002 -64831034   Jul  \n",
       "1123           5.1          2003 -60519261   Nov  \n",
       "1722           5.9          2007 -51788987   Apr  \n",
       "1623           5.4          2004 -46604061   Oct  \n",
       "1631           5.7          2004 -24805000   Feb  \n",
       "587            5.4          2001 -20750706   Oct  \n",
       "667            4.5          2008 -20180936   Jun  \n",
       "1059           5.8          2012 -17955723   Mar  \n",
       "436            7.1          2010 -15809131   Dec  \n",
       "959            4.9          2002 -14280643   Oct  \n",
       "1660           5.1          2004 -14000000   Aug  \n",
       "961            5.1          2002 -12069815   Aug  \n",
       "1589           5.7          2004 -12041304   Sep  \n",
       "1405           5.6          2005 -10730514   Apr  \n",
       "1325           5.3          2005  -9695999   Nov  \n",
       "180            5.9          2014  -9450893   Jan  \n",
       "1390           5.7          2005  -7517225   Oct  \n",
       "1533           6.4          2006  -6600039   Jan  \n",
       "944            6.4          2002  -5117355   Sep  \n",
       "1355           6.0          2005  -4965111   Sep  \n",
       "1068           5.4          2012  -2582638   Oct  "
      ]
     },
     "execution_count": 42,
     "metadata": {},
     "output_type": "execute_result"
    }
   ],
   "source": [
    "data[data.production_companies.str.contains(\"Paramount Pictures\")].query('profit<0').sort_values('profit')"
   ]
  },
  {
   "cell_type": "markdown",
   "metadata": {
    "colab_type": "text",
    "id": "vS8Ur6ddVp_u"
   },
   "source": [
    "# 19. Какой год стал самым успешным по суммарным кассовым сборам?"
   ]
  },
  {
   "cell_type": "code",
   "execution_count": 43,
   "metadata": {},
   "outputs": [],
   "source": [
    "answers['19'] = '5. 2015'"
   ]
  },
  {
   "cell_type": "code",
   "execution_count": 44,
   "metadata": {
    "colab": {},
    "colab_type": "code",
    "id": "Dnbt4GdIVp_v"
   },
   "outputs": [
    {
     "data": {
      "text/plain": [
       "2015"
      ]
     },
     "execution_count": 44,
     "metadata": {},
     "output_type": "execute_result"
    }
   ],
   "source": [
    "data.groupby('release_year')['revenue'].sum().sort_values(ascending=False).index[0]"
   ]
  },
  {
   "cell_type": "markdown",
   "metadata": {
    "colab_type": "text",
    "id": "JAzJh4QAVp_z"
   },
   "source": [
    "# 20. Какой самый прибыльный год для студии Warner Bros?"
   ]
  },
  {
   "cell_type": "code",
   "execution_count": 45,
   "metadata": {},
   "outputs": [],
   "source": [
    "answers['20'] = '1. 2014'"
   ]
  },
  {
   "cell_type": "code",
   "execution_count": 46,
   "metadata": {
    "colab": {},
    "colab_type": "code",
    "id": "wgVu02DEVp_0"
   },
   "outputs": [
    {
     "data": {
      "text/plain": [
       "2014"
      ]
     },
     "execution_count": 46,
     "metadata": {},
     "output_type": "execute_result"
    }
   ],
   "source": [
    "data[data.production_companies.str.contains('Warner Bros')].groupby('release_year')['profit']\\\n",
    "                                                            .sum().sort_values(ascending=False).index[0]"
   ]
  },
  {
   "cell_type": "markdown",
   "metadata": {
    "colab_type": "text",
    "id": "8Im1S2HRVp_4"
   },
   "source": [
    "# 21. В каком месяце за все годы суммарно вышло больше всего фильмов?"
   ]
  },
  {
   "cell_type": "code",
   "execution_count": 47,
   "metadata": {},
   "outputs": [],
   "source": [
    "answers['21'] = '4. Сентябрь'"
   ]
  },
  {
   "cell_type": "code",
   "execution_count": 48,
   "metadata": {
    "colab": {},
    "colab_type": "code",
    "id": "lev6TH7gVp_4"
   },
   "outputs": [
    {
     "data": {
      "text/plain": [
       "'Sep'"
      ]
     },
     "execution_count": 48,
     "metadata": {},
     "output_type": "execute_result"
    }
   ],
   "source": [
    "data.groupby('month')['original_title'].count().sort_values(ascending=False).index[0]"
   ]
  },
  {
   "cell_type": "markdown",
   "metadata": {
    "colab_type": "text",
    "id": "uAJsZ_NeVp_7"
   },
   "source": [
    "# 22. Сколько суммарно вышло фильмов летом? (за июнь, июль, август)"
   ]
  },
  {
   "cell_type": "code",
   "execution_count": 49,
   "metadata": {},
   "outputs": [],
   "source": [
    "answers['22'] = '2. 450'"
   ]
  },
  {
   "cell_type": "code",
   "execution_count": 50,
   "metadata": {
    "colab": {},
    "colab_type": "code",
    "id": "Aa-hEREoVp_8",
    "scrolled": true
   },
   "outputs": [
    {
     "data": {
      "text/plain": [
       "450"
      ]
     },
     "execution_count": 50,
     "metadata": {},
     "output_type": "execute_result"
    }
   ],
   "source": [
    "data.query('month==[\"Jun\",\"Jul\",\"Aug\"]').original_title.count()"
   ]
  },
  {
   "cell_type": "markdown",
   "metadata": {
    "colab_type": "text",
    "id": "G94ppOY1VqAA"
   },
   "source": [
    "# 23. Для какого режиссера зима – самое продуктивное время года? "
   ]
  },
  {
   "cell_type": "code",
   "execution_count": 51,
   "metadata": {},
   "outputs": [],
   "source": [
    "answers['23'] = '5. Peter Jackson'"
   ]
  },
  {
   "cell_type": "code",
   "execution_count": 52,
   "metadata": {
    "colab": {},
    "colab_type": "code",
    "id": "RhNTsamuVqAB"
   },
   "outputs": [
    {
     "data": {
      "text/plain": [
       "'Peter Jackson'"
      ]
     },
     "execution_count": 52,
     "metadata": {},
     "output_type": "execute_result"
    }
   ],
   "source": [
    "data_director = data.copy()\n",
    "data_director['director'] = data.director.apply(lambda x: x.split('|'))\n",
    "data_director.explode('director').query('month == [\"Dec\", \"Jan\", \"Feb\"]').groupby('director')['original_title'].count().sort_values(ascending=False).index[0]"
   ]
  },
  {
   "cell_type": "markdown",
   "metadata": {
    "colab_type": "text",
    "id": "RBo0JVjVVqAF"
   },
   "source": [
    "# 24. Какая студия дает самые длинные названия своим фильмам по количеству символов?"
   ]
  },
  {
   "cell_type": "code",
   "execution_count": 53,
   "metadata": {},
   "outputs": [],
   "source": [
    "answers['24'] = '5. Four By Two Productions'"
   ]
  },
  {
   "cell_type": "code",
   "execution_count": 54,
   "metadata": {
    "colab": {},
    "colab_type": "code",
    "id": "QRGS8L0iVqAG"
   },
   "outputs": [
    {
     "data": {
      "text/plain": [
       "'Four By Two Productions'"
      ]
     },
     "execution_count": 54,
     "metadata": {},
     "output_type": "execute_result"
    }
   ],
   "source": [
    "data_len = data.copy()\n",
    "data_len['length'] = data_len.original_title.apply(lambda x: len(x))\n",
    "data_len['production_companies'] = data_len.production_companies.apply(lambda x: x.split('|'))\n",
    "data_len.explode('production_companies').groupby('production_companies')['length'].mean().sort_values(ascending=False).index[0]"
   ]
  },
  {
   "cell_type": "markdown",
   "metadata": {
    "colab_type": "text",
    "id": "9G0hbvR7VqAK"
   },
   "source": [
    "# 25. Описание фильмов какой студии в среднем самые длинные по количеству слов?"
   ]
  },
  {
   "cell_type": "code",
   "execution_count": 55,
   "metadata": {},
   "outputs": [],
   "source": [
    "answers['25'] = '3. Midnight Picture Show'"
   ]
  },
  {
   "cell_type": "code",
   "execution_count": 56,
   "metadata": {
    "colab": {},
    "colab_type": "code",
    "id": "Ge2GsLNxVqAK"
   },
   "outputs": [
    {
     "data": {
      "text/plain": [
       "'Midnight Picture Show'"
      ]
     },
     "execution_count": 56,
     "metadata": {},
     "output_type": "execute_result"
    }
   ],
   "source": [
    "data_len_over = data.copy()\n",
    "data_len_over['length_over'] = data_len_over.overview.apply(lambda x: len(x))\n",
    "data_len_over['production_companies'] = data_len_over.production_companies.apply(lambda x: x.split('|'))\n",
    "data_len_over.explode('production_companies').groupby('production_companies')['length_over'].mean().sort_values(ascending=False).index[0]"
   ]
  },
  {
   "cell_type": "markdown",
   "metadata": {
    "colab_type": "text",
    "id": "FJ1AFt90VqAP"
   },
   "source": [
    "# 26. Какие фильмы входят в 1 процент лучших по рейтингу? \n",
    "по vote_average"
   ]
  },
  {
   "cell_type": "code",
   "execution_count": 57,
   "metadata": {},
   "outputs": [],
   "source": [
    "answers['26'] = '1. Inside Out, The Dark Knight, 12 Years a Slave'"
   ]
  },
  {
   "cell_type": "code",
   "execution_count": 58,
   "metadata": {
    "colab": {},
    "colab_type": "code",
    "id": "8qmJVq4CVqAQ"
   },
   "outputs": [
    {
     "data": {
      "text/plain": [
       "['12 Years a Slave',\n",
       " 'Gone Girl',\n",
       " 'Guardians of the Galaxy',\n",
       " 'Inception',\n",
       " 'Inside Out',\n",
       " 'Interstellar',\n",
       " 'Memento',\n",
       " 'Room',\n",
       " 'The Dark Knight',\n",
       " 'The Grand Budapest Hotel',\n",
       " 'The Imitation Game',\n",
       " 'The Lord of the Rings: The Return of the King',\n",
       " 'The Pianist',\n",
       " 'The Wolf of Wall Street']"
      ]
     },
     "execution_count": 58,
     "metadata": {},
     "output_type": "execute_result"
    }
   ],
   "source": [
    "one_percent = np.quantile(data.vote_average, 0.99)\n",
    "data.query('vote_average>@one_percent').original_title.sort_values().to_list()"
   ]
  },
  {
   "cell_type": "markdown",
   "metadata": {
    "colab_type": "text",
    "id": "MdXsUXbCVqAV"
   },
   "source": [
    "# 27. Какие актеры чаще всего снимаются в одном фильме вместе?\n"
   ]
  },
  {
   "cell_type": "code",
   "execution_count": 59,
   "metadata": {},
   "outputs": [],
   "source": [
    "answers['27'] = '5. Daniel Radcliffe & Rupert Grint'"
   ]
  },
  {
   "cell_type": "code",
   "execution_count": 60,
   "metadata": {},
   "outputs": [
    {
     "data": {
      "text/plain": [
       "(('Daniel Radcliffe', 'Rupert Grint'), 8)"
      ]
     },
     "execution_count": 60,
     "metadata": {},
     "output_type": "execute_result"
    }
   ],
   "source": [
    "couple_actors = data['cast'].apply(lambda x: list(itertools.combinations(x.split('|'), 2)))\n",
    "couple_actors = collections.Counter(couple_actors.explode()).most_common()[0]\n",
    "couple_actors"
   ]
  },
  {
   "cell_type": "markdown",
   "metadata": {
    "colab_type": "text",
    "id": "U0nONFnGVqAX"
   },
   "source": [
    "# Submission"
   ]
  },
  {
   "cell_type": "code",
   "execution_count": 61,
   "metadata": {
    "colab": {},
    "colab_type": "code",
    "id": "IfcaRO9-VqAX",
    "outputId": "0f132912-32bb-4196-c98c-abfbc4ad5a5f"
   },
   "outputs": [
    {
     "data": {
      "text/plain": [
       "{'1': '5. Pirates of the Caribbean: On Stranger Tides (tt1298650)',\n",
       " '2': '2. Gods and Generals (tt0279111)',\n",
       " '3': '3. Winnie the Pooh (tt1449283)',\n",
       " '4': '2. 110',\n",
       " '5': '1. 107',\n",
       " '6': '5. Avatar (tt0499549)',\n",
       " '7': '5. The Lone Ranger (tt1210819)',\n",
       " '8': '1. 1478',\n",
       " '9': '4. The Dark Knight (tt0468569)',\n",
       " '10': '5. The Lone Ranger (tt1210819)',\n",
       " '11': '3. Drama',\n",
       " '12': '1. Drama',\n",
       " '13': '5. Peter Jackson',\n",
       " '14': '3. Robert Rodriguez',\n",
       " '15': '3. Chris Hemsworth',\n",
       " '16': '3. Matt Damon',\n",
       " '17': '2. Action',\n",
       " '18': '1. K-19: The Widowmaker (tt0267626)',\n",
       " '19': '5. 2015',\n",
       " '20': '1. 2014',\n",
       " '21': '4. Сентябрь',\n",
       " '22': '2. 450',\n",
       " '23': '5. Peter Jackson',\n",
       " '24': '5. Four By Two Productions',\n",
       " '25': '3. Midnight Picture Show',\n",
       " '26': '1. Inside Out, The Dark Knight, 12 Years a Slave',\n",
       " '27': '5. Daniel Radcliffe & Rupert Grint'}"
      ]
     },
     "execution_count": 61,
     "metadata": {},
     "output_type": "execute_result"
    }
   ],
   "source": [
    "# в конце можно посмотреть свои ответы к каждому вопросу\n",
    "answers"
   ]
  },
  {
   "cell_type": "code",
   "execution_count": 62,
   "metadata": {
    "colab": {},
    "colab_type": "code",
    "id": "SiRmHPl8VqAd"
   },
   "outputs": [
    {
     "data": {
      "text/plain": [
       "27"
      ]
     },
     "execution_count": 62,
     "metadata": {},
     "output_type": "execute_result"
    }
   ],
   "source": [
    "# и убедиться что ни чего не пропустил)\n",
    "len(answers)"
   ]
  }
 ],
 "metadata": {
  "colab": {
   "name": "Copy of [SF-DST] Movies IMBD v4.1 TEMPLATE.ipynb",
   "provenance": []
  },
  "kernelspec": {
   "display_name": "Python 3",
   "language": "python",
   "name": "python3"
  },
  "language_info": {
   "codemirror_mode": {
    "name": "ipython",
    "version": 3
   },
   "file_extension": ".py",
   "mimetype": "text/x-python",
   "name": "python",
   "nbconvert_exporter": "python",
   "pygments_lexer": "ipython3",
   "version": "3.8.3"
  }
 },
 "nbformat": 4,
 "nbformat_minor": 1
}
